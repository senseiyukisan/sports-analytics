{
 "cells": [
  {
   "cell_type": "code",
   "execution_count": 3,
   "id": "36075c9b",
   "metadata": {},
   "outputs": [],
   "source": [
    "import pandas as pd\n",
    "import matplotlib.pyplot as plt\n",
    "from matplotlib.patches import Arc\n",
    "\n",
    "import plotly\n",
    "import plotly.graph_objects as go\n",
    "from PIL import Image"
   ]
  },
  {
   "cell_type": "code",
   "execution_count": 169,
   "id": "57e6a78b",
   "metadata": {},
   "outputs": [],
   "source": [
    "players = pd.read_csv(\"data/players_updated_final.csv\")"
   ]
  },
  {
   "cell_type": "code",
   "execution_count": 170,
   "id": "ca580adc",
   "metadata": {},
   "outputs": [],
   "source": [
    "class Pitch:\n",
    "    def __init__(self, players):\n",
    "        self.players = players\n",
    "        self.position_data = self.marketvalue_grouped_by_position()\n",
    "        self.position_data = self.convert_position_to_coordinates()\n",
    "        self.grouped_position_data = self.position_data[['X', 'Y', 'market_value']].groupby(['X', 'Y'])['market_value'].mean().reset_index()\n",
    "        print(self.grouped_position_data)\n",
    "\n",
    "    def marketvalue_grouped_by_position(self):\n",
    "        mean_mkt_val_pos = self.players.groupby('sub_position')['market_value'].mean().reset_index()\n",
    "        return (mean_mkt_val_pos)\n",
    "\n",
    "    def convert_position_to_coordinates(self):\n",
    "        position_coords = {\n",
    "            'Goalkeeper': (10,45),\n",
    "            'Right-Back': (25, 20), 'Centre-Back': (25, 45), 'Left-Back': (25, 70),\n",
    "            'Right Midfield': (65, 20), 'Defensive Midfield': (45, 45), 'Central Midfield': (65, 45), 'Attacking Midfield': (90, 45), 'Left Midfield': (65, 70),\n",
    "            'Right Winger': (100, 20), 'Second Striker': (90, 45), 'Centre-Forward': (110, 45), 'Left Winger': (100, 70)\n",
    "        }\n",
    "        \n",
    "        self.position_data = self.position_data.dropna(subset=['sub_position'])\n",
    "\n",
    "        self.position_data['X'] = 0\n",
    "        self.position_data['Y'] = 0\n",
    "        \n",
    "        for ind, row in self.position_data.iterrows():\n",
    "            position = row['sub_position']\n",
    "            self.position_data.at[ind, 'X'] = position_coords[position][0]\n",
    "            self.position_data.at[ind, 'Y'] = position_coords[position][1]\n",
    "        return self.position_data"
   ]
  },
  {
   "cell_type": "code",
   "execution_count": 204,
   "id": "b257b365",
   "metadata": {},
   "outputs": [
    {
     "name": "stdout",
     "output_type": "stream",
     "text": [
      "      X   Y  market_value\n",
      "0    10  45  4.053394e+06\n",
      "1    25  20  6.224934e+06\n",
      "2    25  45  8.137062e+06\n",
      "3    25  70  7.153290e+06\n",
      "4    45  45  8.369900e+06\n",
      "5    65  20  6.920217e+06\n",
      "6    65  45  1.008489e+07\n",
      "7    65  70  7.480000e+06\n",
      "8    90  45  1.195618e+07\n",
      "9   100  20  1.066853e+07\n",
      "10  100  70  1.207207e+07\n",
      "11  110  45  9.576911e+06\n"
     ]
    }
   ],
   "source": [
    "pitch = Pitch(players)"
   ]
  },
  {
   "cell_type": "code",
   "execution_count": 186,
   "id": "369ee531",
   "metadata": {},
   "outputs": [
    {
     "data": {
      "image/png": "[encoded data removed]",
      "text/plain": [
       "<Figure size 936x648 with 1 Axes>"
      ]
     },
     "metadata": {
      "needs_background": "light"
     },
     "output_type": "display_data"
    }
   ],
   "source": [
    "#Create figure\n",
    "fig=plt.figure()\n",
    "# fig.set_size_inches(4.333, 3)\n",
    "fig.set_size_inches(13, 9)\n",
    "ax=fig.add_subplot(1,1,1)\n",
    "\n",
    "#Pitch Outline & Centre Line\n",
    "plt.plot([0,0],[0,90], color=\"black\")\n",
    "plt.plot([0,130],[90,90], color=\"black\")\n",
    "plt.plot([130,130],[90,0], color=\"black\")\n",
    "plt.plot([130,0],[0,0], color=\"black\")\n",
    "plt.plot([65,65],[0,90], color=\"black\")\n",
    "\n",
    "#Left Penalty Area\n",
    "plt.plot([16.5,16.5],[65,25],color=\"black\")\n",
    "plt.plot([0,16.5],[65,65],color=\"black\")\n",
    "plt.plot([16.5,0],[25,25],color=\"black\")\n",
    "\n",
    "#Right Penalty Area\n",
    "plt.plot([130,113.5],[65,65],color=\"black\")\n",
    "plt.plot([113.5,113.5],[65,25],color=\"black\")\n",
    "plt.plot([113.5,130],[25,25],color=\"black\")\n",
    "\n",
    "#Left 6-yard Box\n",
    "plt.plot([0,5.5],[54,54],color=\"black\")\n",
    "plt.plot([5.5,5.5],[54,36],color=\"black\")\n",
    "plt.plot([5.5,0.5],[36,36],color=\"black\")\n",
    "\n",
    "#Right 6-yard Box\n",
    "plt.plot([130,124.5],[54,54],color=\"black\")\n",
    "plt.plot([124.5,124.5],[54,36],color=\"black\")\n",
    "plt.plot([124.5,130],[36,36],color=\"black\")\n",
    "\n",
    "#Prepare Circles\n",
    "centreCircle = plt.Circle((65,45),9.15,color=\"black\",fill=False)\n",
    "centreSpot = plt.Circle((65,45),0.8,color=\"black\")\n",
    "leftPenSpot = plt.Circle((11,45),0.8,color=\"black\")\n",
    "rightPenSpot = plt.Circle((119,45),0.8,color=\"black\")\n",
    "\n",
    "#Draw Circles\n",
    "ax.add_patch(centreCircle)\n",
    "ax.add_patch(centreSpot)\n",
    "ax.add_patch(leftPenSpot)\n",
    "ax.add_patch(rightPenSpot)\n",
    "\n",
    "#Prepare Arcs\n",
    "leftArc = Arc((11,45),height=18.3,width=18.3,angle=0,theta1=310,theta2=50,color=\"black\")\n",
    "rightArc = Arc((119,45),height=18.3,width=18.3,angle=0,theta1=130,theta2=230,color=\"black\")\n",
    "\n",
    "#Draw Arcs\n",
    "ax.add_patch(leftArc)\n",
    "ax.add_patch(rightArc)\n",
    "\n",
    "#Prepare Positions\n",
    "gk = plt.Circle((10,45), 3, color=\"red\", fill=True)\n",
    "lb = plt.Circle((25,20), 3, color=\"red\", fill=True)\n",
    "cb = plt.Circle((25,45), 3, color=\"red\", fill=True)\n",
    "rb = plt.Circle((25,70), 3, color=\"red\", fill=True)\n",
    "lm = plt.Circle((65,20), 3, color=\"red\", fill=True)\n",
    "cdm = plt.Circle((45,45), 3, color=\"red\", fill=True)\n",
    "cm = plt.Circle((65,45), 3, color=\"red\", fill=True)\n",
    "cam = plt.Circle((90,45), 3, color=\"red\", fill=True)\n",
    "rm = plt.Circle((65,70), 3, color=\"red\", fill=True)\n",
    "lw = plt.Circle((100,20), 3, color=\"red\", fill=True)\n",
    "cf = plt.Circle((110,45), 3, color=\"red\", fill=True)\n",
    "rw = plt.Circle((100,70), 3, color=\"red\", fill=True)\n",
    "\n",
    "\n",
    "#Draw Positions\n",
    "ax.add_patch(gk)\n",
    "ax.add_patch(lb)\n",
    "ax.add_patch(cb)\n",
    "ax.add_patch(rb)\n",
    "ax.add_patch(lm)\n",
    "ax.add_patch(cdm)\n",
    "ax.add_patch(cm)\n",
    "ax.add_patch(cam)\n",
    "ax.add_patch(rm)\n",
    "ax.add_patch(lw)\n",
    "ax.add_patch(cf)\n",
    "ax.add_patch(rw)\n",
    "\n",
    "#Add Annotations\n",
    "ax.annotate(\"GK\", xy=(10, 45), fontsize=12, ha=\"center\", va=\"center\")\n",
    "ax.annotate(\"RB\", xy=(25, 20), fontsize=12, ha=\"center\", va=\"center\")\n",
    "ax.annotate(\"CB\", xy=(25, 45), fontsize=12, ha=\"center\", va=\"center\")\n",
    "ax.annotate(\"LB\", xy=(25, 70), fontsize=12, ha=\"center\", va=\"center\")\n",
    "ax.annotate(\"RM\", xy=(65, 20), fontsize=12, ha=\"center\", va=\"center\")\n",
    "ax.annotate(\"DM\", xy=(45, 45), fontsize=12, ha=\"center\", va=\"center\")\n",
    "ax.annotate(\"CM\", xy=(65, 45), fontsize=12, ha=\"center\", va=\"center\")\n",
    "ax.annotate(\"OM\", xy=(90, 45), fontsize=12, ha=\"center\", va=\"center\")\n",
    "ax.annotate(\"LM\", xy=(65, 70), fontsize=12, ha=\"center\", va=\"center\")\n",
    "ax.annotate(\"RW\", xy=(100, 20), fontsize=12, ha=\"center\", va=\"center\")\n",
    "ax.annotate(\"CF\", xy=(110, 45), fontsize=12, ha=\"center\", va=\"center\")\n",
    "ax.annotate(\"LW\", xy=(100, 70), fontsize=12, ha=\"center\", va=\"center\")\n",
    "\n",
    "\n",
    "#Tidy Axes\n",
    "plt.axis('off')\n",
    "\n",
    "plt.ylim(0, 90)\n",
    "plt.xlim(0, 130)\n",
    "\n",
    "# Remove Space around Pitch\n",
    "plt.subplots_adjust(left=0.0, right=1.0, bottom=0.0, top=1.0)\n",
    "\n",
    "plt.savefig('pitch_test.jpg')"
   ]
  },
  {
   "cell_type": "code",
   "execution_count": 209,
   "id": "d2eac305",
   "metadata": {},
   "outputs": [],
   "source": [
    "pitch.grouped_position_data.loc[-1] = [0, 0, 0]\n",
    "pitch.grouped_position_data.index = pitch.grouped_position_data.index + 1 \n",
    "pitch.grouped_position_data = pitch.grouped_position_data.sort_index()"
   ]
  },
  {
   "cell_type": "code",
   "execution_count": 210,
   "id": "76b2653d",
   "metadata": {},
   "outputs": [],
   "source": [
    "end = pd.DataFrame([[130, 90, 0]], columns=[\"X\", \"Y\", \"market_value\"])\n",
    "pitch.grouped_position_data = pitch.grouped_position_data.append(end, ignore_index=True)"
   ]
  },
  {
   "cell_type": "code",
   "execution_count": 211,
   "id": "28bd1378",
   "metadata": {},
   "outputs": [
    {
     "data": {
      "text/html": [
       "<div>\n",
       "<style scoped>\n",
       "    .dataframe tbody tr th:only-of-type {\n",
       "        vertical-align: middle;\n",
       "    }\n",
       "\n",
       "    .dataframe tbody tr th {\n",
       "        vertical-align: top;\n",
       "    }\n",
       "\n",
       "    .dataframe thead th {\n",
       "        text-align: right;\n",
       "    }\n",
       "</style>\n",
       "<table border=\"1\" class=\"dataframe\">\n",
       "  <thead>\n",
       "    <tr style=\"text-align: right;\">\n",
       "      <th></th>\n",
       "      <th>X</th>\n",
       "      <th>Y</th>\n",
       "      <th>market_value</th>\n",
       "    </tr>\n",
       "  </thead>\n",
       "  <tbody>\n",
       "    <tr>\n",
       "      <th>0</th>\n",
       "      <td>0</td>\n",
       "      <td>0</td>\n",
       "      <td>0.000000e+00</td>\n",
       "    </tr>\n",
       "    <tr>\n",
       "      <th>1</th>\n",
       "      <td>10</td>\n",
       "      <td>45</td>\n",
       "      <td>4.053394e+06</td>\n",
       "    </tr>\n",
       "    <tr>\n",
       "      <th>2</th>\n",
       "      <td>25</td>\n",
       "      <td>20</td>\n",
       "      <td>6.224934e+06</td>\n",
       "    </tr>\n",
       "    <tr>\n",
       "      <th>3</th>\n",
       "      <td>25</td>\n",
       "      <td>45</td>\n",
       "      <td>8.137062e+06</td>\n",
       "    </tr>\n",
       "    <tr>\n",
       "      <th>4</th>\n",
       "      <td>25</td>\n",
       "      <td>70</td>\n",
       "      <td>7.153290e+06</td>\n",
       "    </tr>\n",
       "    <tr>\n",
       "      <th>5</th>\n",
       "      <td>45</td>\n",
       "      <td>45</td>\n",
       "      <td>8.369900e+06</td>\n",
       "    </tr>\n",
       "    <tr>\n",
       "      <th>6</th>\n",
       "      <td>65</td>\n",
       "      <td>20</td>\n",
       "      <td>6.920217e+06</td>\n",
       "    </tr>\n",
       "    <tr>\n",
       "      <th>7</th>\n",
       "      <td>65</td>\n",
       "      <td>45</td>\n",
       "      <td>1.008489e+07</td>\n",
       "    </tr>\n",
       "    <tr>\n",
       "      <th>8</th>\n",
       "      <td>65</td>\n",
       "      <td>70</td>\n",
       "      <td>7.480000e+06</td>\n",
       "    </tr>\n",
       "    <tr>\n",
       "      <th>9</th>\n",
       "      <td>90</td>\n",
       "      <td>45</td>\n",
       "      <td>1.195618e+07</td>\n",
       "    </tr>\n",
       "    <tr>\n",
       "      <th>10</th>\n",
       "      <td>100</td>\n",
       "      <td>20</td>\n",
       "      <td>1.066853e+07</td>\n",
       "    </tr>\n",
       "    <tr>\n",
       "      <th>11</th>\n",
       "      <td>100</td>\n",
       "      <td>70</td>\n",
       "      <td>1.207207e+07</td>\n",
       "    </tr>\n",
       "    <tr>\n",
       "      <th>12</th>\n",
       "      <td>110</td>\n",
       "      <td>45</td>\n",
       "      <td>9.576911e+06</td>\n",
       "    </tr>\n",
       "    <tr>\n",
       "      <th>13</th>\n",
       "      <td>130</td>\n",
       "      <td>90</td>\n",
       "      <td>0.000000e+00</td>\n",
       "    </tr>\n",
       "  </tbody>\n",
       "</table>\n",
       "</div>"
      ],
      "text/plain": [
       "      X   Y  market_value\n",
       "0     0   0  0.000000e+00\n",
       "1    10  45  4.053394e+06\n",
       "2    25  20  6.224934e+06\n",
       "3    25  45  8.137062e+06\n",
       "4    25  70  7.153290e+06\n",
       "5    45  45  8.369900e+06\n",
       "6    65  20  6.920217e+06\n",
       "7    65  45  1.008489e+07\n",
       "8    65  70  7.480000e+06\n",
       "9    90  45  1.195618e+07\n",
       "10  100  20  1.066853e+07\n",
       "11  100  70  1.207207e+07\n",
       "12  110  45  9.576911e+06\n",
       "13  130  90  0.000000e+00"
      ]
     },
     "execution_count": 211,
     "metadata": {},
     "output_type": "execute_result"
    }
   ],
   "source": [
    "pitch.grouped_position_data"
   ]
  },
  {
   "cell_type": "code",
   "execution_count": 222,
   "id": "e0e4e0c8",
   "metadata": {},
   "outputs": [
    {
     "data": {
      "application/vnd.plotly.v1+json": {
       "config": {
        "plotlyServerURL": "https://plot.ly"
       },
       "data": [
        {
         "connectgaps": true,
         "hoverinfo": "none",
         "opacity": 0.5,
         "showscale": false,
         "type": "contour",
         "x": [
          0,
          10,
          25,
          25,
          25,
          45,
          65,
          65,
          65,
          90,
          100,
          100,
          110,
          130
         ],
         "y": [
          0,
          45,
          20,
          45,
          70,
          45,
          20,
          45,
          70,
          45,
          20,
          70,
          45,
          90
         ],
         "z": [
          0,
          4053393.846153846,
          6224933.6283185845,
          8137062.5,
          7153290.476190476,
          8369899.538812785,
          6920217.391304348,
          10084888.568571428,
          7480000,
          11956178.57142857,
          10668529.72972973,
          12072073.170731707,
          9576911.35734072,
          0
         ]
        }
       ],
       "layout": {
        "autosize": false,
        "height": 783,
        "images": [
         {
          "layer": "below",
          "opacity": 1,
          "sizex": 130,
          "sizey": 90,
          "sizing": "stretch",
          "source": "data:image/png;base64,iVBORw0KGgoAAAANSUhEUgAAA6gAAAKICAIAAADy+ED9AAEAAElEQVR4nOzdeZysV1Xo/d9aez9PVXefOROZmAJIGDIR4FW4BCUBZFD0onK5XEBQIEFEDReR6528iqIgs8wBRbwOyAUHIpAgIJOQhDCIDCEJZD5JztzdVfXsvdf7x66q05wwpMPJOX1Ore8nn5Pu6u7q6nqevZ/17L322rJp06bTTz89paSqTJiZiOCcc26/EpFSyhe/+EXglFNOUVUzO9gvyjnnDjf7hLKllBjj5z//+XjKKadcfPHF+4S5Hvg659x+N+1aH/nIRwIf/ehH8f7WOefuBLftWs3skY98ZBQREck5hxBSSjFGQER8EMI55/av2guXUuqnpRRV9f7WOef2u2nUW4PbGuiKSJxGvUCNeqdfO5iv1znnDkfT/hZQVe9vnXPuTlI72BrchhByziIy/sTMUkpN05hZ/drKlF/nnHP7RY16p0O8tfs9qK/IOecOQ6WU2sGKSNd1McbxIG/OuU63NU2TUgKmX3POObcfmdk+aWc16vURX+ec279qKJtzBpqmAUopOecYQqiDu2Y2TXWoaWcH9QU759zhppZ0qCsr6iNm5tNrzjm335lZreTAZKGbqoYQlMlKi9oR11QHj3qdc26/u22Y6+XMnHPuziAi01yylQuLdZ+O2ENe55y7k3zXDtZ7Xeecu5Os7GDrQINPsTnnnHPOuZngga9zzjnnnJsJHvg655xzzrmZ4IGvc84555ybCR74Ouecc865meCBr3POOeecmwke+DrnnHPOuZngga9zzjnnnJsJHvg655xzzrmZ4IGvc84555ybCR74Ouecc865meCBr3POOeecmwke+DrnnHPOuZngga9zzjnnnJsJHvg655xzzrmZ4IGvc84555ybCR74Ouecc865meCBr3POOeecmwke+DrnnHPOuZngga9zzjnnnJsJHvg655xzzrmZ4IGvc84555ybCR74Ouecc865meCBr3POOeecmwke+DrnnHPOuZngga9zzjnnnJsJHvg655xzzrmZ4IGvc84555ybCR74Ouecc865meCBr3POOeecmwke+DrnnHPOuZngga9zzjnnnJsJHvg655xzzrmZ4IGvc84555ybCR74Ouecc865meCBr3POOeecmwke+DrnnHPOuZngga9zzjnnnJsJHvg655xzzrmZ4IGvc84555ybCR74Ouecc865meCBr3POOeecmwke+DrnnHPOuZngga9zzjnnnJsJHvg655xzzrmZ4IGvc84555ybCR74Ouecc865meCBr3POOeecmwke+DrnnHPOuZngga9zzjnnnJsJHvg655xzzrmZ4IGvc84555ybCR74Ouecc865meCBr3POOeecmwke+DrnnHPOuZngga9zzjnnnJsJHvg655xzzrmZ4IGvc84555ybCR74Ouecc865meCBr3POOeecmwke+DrnnHPOuZngga9zzjnnnJsJHvg655xzzrmZ4IGvc84555ybCR74Ouecc865meCBr3POOeecmwke+DrnnHPOuZngga9zzjnnnJsJHvg655xzzrmZ4IGvc84555ybCR74Ouecc865meCBr3POOeecmwke+DrnnHPOuZngga9zzjnnnJsJHvg655xzzrmZ4IGvc84555ybCR74Ouecc865meCBr3POOeecmwke+DrnnHPOuZngga9zzjnnnJsJHvg655xzzrmZ4IGvc84555ybCR74Ouecc865meCBr3POOeecmwke+DrnnHPOuZngga9zzjnnnJsJHvg655xzzrmZ4IGvc84555ybCR74Ouecc865meCBr3POOeecmwke+DrnnHPOuZngga9zzjnnnJsJHvg655xzzrmZ4IGvc84555ybCR74Ouecc865meCBr3POOeecmwke+DrnnHPOuZngga9zzjnnnJsJHvg655xzzrmZ4IGvc84555ybCR74Ouecc865meCBr3POOeecmwke+DrnnHPOuZkQD/YLcHeuBEChFMgoECBCpEABMjFDfVxBKBiIjiBBhNYAspDH35MKphShkEixKSigqAD1SUqhFNTQApAVE6Iuwbzfa7nDyGrbV8ei0gvEkHuxwAiUUWQZCsxBP8OKH0iSvH25NcuMUs9LkpLrh5mQiUCAUMBAGOm4sURoJw9mnZ7sKZABgzJuQ6ghcuD/Jnf488D3MBcAEFShgWD1kkmWmNAA0QhWAAyArCgorZaWAoaAEYoEQBTRAEZIkCMtJVqhKFqyqIIUMCVoFqAE9s4rzB34v9+5O9Nq21ervdrr5rBcQiZ2FGmLNqoFAgUpNCCa0AINePtya5ZAMACTmIkFFOL4wUL9FzBtQVHqPeHk8VA0CKBITJMfDyB2sP4gNxM88D3MSQEI9b7ZoGQoFA2hWB1DMrAyCXsFGQe+GNhkSEnAFJsOOSFQhCG0QIFSQDUUUAwMExIYaozv2sfdmd/Bu8PIqttXjgiEkkOXNWUdBY0UJBO0jhoXg45m/OOoty+3hhUAVOoZWEPe8cme0YQVBIigYfwjGS3jyRJRLGKKEYUsddbxO575QP4xbkZ44Hu4s0nXYSBYbMYDS7lEKzXGNRQokCEFqNO1oiraTbsfHQ9uGUQDoy20wki1CYgqFKlX+YAUpBCVxDhBItSoQAjf/VU6d2haZftqDRMKagQsJOYSGnTcERtWKECL1UnfUfD25dYyNaFAMCQTJmO2WcgEJazIVdDaUDKK1MmMyUkrBIPv/HFFfdzX3Uk88D3cSUHy5Pa6WSZ20EP7QMloSYTRpEsq0JEaNKJMUg3r5TZB7ZQUcr2+ZkjYHCMIQjStN/cdBCUUQkGVTImAaRYGsHBw3gXn7hyrbF+NjNtRk/qYtKadMBn+Gk+vTCKCgmGoty+3ltU7OpU6UlugnqVa0DAZBmbFSHAQsihgUBPaCyXIdHxXTfZmuTt3Z/DA93Cnk/9JAetRQg1qg2pQSAJzFKlTqIB0FKUEiOMeq9QZLACsYKCaBW2QsGJ6q/600UwTIgyxFMkURTDxSSt32Fl9+woFTNqcsEYSrYCM16xN7y5NkEBN4fX25dYu6wKiEgtonGYpWK8udDOt60QwkIQZgEiwiIAQFaRYDXTjODOojgaLJczqbaBz+5cHvjPAGqgjtyVYCRQ0DiBDjxjrCnFjfA0XxRQBSeOEQgHqBKyNp6ashBgHMFLWW73ig5TxxbiAkBQkRcvkghREBO0dxDfBuTvJatqXNY1ownIOHVb2DmrVC34dBVMt40Evbbx9ubVMR1gUgNiBoRGCFSlQV2rW+zEpiI0z4k2xBFqbDAVBULJo2psrnCCjqWZEOLd/eeB7uDNlUoxMRaMolrDUFx2vmzGtC9pMySD0OugmVZnqsppCDJNUQjFIha70mwKIRLTO9n7HbxQwFLHp4oQwWfPg3OFjle1rNygxii01RU0GWjrUoIWIChrosBKKjss1CN6+3JqV6CEIpnQBodRxE7VANyn2B4DmFevgVuQwaKzju4VQCFLQYlgGkwDBAxR3Z/DzagbIOEnXYAQ9icE6UgegvRQYUkNelC7TMEltaEgFEpqgA6BAFOYbDbmQrC+FYJ0kG6f/ioqkoNQFcKiJomU852W++MYdjlbTvhoaA0GkSCjWQKF06BBGAASavkyqn9KhePtya9aQGCDSSU4YlAbVFNgNHQi00JssFKk3Zjq5SavnvEEDC7VgfC5oJwKhScQE6w7y3+cOTx74HuayEQQlRwL13jpDLtbqMgp00MI8RdIe8jLdAqOOpSWWFqGEufn5fp+2T2hp2xJ1oOyCNmhr2qSCWRObjCnFrCQpmQIaZDwnm9Hx+gabVH1y7nCx6va1ewFJDHefsGuQRcL1N8w3LRrozTPXQiHosmkJCPQoIUVvX27NCtAaagERlBRjHif5sA6a1DEYMMpkeksDug6gaZjvE+i3gX6/i00HSTFFLdaVnaGoqpfmc3cWD3wPc6aYoSItiW5IUSzS9HYwXgO+cZRZXuRb3+DSz+245LKtl39x97dvXBjkfgxJyyB3JbQbTjj+2NNP751xmj7k/5u/x93m180thmZJ0EbXJ0h1gGokvahgZIMOrWvPa3VG6lhU8jPOHVZW277s01+6+tprbt20rvvG15bh/ec85uTrbz3xxOPtP5zZe+iDw6lncsyJcxvXb5trhrCO3nq8fbm1q28dnSAxB10UEszD/CixNODKr3PZpeWyz9906ed3XPVtEStNALTLZrLpHnc95kGn6xmnN2c8qLnnfZjrDXrNbqEhrhOkQ7qu1+KL29ydQc4666yPfvSjB/tluDtLAkulCUrJ47kmjVko0Ixg9w4+8sGv/cnr5IpvbtwzbId502CXGaqkAhCVUhDYM9csLyzc2s7FH7nfvc99Ho98BJs3pxhHSM8INXurLokrIwthRBBia2DjfSlbg5Ro/MrsDh+rbV8bl3cp8cqN61+1c/tu+I2jjj7llpuL2a755tojN0mOx59wn02/+is87ifYtJ6cl0Lf25dbu9ISsT9E6z1XryvcspV/vvgbb3+rfvOKDTt2bVhcblJSpdSFb1ASKpRCF+OuhbldmzaUk+51719+Lmf9OEcePWw0gcIchTwk+HaEbj975CMf6b3kYU4LJWqGQCiwO7AExxrhhl286c3/9n/fsnH31hO275oboSLFhIAYBjECWEYEhIVBt7C842jdsXTjrTdd/pWbjznqR572882z/nM69u4DQQIKvYxYRAxLrQBm0tQMyABI8eEod5hZbfvSSE5pOebFGjSbZbMQ2bDUHX/TLZs7K9fdsPN5//bv9zjx5Kc+ZeN/+nm9q7cvt3Ytx/kBDOEYy7J1J29++1f/4p2bdt549I5tGzusIBGUXAg9RkOAtkceEpSepCN37T5qz+6dN1239av/tm390ff9T8/oPe+X2qM33ig6QOfDnBcqcXcGH/E93BWSlhF5nsaMXcYGRS75/Lef/+snXHaplD2iWC2lZIiEgeYSSZm20BYpWG6kM+sZjVASAiKhWNi2eV7ufpcj3vGn3PdewxAsbmxAR0ispdAyopmQJ2XMoWRK8IuzO5yssn0ZeTHqJccc8eZrbwaef+wJP3bDDSLZTEe92A5HEhBj2ea2bdm4/rijN7zrrd6+3Jo1gEKezwMu/9LXzj3/hK/8+9zidlFESYmoWooukq0fmpzmCsCy0oUog7xAUC2plBgpGTOG67Zcd//73fuNr+SU+y+GXiD2D/Yf6A4/j3zkI73m+eGuWEQDMZFltLxxx47uf7/sy0/66S2XflJljyhdQpRsGFLMcmgth1YioqNoqaUTU5Vs5ASIxNhZVh0duXvH5i989Ss/+VO87OW9Pbv7ZSkDDRRIEWvqkpvxVdkrLbnD0irbVzFCCJpoarGy3GnMBbKUPZazIIGuMCfd8Tu2rf/SF719ubWs3y3N37qd333NFY998kmXX7Yw2K5hfKcXIBcpTQy9NqVU0KHKUKWgKaXQa0sTc6n7tKBKiMwvb7vbJZ/9+tlP4ndfs7BtZz8tH+y/zx2efHjgcCdCplEpUhhs/9bzXnDC33/k/sMdouwpBKWJ7C50/bAux6ZjfhQzJSpmBRDqjbthgkQzHRZyTwal63c0gfttvWnHq950w1VXnfy619nG+U5ox0VrdAQNKtP0xLoBla/UdYeTVbYvbYbtoDtyyDwMYX0Z5kxoCQlr46LohlFX2niLsH446nn7cmvccNtXXvCSu77/4yctbZXQ5czuOWLSuS4qUqTkPJzrbF4ppdRzs8EWFEvDoUqQqBZzsaXYldbWL9Pq6N7bbln8ozd/++v/fvKbXsb6Ew/yH+gORx74Hmqs1BpGWveSmF7qBGA03m7YxIQuomDLO5u5CAvXbyu/8NS7fe5TZdgt92JH6afSJjDWASVDHgUCQxM6CEmFxlIXpJiBRSMiyy21+mIwdEgX88LGPbs2/c3f7Lzp2o3/9z2DLcekRmJX6KJEHYj1NUuJZFBFOz/l3Jq26va1uL1ZUNh48/WDp/z03T7zhTKghDnJowXJZB1Jv4+tGywjGcEyiqqhkGAxzqnttlHGCCltHGaEtktHmIJaLgVvX+7AMatnehlv5GkdOkr0hsQGWkuk4bBZMOjnAYtbedzjfuRLV7O0KCKpqCkblk0oyAgjGtEUrFitOxIzvcCylQ40azOSMpeHsbAu9SwJjLAioZPFbx//wX/gcV/jA3/LwtHL2lPopSVCO5LYQY8UGVLaSdmHAmogfuPnbgdPdTjU1KGd6ceyd5YzA8UCWmohhgaEUdPbQFm45ZZvv/A3lj//RbosKqlL811pMwajoBDqk3RxsidqodOwFHRX29vV9JZCk6UIw3EoYNS9VRVGjGr5/sHnvvLN887vb99eKIMmWqQx+lhCTOoW7Yx8/0m3xq2yfaVmbjNsvGX7lS940fKlX2OEiiznrtNJjQe6FEapPqON/0k63tcqi9ROOAW6mKffttQwiODtyx1YZRI42rhMnmCRupGnQRKauSXIJHYu/vu5/230b1emXYtBAiJiRREVFZEsZMWkXmIYhfF+911cNKm7IREsNZaFuqHLSCmClAJGq4TtO0df+sZXnvtb7FxMZbQExD4jizZpnhYRyYLJvi/eue/PA99DTGa8S5PUj2tTNwqWMFUVI6DZSMIAbkZleYnXvXbThy9cGOxJpRSNCxpjAShokmYkLXVDKSOUnpYe1pgU05SFJCGLmuS9O62jUIQSCr1gwxBy0mN2Lh914cW87o1t6nbAokAuklIhjEQIxUopfr65tW217esmlD2LvOZVWz74z5v35JRAYtuE8VZrlEin5KTk+ogxCpJ1ZVLu3kaRJ1fuQZRhEPD25Q4KLZDBJCJBsMBIrWBhiHawkIe85o0nvu9jccdygyBmpQDBSNgylhWgoFkpigldKAYqOSv1/G9L7pVS83OymTESpCDFiEK/WNy5867v/zive/N66xIMUbRRK4GRYEgwiZOdkP3Md6vgp8shxlb8z/aORmGIIKHumm6qtUcIzAOXf/7GN71+/e7tOXdBYkkiKU9yAaWXaAxQMZ3vgCQkka5X8kLqNo+Wt4yW1qdhNEzISpYaFSioGOSENJ3EUkbrd9985Z/8CZd96UhoqHtTSiKPKFkQkX45sG+Wc6u02vbVA77w+Vve9IaNO2/NuSuh3xWLXdcWDKljxm2mSaqTgSkxoEToQVs3oxBioZc0ThpIKDr+bm9f7oBKVvdDsfFCykxUaMygWEuCI0visi9c+aa3LCzdqCGoaCllnBshEtBWaTPBCEYoxEI0moJAW6gnuVBkmk1khIAESixZ4xBKJigaWFi68co3vJHLvrAldx1YA5TGTCETCzST1HYTIB3Ut84dMjzwPcQIOp2BXTkhq9P52ZKhXjWzkTfv2PWvv/Ffj9m+HUFbFqM01NKfLDVktUAnjKCMH5aM5PEqmZX/AZCFrEXIk5ejIP1iZp02oBx/681fesGvx5t29gqDoCbSIyu5Q0HoDuRb5dyqrbZ9Hblzz7++6EVH7tyGIE2zFCQKwni8bPykRrBGACkYwQAC9KCxEVrqr4upp2XcIfc77aXa7rx9uQNHyeMTNyNpnIkuCLlYTnsggG5bvOJXX3LX7TcbXc558oO1Xm82K2HFDZggsRDLJHW41B2J986lQKhzLKVguYiY6rgVlGxGd+K2rd94wW+G7UsR9kBJHbkIUve5qJX9DDLo3guTc9+PB76HmHHqoACIIWBSkCIgddlsDHWleVvyPCNe/Sd3//YN1mGFXdDljHQ1xM06/lmk7q8OhL2rwg2MgbKr0aVATYRoCs24UytQkiLEUoY9bDlTMm3O97zi67ztLYzSIozQmPOCBaBYDRqcW7tW3b5e9Sd3veaG0mGFRcuWOqFOp5SiNTUICEk016dDTUhqaTxFm2tgbYSRNt1knDeYxqzg7csdUFJ7dur/itSTtCilsdjvoN+V9Jo3nPCVf495IMpQQURFgEydDyTb3rxbwISkZAUM60FY8VXNtNDLtdC1EUtqs6iMd+DWSFOGd/3q18rr3tjvSgcW5ygNpbaOQik1nC57x2ec+wE88D3EjMNOW/nAeLNURSwXahYuSDHZtWP4qldvuv56lSYbCzq/oIKYGUCTVSbPk0IZBUuaU13NY8Gs2d5rbpqfu6Xf39P0Rqq1Y5KVg8GUkURAI7HHLpBAs+2Wr7z1tWy/tQVDSUKHZiwwjZqdW5vuQPvacN21qiRYr+3mApgZpuPlQQZJNGlJodTrfQ0CMiQoovUOcxRsGFMK41+cJh2zty93gOm0Lp4WKJGCKcROmAN27/z6X72r3XWLwc4eQcAsm40rKgSVJqTAKNRzeByLltoWpOxudBDHlSMmAXFJgtDT2KrWyY+STSkxwo6GXGh33fzvf/FOdu2YGzeNiGms4a6WmpjhoYy7/fxsOcTYNC+K8V21YErpKKYiohgjIMDSoPvoJ3t5V4tlCw0bZDCKKdceSoxeLm2GmsAgmJSiUJpMY2gWXT/kbruW77lr6eilYZvFxkX3wUhKFmJhEEwDKZFGxP5CSrQNxw228fGL1g8SQIjo5CfVL8xuTVt9+9oxT8mFVmMZDQvZDBHqWFlSOtVguZ+Hba6r5QpYLCXUwij0xpO/lMigLeMG0mkxLeDtyx1QmRABg1gr41mwgjBqSTC3POSDF27ZvdVAAtrRK2KWAQ2ihqVckx9CYZrwIIU2Ua81yjBaGZchKcRS2jJEhgO1kZELIqiGTDCiimhHaBDliD0386F/mhulBKO2ZiEXsPHrNCLkSTqSc9+fB76HmAzYeF5nnNE3mTEdz08ZqX5bl7/wpnfa8jKgtEYxKdMyhyLjWV0zDaVpLcZED6Kp0eXGIqmRznS8N5QGMsVQCSEpmYAF0JbOCkGIFiRZACv0ty1d8da3MFgW2B2jRUSTUJK2B+Etc+52W3X7WlquGcBWkmCCZVGMeunGVEsRKQaqTc59g9ZsbiQ9CJClEdZRaIyFQRmv+5FQyLXgv7cvdyBlYr3ry8IANagDvnvq4O1g9M0L3tbfvi1ELLEu9ersoYJlo9AIwUqbNWZVi6VWKKtZwoYY60rRjAiiYTx9GIhWRHNGajTbYTlYkmxm61LPEgj97du+ecHbWFwW2FNnXQoGAzRP0oWzF7F2t48HvocYA6yMiyKOHysCZXxhrssSUArfvHL9V66YFlDMZNNi42iXZGRDNQo9odUSAqSEaBch5tRZLgUrSG7ImnMOZI2acg4lNIZagdLLuT6hFI01xdDoZeSKb/CNr/aMISyjWIfl7FlYbm27A+0rT3a4yDqd3m2EVov0cmkUCRSwrCJRBMnW06bmNHSjnEmAFR2p1PigWFak6fWS4e3LHXAF6TKloEKAcc3pUOCKr+o3r9g4oqQauZZarHdqnAuHQC8jQSJBhWjWijQZciZEulJ3cmk0jNPTeyX3cwckDQXUUrB6E1pEQ0lsHKHfvIIrvhoKifFNqRAKmilIt7e9OveD+B3SIWZ8YR1PwlL/lzEZH8uChARSCpd/6eibbm4LJiVbZ5qEaYkmjcE6rMupJSQS6J6mv9xvj1vcVSCUuDinV27oX7/+yJH1j9i9837DXUft2m15FGkLSUuRSDe+xVYIAbAEihWgv2MHX7qcU05res10/ilB74C+W86tzmrblxp1P+9OQWgyYpaJCfoUk5Qyyw171i30LM4tDkQw2CO2E0bQn1fZPpDAt9t1WzeuP3p59/E7d4VAEBuk4bwyGVDz9uUOhEDNZ086PuUUKbV+Qq+MuPzzG3bsKkZQtaxFKDJNaRhnvmMMQlyy2LZ9s8U9eVS2bBgOWT9YPjrIDc2GYqN1fW0XO0wWQ38pps2S1i1lpIhpkhCtxJL37iCXVdVyKRt27OLyz/dOP1W1TdAKmAapbTZRQvD7Pnf7+IjvIaYBBAJlnII1rkIWavagSKqNv8ujSy/bnAaMayJ1YjbelY0AkrMBbROgKyFvn5d3dIOPDvMIggjSXLY8+v2bdr3qiiv//Jtfee/W696zc/fXtvSyYIyEkiMDaGRvyX0owSxNNqza0kn3ucsYDpr6OnOE4FUW3Rq32vYVynSUS3Wy3WtSGbZtIUsgNlyzcf0f7Vn8/OJO0ZEVhsKVe3Z+Bb4G2KiAFS6Z659/43Wv27lr0KdkpMtFJRdvX+6ACjWhx4rUILhQg4QIDEd2+RfW7V4MkVJ0pFgYl+Rl/D8BUuDGdfrmsvvy4c7dZWTrmtdv2/XZNg82rCsj+1Phd5aWv7y0WGLsenOfHC2+c2n47dgy/j2lU52unzbBQhkppWiIrNu9aJd/geFoMlynFEL9rVbgO8qoOfd9eOB7iBEDKbkGsNO5WGTcSVlJtZMalWsuv8zyUv2GYAXIopPipEZUM+iyhpJCuXlOvgU3bjzCaMB2xuENc70Iv3nC3V43N/+MtrkULtTmmoW29jTbYruordnk90+qlg4DwwhGf2m49ZLPk7ownj4OFJ+IdWvdatvXcHwR1iYHqVV4BRNLjWbMwDI39/pbYUcvhGgiEtp2UWUb3Ay7h8uxQYSLt93yzaZ3LQwiCD0JQl1nhLcvd+Cs3LVlxad9YJiu/+wlMSUKA2Wk1uY8KUNCErXJfMnN8+FquLEX5kIz39HAF5aX9hCBv2/DdXBVYbGkPU3va7ALFhfWTX9hF0rW8ZN2SpvzSG2gUIgpXf/ZSxim/vd9qc79QB74HmqssHJ/KRt/HGuzl1IoERh1u669xoTB5AirMVnaZkBnWEEjXSYEBm2zG0Yh9KyXjWEsZb7fwkk7Fk/oln5ErQ9fXRrtaYMEEAbShrgAhFJzvMqksq+MNCAYefHb15C6BAPABCu+9MatdatsX8PJthYCaVKFV21U8hBBhFwg9AZAaFJHNss5B+0V6DRcvm0XhV3Gtyl3OeG4AqMsKkgx6UpJ3r7cgSWA1pu7cWocZfxxsp1XXxMCqVD62pHYm+fAKIxLioTCSPUW2B3jfJL1i92xcN3AlmOjgRt277rnUZtvgeX+3K1tewMc0YY2j6AuVtNx5WzAxulDHan0NRVCYOfV19St5Zj8wOTjSN16xrnbwQPfQ9U490/G2wePBRUsAEtLmkbaIKWZ1h0VY7JkvaiICCXRBMoIljgC4mCP2TAEekVZWlyES44+4tIjj/946A3g1KY5qpBGiLCulDhclOmmbpMPtKiaAhohDxiMUt1HsnZovv7AHSJuZ/ua7rWWpYyL7wqNZSlDQTGiiCwPN0Ae5qD9EFBC6EKE3MTPGF9ft/Dvxglw/0F3FBQigqk0Ujd7Gz+nty93AIxqGR9R0GAgCbFcF5MtDUIQM2KLjkZ9DVb2rmxLqknHMx69pAaEJhYN6AmysBtuamWYObFLp2/ctBtunItXhrQHzlw/f/yePQCmnfR6SdvxGk6kBCv0NehoFFvMCEFYGnS1rIoYUitfK6IERh7OuNvHF7cdaibLbsYjUCgQoFYPZZygCKNRG6UkenkOlqGIEcveS2MoYipkQyim6+kru+ZlhHQ5s2BxYytXks676uvBOBE7Cx4R7chblgOQ4/o8iDIuyF8EHc8R0xQt9cECjZHy5CVnpBS/0XJr3Crb11wJUBBSyFnrDocIqFrUkFKJhIWgGfqhV7pYZCAqMesCLC/MXTUcfqHXu4XF+zXrb9mx2IBKb5g7iSZZoAdDb1/ugEmgaKgbo1k978t4U7RSOgUoiXlYtgxkJY7HZyXreAPQuaQtdEbCosjxm4/as23xujL4EjwEjhuOboFrGF2T0hzcs+QjluqOg43RzKVhvd8raCgRsuQ8Z5SCQKdQSqn3pVLqXscqGJLRBD7p4W4P7ygPe8vQ1WvjOB9LQBBLmk0DORHLfMhzPeinvgmhIdgICz8K/xbnb1L7HGyG379l9OWjjpZIR9q50Lt1blPdw9W5mbW7mYM5rNem+ZjjdGh2rjQpd7GhkJC2gbluTz/u0IbYjXpqx8FJ25ZPOObov9u563Nw0pEb7768A9g6345ibHJW63b3fQtit6bFMr6gNNm0NPV+sehgC5ywq+vbqGg+edfVp8FXdpW/Zf6RcNfdu46EK3bMfXV7Wg9zVjCwOSNE2SVhSABDLURL1Fu+lWRlqUHn7ggPfA81Nv1nWu+FXLeLnHwpA207SqbxO7P/pdRtVEfKULTWWwyKhOXlZul6uHJT76a5JpVw49y6azas+wZccZdNVuSWuXXh6KOuIRVLXaJpMDopw1o+Rm3SNxmdlpqhpQqdEMPk1QZMPQnLrXWrbF85LMMyDKHLk9xEg8UohIBRYEnyzXDVxvlv9+Ko8G/r5q9cCEvQZ/jwfu+IYXoIzEfb0dgOSGhf2mKESNMlvH25AyhCpEhNdRcQwVTH+wJq3RJbI0uKhQBgYdxadKgs1xNwqHNb4aqjNl23fmPJ3LxuXQpcUpY/HIY/AptSWa9zn8/bLtPF+QUWFkeqwGhHb1K0xBhElmOppXxLDMuCRqh7cquGcdk1RQSpu81YrMn3zt0OfqocqsYrXuQ7M/tyMY0ZmJ8vsS0dRXIKAG0eF11KKkk1FJSS02SbnnaQ4NsNn96y6a6jZk/WmzXtgK9tnJ/v7rLd0tdvuvkEWF9oFAqhS1oSjOeDp/F10VI/LglCn34bxwskjCC+obo7VNzO9tW23fiktk4Jk+akI5MljRuyBYRSElzd9r606chrl3bfsn7T9V26dQf3hTNTejKsQ741WkwtpWNeonXjgd6a7Ojtyx0wbU0j0IKULBosYmkcaM73czYR0ogy345Go3nFSost54BSxqUADTXN8I1e7zPre/eM7O7NLfQ23HDT9VsD94RumI7YtPCtbcs3GMdu2bRwzQ4iZnmxTXPL41N9OYZgRkaEYc5Nr01LoxjI2Zjrx3FKhUDMtaFaoYRWfCjP3S4e+B5qROsScpgkLQCQhChQVNER0DYbTjhRbrhGpRgUwmTCSGNWKH0zFCmEhqis27NnA/zbld/+O1gPLRS4C1z05W9cBn24Nzx4IR61Z9mKGmWdoJAN07qwd9zfxGLR6mLbsHDXE4lNrJ2mGKKjWhbHuTVrle1r/Wj8nUXoZYOAmViYz8RsFBWNRy4N7gnf3Lr9WrZvgd1bty9DAw2sGy6fCEFtsLR41CIKmxeHrSiEnHLQyY5Z3r7cgTEu45CgGW/Bxjjdlygb735ivuWGqOigNBqxZHWJh5VYB1YUYNNw8Xj4xrVX3wh3gciOo2jvCw/KqNJ23d1EHgDHwynWAygUoV2x8WAvEYvUIDhq1EGJSs5svPuJRBnnHNv4hQlAwoKHve528sD3EGOCmAY0C1nHabuKZYgKphGWgFZPPO0MuexyylIsYDXpP0EJEHJOlFhXKnRkOEHaF87rzo2bu7TcaBOTzRmdlT0xpLaZGy0fvXPnscNCGoAK2qQiQg6C1d4u1DKnvTzO+hrM9Y4+83Rik8elcXJdJezcWrbq9pUGTFZ5xlLqDhiBsi53WkqiWEn3Gel/XVh/a68dtHHLcHkoc99aWPfua76ZofRboBhHLnc/vmldb7k7ZmlXwQaqTWgk1eFkb1/uQJHbfCoAA+j34nEPOXN0+WWB1E90yCgEzZ1StNQN1DJWEO6ytPTijUfe0raDUNqS50aiy/k/NyIslj3LKnbErTt+Z35Lh268cVes1xDCutEkY9iYT9QoNin9LMGMSNJ43EPOpBdHdRHbbV+qc7ePB76HmA5ag4JGRhAEDBFyTXlKFustcBPaB52x/c/+YlO3FMelX8iagxWxDMSIZQyCrBPrbDA6KYZ8ww1ZZNQ2pZS5roto1/ZvJc8Jm3KuixByq2GUMwSj09BL0+2iNEuJZVxZcVtjxz/4DHr9DgKEkIDod+RubVt1+0pmNszTQeJxWkSWjAZUsUQZLN1V9ZjF3aOFZmGxK82oFBZgCXYNLagWK73EpqVu/WhUsKDktpdGZYP0xIaTl+bty93pshKKIlpz2aPWytaagF4rp526Z/1C3L4zaGlLSKZKt+Knx2O084kTd267K81QutKjJFsnvbJnoEoSxcpGzRuX9kBEczEMFJ1L323ENmsE0ZITezYvHHHaqfTabhz4FkTzeMZDEc1KuM0TOHdb3lEeYsbl9VcswcEIiNVynrV0KJgqpz1w6zFHTX8wi41CGcXJzFBhxLT+txpGSWCtlIXhcH3XNQKUNg2OGg03jYY5Iw0DobOuUGIIoKRi4xfVZUgSa2knhMGmTTzwNNpmXHMR8Nsst+attn1lUhGCjXeayJpTyFnRQMqkDhFUgNLAuuVOI9oN1smoBYO5pi2lSE0n1ghWNwgQg2KQvH25A2lcHs9iGX9c6glfYKgtp52+a9MGFUopEkpddilG0Wx1c8FacMEwioRhP5b5VOaSWRoUMNtb97djlFjCOkAFIdcafeNa86hRkmYBCaWUosKuTRs47fShtjZe3AZS8rjNxvoUzt0eHvgeYoR6d7uyrr4aaM14UmE8LaqcdM/d97tX/Y4kGVIv09bLs6hZEzQStNhSYTmEYIYKZbKQx4gQcimxIRsiLCZosIIpmGVKX3QYwnhfdS1JQ32Jw4Dd697c+75DoQdzFKRBwmQBsHNr1Grbl0oXKGJgiCk1QVggE0CELGDkgkYthZJRZSnkZWgh5FR3gZHQDKzU0bOoSE5z0Yplb1/ugFOsCahSjAw0ECEr3Ou+5aR77WzRiJUsdbM0IRQmS0CbTJM0hEDKdSwFgVHDqMcgkrWgmBFVLDYDMdVaIbsgmbo9t4QkdMEQBLWSNbKzpZx0L+5136zEOuJrGFkpAcUaD2bc7efnyiEmwPiabDT1Ia2P2zgbUBivd2nCqc97pvSDRUY2bIRQr7uCWomGZkmSR7GoYDljJCUrKZBUEyFJLKop1/r5zXzpzY1o6w5RVgJqJY1oRMlG1kyjGUQZbJm/1y8/h/6cwfqUJFF/YSyjg/bGOXc7rLZ96dx8Pf9FGmis0Ag6HnoKaljNG6bpcjOIQUwHEoYhAglM03gJXc4RCaJmdWCsUDoJePtyB1IgTYu+92sCjyKFdXVgda530rN+abB5S8mIstgMS0AEA9E4PvFVEmUw3uGQVMIohGRoppdIorkO+haLqQtCEmyc7SBSCBZUFbOIRdgTh9JQMoPNW0561i8x1wM2gJTxFsV9yrQ+fSB9t7/JuX154HuIqTuTjveXGk/ISkEbVIqZFYQWyDDfbx75sN39hV2FBSWVTrSNMeZc77C7IgXTyYbsgMZco16KlGApWCnTjVjHNJS9FcVN6CVKJkZCQxrsiZFRx/X9LTzi7N39CJATha72m8XPN7emrbp99TbuzsRAss5iE5sF62r7Gp/qYZybQEGxFoJYVBtP1U5nfqEEs2BlvA+bUgTM25c7oAI5AQLjvbAli2K0HQ0M+i2Pfuyt645SIWdKQzdJCiolGUnUooZekWBkYTmM7/HmEr2EGKE0UsY7GyPEgtV9klFCEwQsW+6MpIZlrMUSGLeuO4rH/ORyvw0QOzBMFIRU62zXPec82cHdLt5RHmLGB0xWPqBhfGU1CUq9GwZTsQ2b1v/a+YOjjqrfv6x5Z977DF0wgTYp6EjHqwL6iX6iLYjkOt0Ux8kPZbxwxwiFImQtReiRgZxIQ9Yblum2HHm/57yQzUeM6saT0WgoAcl1x0nn1q5Vt69f/Y3dxxxfv3Vow10p1Wq+JmUYV9RnoihpLo8gtyXFUupz6opQdbz/RWWxSMC8fbkDrTDOz6EoaKpDvpYaYwnYsOlHnvL04fqjVNgwQLOAhpquIFBySZ0hMWssRMu9MuyVPGkHoZ9DWHG3B8SMWhiIdCmVuku4oEFMgsHGIRjD9Ufc9z89g/UbB3WvOEtI6VBQilLIK4ttO/eDeEd5iJmUMASwOsdkiqmBqRqQMmYERhqWaDnvBVvvce+SiS2BbG1A2pob1YUy3r2NUJSkZZ+KMFlRIxQFzWJpPIMbDK1jvqFgJNXeCJlTNDAK4cp73Ydn/zJtXICWkkJYlDoDVkMI59auVbevc59zyz3unjOxpW9dCCAByLpiNNcwTKQTyUiBHEuu+RShTBfSadKQRRk/opmIeftyB1QtTjnO6lEdb4miBe0kDRpYbjS+8PnXnHzfHPtWiDSYlAJSt1EDCDQQtGibCZNCu0ZYCr3xUkxjGBiG8ckfi4UgJpPCwUYpJpYFciaF3jX3v1944fNHjUbQtIx247tPFNVpFOOxr7udPPA9xBhlvOp8uoi1bo8+XdytoS4IhyCEW7ZsPuWP/2jr0VvyiLYwN+ySNhkxoymUySBTP00meU0n/9Un1zopZTJOe6j1TYvUuvqADVREmpygcN0RRz3wda/Kx2wcKv1cxGxIKISmXs+bA/peObdaq21fw2M2nPJHv3/rUZvzCBGaNOyiZYiFfqo/qxBkRSYiAjKu5JB1PIsihFAi1oyjXpm2TW9f7sAphDoXQcAiBWK9cQsqIdZM37Jl4V6v/YNvbz5KaFSpLaMUrKhKa0oKXdJch1SmdR4KUU1hCDbSkAnjLGBASi+nFlSjWShINMRMgwjxW1uOvs/rXl42z3ew3pDQEBSxpjavCIEATa2/4tzt4IHvIUZW/E9WTMnWFQK5ZiRKKZYCaGYJOP30o887b9cRmzFaCnlI04tF+x0KozDumUJhGEjSGM24NmjR8b06FgttrjWbjLpnehUi1kXrgra71h15z/PO44wH3gId9cJukdCiwTCzgZ9ubm1bbftaBM449ehzn7dny3qMFnLprDf9OR1pmGbJ1zHgLBhaH+uCwnTcq0yu20Wn6brevtwBFWuJkix0461TUoFOBFRGRLhVI2eces9zn7s4f5eRjbLVUddQaMzESKVkoRSppYGaSb5Q6ZcOwaSYaMxtLyuoKdRNQM0oZFSJqjEbJdvywnEnnfdcTj9lq0alph1rJ2LjtF66SWKGGF7Qz91O3lMeYgK1cDd7axkCgiIRKaWYkClBiEYfjodR2+pvvOimsx+zfcMWUSKJblDnhWLGascBgBay0GlZkW5Y6pW+fh0psZRYith4QmyQaXOO0W7aOHfL487mBeeOYrMRFgyCWoxKbs3IKqrqk1FubVtt+9oAo/4CLzr/5keds3PdRlF6hW5k42kTpAtlFMbJvnVZT1IKTYAIUuJkaWkWuixdDbebnHq54O3LHRyl7hYolrBsSKY1VUg9SoQ92vLCc6950lmjzRsGihVEFMzoIrRKMEJdOU2GYlqggyFQBDEaK1BMSleLSCgiksSSZFGzkkbC4hEL337SWfLCc/eE3rhsH9lEM21BsCz1/hPq5cz3bnO3kwe+hxoDvmMSdtrcA6CSKaqKQQdGWN5TNOxcv/G+b3g9Dz6DXkSomxVPy9ZkwaQATanlbDqTPK5FLuMSTqPAKExqlI6JoS2tCETmHnL/k974x8PNWxTtd0kSnTBAIiY2Hjhuv2ObH+fWnlW2r9ixR8Ot64+41xte1z/jVGIrRtSYCRAyWsTG6UIGNHXa2IhSy6PmyYWbUkKXQ6mf9bLFAt6+3IGlk4o9YgQDMyQBqU4yNNAtz0OUho0LJ7/x99bd9wFxw4YMSLaQjVwMm2wBAwkpBIoyiqQw/hVKKZJM8ng1pmGFYiQpEg1Shrx53foH3PfkN/4e6+eVOA+kAcHS3tu7RE2MMI953ep44Huokb3LzKdR6bTZt2gkCg0SaSFCu66fWVdIR2zY/Nfv+NYTfsr6mxEksKgMW5CSgm1vtWt6Yr1Y+iHHhlgTGSWQMwJtpleClrbT/lIbl3rWkTWUqEu7N2z6ypOfvOFv3jfcfCymsVNsvOahj0iJAAG07E3qcm5tWm37UrZkNhXSUUf13vvub/30E2xuc0uKoVsMXWq7uVyk6LZGu6YHSKCXcsxdXcM2l3ebFmlA6WKzpBGTYQy7+nFIFm9f7sAaF2eQ8c4UaAMLkbhuvEtwpFnoQR/QHhvuygf/6orHPmG4cFcrIZJF2NVnMajRA02iQxGppUcStcyJQEOO5JGIlqbNvUK7J8quOWvNesWsNKN1d7vmsU/iH97H+hMJ/XnoAXEejQ3MQyAiC2gzbqEo4hm+7vbywPdwVwqBXLuFhSPv9qa3p9980ZeOOWEPcV2gX5DMAmXTsMRuZHRLbTeMNgiMgo4iA2XQshRlIBTrjFErqTdKCyNrG3Lhq8ceu+HXn3e/172KhQUZd46gUEpLKZSse8+y7Pfl7jCzyvZVMkuNbp8Pe2AAS828GCXRFbTLC6Mk0WKXtwxyP/ZK9vbl1rb5o+7/htcuvPh5Vxxx1Ii21jhbyEV1CEO1EkNvqe1tE5YbHTUyCCwGuVVYansx9IKZyCiE0XqzTSNUGdF+Y8uR8//1uSe/7tXMHXmw/zx3ePLA93AXNFESXUCt6e/ctKn5ny994N/9/bYHPcxsfcnEhpIJimCqGvJIQh5ZwkqbJI5oTEqxJiBCCOSUokaz3s0LG3eefvJ9P/B+XvJfR+s3DHQ+gKS6ICIhXZ3uytP93507/KyyfZkRQhiRat20zkS0tUIjoZ+tDeSOGBhI79oNmxZPOdXbl1vLlrW3Z/MG/tuv3vtD7/3WmQ8ZrDtynOSgZAhq2qU8HMUYldIr1jeCWNPEPBxpl1RLMjMohZRZnj/iW2c+5D4f/n/8t19d3LJxEPoH+c9zhylfBXmYMwG0h9JZESFyE9zljNPu+r6/501v/spfvHnTnps33rpzISEipZRewEaIIALBpKCdtYoZIlAYartn05E3HrnlAb/4n/Xpv7B83D1SnWitRUkV6Ip1ooFxlcXxtTmwt6ajc4eH1bavEGkG3V1GqQcj2FRSyqMYKSmnJjBAjF0LR335rsed8oz/su7nfnb5bt6+3NqlMJDmxtAcfdqD7v2+9/GWC/793e/Ysntrf/utGwtmRZuyPpMHKfQYdQjMRXqDpAohWSIqOyKjI468dd1RJ//nX7z3c59djtqwVWMP5g/2X+cOV3LWWWd99KMfPdgvw91ZElgqTVCsYAVAY92UMo5gz04uuvDrb3oD37hi0+KoHeaNyzvNUKUrAI1SCgKL8+3i3Nz2/kK4z8n3ft5zOfsnWLcut70OGpvU9BWQZHlIjCOCENtaGUfJ0BqkROP3Wu7wsdr2tWFppxCu3rTxj3ds2w3nH33MA7beZLB7of32lg3B2uOOv/emFzyfn3p0WddXY6A9b19u7crLhN4Qrbdn/a5wy1Y++pFvvO0t+s0rNuzYtWFxuUlJlWJoBCMnglIKXYy7FuZ2b95YTrrXvX7pOTzikRx1zLCZPFWtvBnmDvZf6A43j3zkIz3wPcwlCIZIgUI3xAIl0DTbAwNYB+uHicESV3+dz1+643OXbr38i3uuuWl+OfVjSFoGubPYW3/8cXc57bT+gx/E6Q/iXvdkob8nthkU1ieg7m85oidMiknUFUKhgIxTD4NB9jkGd1hZbfuyT3/pmhuuv2G+fcuVVyzDL/3IfU+9Zfdxx92lPPxB8z/2/8n9TuW4u7Nh3a3z7aj+uLcvt5ZZx6AQeyWyKHQwD/1RYnGZq77BZZeWyz5/06Wf33HVt0WsNMHMQipmsukedz3mQafrGadzxoO4532Y6w16zRI0sGBogjyiJ4hvyuL2Mw98D3/FUCFb6kQVbUAylJE1soxC6KCFHlnTInmZboFRx9ISS4tQmJun36ftE3s0jTW6LAygB02xtkBJtJKxutdqRjOxoH2Qgul4ErYWRfeUcneYWXX72r1AGWLDn/vJx2WR937gQgyalv4C/QYxVJZKrepvc3Q6Em9fbs0aQQNSSq192RGzjMuNNdCkjsGAUSbD0oCuQ4SmYa5HgDbQ749Ck+qdGwSIlurmhUU0Ce3B/OPc4emRj3ykjw8c5tQMEavVESFDGwgqkso8BdEUZACLBOIGjXNdr1GQLZtbaEkFhuhosg17gQAbIaQ83tui1UxO5IAoElFBYW9txVr8t5abqRdp5w4bq21fpdfAOqW7YfNCLJKOOWqEjNBpzTTF5pRQsyVUaPH25dasERRotITcUWgKjcTUsAv2gMamWdf0gOkqzBrdgsEQuvrjsM5oElhCO4Qcmg5NeODr7hQe+B7uRDBExutjImAJhNiAUoiZdYDU0aOmD13dBxI6Yt3Cp0XC5I5cjPGS9EYGhD4xWAky3ZVVx9OvilEimVIAJCDRB6Tc4WaV7Wt33b8VipSkISEZVcZFgQUCCQvjLY21Abx9uTWrzzgXx0IUhKIYsbBZ6Rh/rUz+tckHNQJu6h4udcy4zleIoo1hYJEUwUMUd2fws+pwJwXTYARh5fqbAWToKbEUSqGoZI2ADINpfzzCqys24AHqbm6CQowDdAQ9Q4piihQUbHzxNYCClfHiOAkZzE84d5hZZfva1CAkrMx3imm/6N6KTTYJCVTrejWg8fbl1rDIEItIyMQMpkRKsCKZFtq9F5GCGFIATDGpcxRQ9pY/U02o1OR1EpaR5Ge0uzP4WTUDpE4oFSRmCQkFmroXDikrqirTGFcKBUrA4nibnVJvxAGwuomxZuhBv5AUCQSjDmPVkS3GQ1+TPaWKYmrC0E84d/hZTfsSOgpYCLnBGvJkZ7jxPhT1I3SctFCSqLcvt3aVFhEjUgduxw3BLCCESWo6mCJpfO6KjC8ugCpajCwQKAEMLVD39Kaop627O4P3k4e7ce3PgoHIEO2gByEXciYW07BcJ1aFAh1No9pTpS4lBwvjDxRUtO4QGWpKYyLPAZgQbfxBV5Mixvf2MaMxgKkXGHWHoVW2rzmaejUfhYhhkW6cogtoASgNRayGs+QI3r7cmiVNFnKNetOkOUQZogUNQgjjEDdYnIytjOuQ2DjxV7UWL0tQEEUjHQSJnrDu7iQe+B7uTDGFpnY6c0IPQr0vV4EQx59OU68iUGeYworErDhZN2M16q0pWb268ToynsyC8SJfgKw1x0uBIGjd4d25w8kq25eYar3DjIMijKTUwmQRoBi5kAoEiajWJuXty61ldUxWbPqZYjRCpuiKDVWyaL05K5N/pC4agYBOc3jqU9Xz2bk7iQe+hzsBm0ynGpK7UG+rQ0j1ylwQS2ABAtIWHa/TsYLltg5CUcefBFHqOhthpAxgPUUylIKqBajlnAyLpEnSoUzKQfjOUu5ws8r2hakIIRQhIymyHIiUgClahBIEgxFiggQab19uTStiBBTBImUyLBKMIBlJ46x3IqJGAAIZK+OVb6JYHEe9gRzZO6M4XhTnAbDb/zzwPczVLqUO3IoQJNTVaRkdFz+q6w+YDO3aig5HZMWXZHx1l8LeAV+gjJMSlTKZ0gVkkqUVps8smOB38u5wsur2FRJETENuYtZQWoqgakELGlBKEaEVTdOxMW9fbu3au9oy14YgxHo3OM7arcvXlEBGqTFHGd8GYjq5rNRMB2wyDOwhr7vzeOB7mKtrwwulQEYRDUEjdZSpAFliFoXxOK+Emq2oIzShsW6Fynhb1ABKKphSIiUmUmyKKAFF68iTKlIKuQS1SdaiYkLUZd9+3R1eVtu+OpYVAjHkuVggNSgjZZmaAax9G2cwxNrYBG9fbs2qZX4ASGGckU4mZInUHN8ymSHcW91MWxnfMk6rlwRSJI+fkIBEQM0nMNyd4jsC31KKiIj4yfZDMTMRqf/mnEM4mDn6kwN827vn8TLysG/R+1plhnZaPHzFtjr1Kfd+f/wed06q40Kk1eQH/KrsDjOrbV8tC/WDHIY5jNtYu7JQ/3f+wHdvYd6+3NpQK1gDEKet4TtO4cl5+h0n+eTBlZeV+uOy8mdnNRKpYcPKQOJgv6JDm5mZma7oM/d+lHOuXyilmNlBeHWHi+lpmlIKIaSUDu7rcc4559zat0/Y4FHvD8PMSimAquacp4/rNMatA5Mioqr+Xv8w6vsrIjFGIMa48h13zjnnnNtHznkaNtQwzIOHH8bKgHY6925m8Ytf/OJZZ501HVEXkZrwcFBf7aGt3q7V99DMrr766s2bN19++eUH+3U555xzbo160IMetH379rvf/e7T+MEHzn5INcmhZjvUQPeLX/yiL5zcz+rQen1/VVVVt2/fvn379oP9upxzzjm3dtVooUYONVDz1NM7QzzllFM+9rGPHeyXcbgppahqPWXPPvtsv2Nzzjnn3Pdxt7vd7Z73vOdFF11U5+hrIHGwX9Th5qyzztqbzluDszpg6XcYd1h9A+vJqqohBD9xnXPOOfcDrQwbpsNnB/tFHapWBrTT8UcR2RuThRCmy988x/cOqzdqQH2vzazruoNb0cw555xza1wIoeu6afCAx2M/nGk8VkpZGYZ9R5FIH5vcj6Yna03WObgvxjnnnHNr2cpysx7v7i+33Z7CI13nnHPOOTcTPPB1zjnnnHMzwQNf55xzzjk3Ezzwdc4555xzM8EDX+ecc845NxM88HXOOeecczPBA1/nnHPOOTcTPPB1zjnnnHMzwQNf55xzzjk3Ezzwdc4555xzM8EDX+ecc845NxM88HXOOeecczPBA1/nnHPOOTcTPPB1zjnnnHMzwQNf55xzzjk3Ezzwdc4555xzM8EDX+ecc845NxM88HXOOeecczPBA1/nnHPOOTcTPPB1zjnnnHMzwQNf55xzzjk3Ezzwdc4555xzM8EDX+ecc845NxM88HXOOeecczPBA1/nnHPOOTcTPPB1zjnnnHMzwQNf55xzzjk3Ezzwdc4555xzM8EDX+ecc845NxM88HXOOeecczPBA1/nnHPOOTcTPPB1zjnnnHMzwQNf55xzzjk3Ezzwdc4555xzM8EDX+ecc845NxM88HXOOeecczPBA1/nnHPOOTcTPPB1zjnnnHMzwQNf55xzzjk3Ezzwdc4555xzM8EDX+ecc845NxM88HXOOeecczPBA1/nnHPOOTcTPPB1zjnnnHMzwQNf55xzzjk3Ezzwdc4555xzM8EDX+ecc845NxM88HXOOeecczPBA1/nnHPOOTcTPPB1zjnnnHMzwQNf55xzzjk3Ezzwdc4555xzM8EDX+ecc845NxM88HXOOeecczPBA1/nnHPOOTcTPPB1zjnnnHMzwQNf55xzzjk3Ezzwdc4555xzM8EDX+ecc845NxM88HXOOeecczPBA1/nnHPOOTcTPPB1zjnnnHMzwQNf55xzzjk3Ezzwdc4555xzM8EDX+ecc845NxM88HXOOeecczPBA1/nnHPOOTcTPPB1zjnnnHMzwQNf55xzzjk3Ezzwdc4555xzM8EDX+ecc845NxMUMDMzA0op9dHpB/tFffLpx/t8Ov13//5S55xbrZW90z4PppS4TSdZ/53+1MoObeWDt+30vuun+3znd32qfX719PXUl/d9Xr9zzh0sK7vKHxgT7t9fuvK31+ePIiIi9WuqmnMOIajq/vr1pZQQQv3YzOrvqr+l/guIyPRj55w7WGoHNe396qciUkqJMQK1b6zdmpmp6so79un3176u9rP1e6655prrr7/+pptuGo1Gg8HgpptuAt71rnf1+/22bY8++ugTTzzxuOOOq9887ZZXPiGTjltVmXTX9WMgxlhKmX668k+Y9vDOOXdQTMNLVoR800emwWH90rQf++F/KZOAkxXdabzsssse/vCHN01Tf1mMcTQaicj++sVACGEwGMQY6/UDuOqqq4488sjLLrsMqL18fVke/jrn1oJ9gsV9OtAa9dYObZ+ucnl5+YYbbvjsZz976aWX/tu//duNN954zTXXbN++/cgjj7zb3e529NFHz8/PN02zY8cO4IMf/GDXdUtLSzfffPOVV165ffv2LVu2HHvssccee+wpp5xy2mmnPfShDz322GPn5uZWxsH1l5rZtLecDljs8/p9rNc5d9DVDqp2m/XWPYRwxhln3HLLLfe4xz2YDCiklPr9fs55f/3eUoqZtW2bUqqjFV3XfelLX4oiMjc3V0rpuk5Vh8Nh7UD3V+JB/TtrYD3tpnft2jX922pnXa8iHvU65w6u6djD9FMmg74rO6g6Clv766WlpQ9/+MMf+9jHvvjFL15++eXz8/Nnnnnmgx70oHPPPfe44447/vjjjz766Ok0Wn3ys846C/jzP/9zVozjllJuvPHGm2666dprr/385z//N3/zNy9+8YuXlpZOO+20U0455ayzzjrnnHPm5+frU03D7hoB1w525a9gxdjzgXv7nHPuO60c1p12RzfddNPi4uL0e0opTdOklPZjlxVCKKXUsLY+fx1EiKeddtqFF14YQpj+pn26zh/SPgPa1VlnnVV7+em/nu3gnDvovmuKbe0MV3ZZtae6/vrrP/CBD7z//e//+Mc//uAHP/jss88+//zzH/awhy0sLKxMPJje5E+zFJjc8FfT0VkROfbYY4877rjTTz/9iU98IpBSWlxc/OQnP/mFL3zhda973dOf/vRHPOIRP/3TP/24xz3u+OOPX5lTMZ3Lq2H0PrG7x77OuYNoGuBNe9H73Oc+pZSPfexj+3zPfgwF94lmzSznfPbZZ0czq7lr08S1aT7ZfrFyZrBmNdQwt/7xXdc1TVO/czqMsb9+tXPOrcr3v/+vfeP27dvf/va3v+c977nqqqse85jHPPWpT33Xu961efPm6fjrysFgJn1g/Wrt01cuuViZ+nbbDjDGuGHDhsc97nGPfexjf+u3fmv79u0XXnjhP/7jP/7Wb/3WPe5xj//4H//jL//yL2/ZsmXlyO7KJAdP8HXOHXT73PPXwK8GhEwSEmr+A5MOc3+ZriurkWeM0cx0+otrpkEdnNi/fWXOeXoBmCY21C/Vke368fRdcM65g27aHeWca8f46U9/+ulPf/q9733vb3zjGy9/+cuvu+66d73rXU996lM3b97MbQZxp2vUanc3HSpe2dFNMyhuG2fvs9i5PvnmzZtrnH3dddf9wR/8wRVXXHHSSSc94xnP+OQnP1knzaajy96XOufWiOn6LiClNB3unPaN0zv//Zjgy4qotw7p1tcgIrpPh7tyNGK/qIH8dOCh/lWqOk0jrnOC7O8w3znnVuu2k1055+FweMEFF5xyyinPfOYzTzvttKuvvvotb3nLT/zET/R6vTpey4o4dWWRHL7zfn6aMlG74OkM2D4vYJ/B2ukIbn28Dl30er1HPepRb33rW6+++urTTz/9mc985qmnnnrBBRcMh8PbXjl8iZtz7uCaTnzVFIM62bUyGaz2ePuxpFi1cm3GtC/VlX1rtR/rOXCbubZpXP+90t2cc+7AWFkWlxVzU9NHBoPBa17zmnvc4x4XXnjhK1/5yq997Wvnn3/+hg0bVvbO0+Ta7zrIettc3unH+3z6XR+/7ffvUx1y48aNv/7rv/71r3/9Fa94xYUXXnjPe97z9a9//WAwYMUoy8rB45Vl0Vb3Zjnn3A9nZdQ37YX2WTS8f2erbtsDi4hHnM65mbOymvp09mk6E1UHZd/xjnecdNJJn/rUpz74wQ++5z3vOeecc/YZJjiIseNtKw2fc84573nPey688MKPfvSj97nPfd71rndNs36nXX/OeeVCOo99nXMzyANf59zMme4BUdcYTLeNAETkfe973/3vf/+3ve1tf/3Xf/2e97zntNNOm6Y0MAmaD3oS7XR5Rv20pkCcfvrp733ve//8z//8jW9846mnnvqP//iP08SJaeWHlNJtJ/qcc25GxIP9Apxz7iCY1g5fOfx59dVXn3vuuddee+3LX/7yxz/+8SvHR6c5avvk7B4U+yyPm64OqR8/4hGP+Jd/+Zd/+qd/eslLXvK6173ubW972wknnLCy8NnKv+tg/QnOOXdQ+Iivc24WrSy8kFJS1QsuuOChD33owx72sC996UtPeMITVq4Cng6s1iyI/b76+A6oGckrl8dN66nV6Paxj33sF7/4xbPOOuvMM898xzvesfLvrd/vUa9zbgb5iK9zbhZNS+2mlG6++eZf+qVfuummmy666KIHPvCBXdfVLdanRXandRinmw9Nh4oP1otfuVB4uiCaFauYQwgppZe+9KWPf/zjn/WsZ/31X//1n/7pn27evDnGuLJ4sHPOzRQf8XXOzZzplr8i8n//7/897bTTHvKQh3zmM5+53/3uBzRNUyParuumRXZX7r8zHW09WK9/OuosK7YEAlJK03LsQK0cdOqpp37mM5956EMf+sAHPvCv/uqvphWFfXGbc24G+Yivc27m1OAVeMELXvDBD37w4osvfuADH1i/NK3wADRNU0dGp+UXV+b7HlzTlzFNeKjbcNZdkfYp+xBj/N//+3//7M/+7C/8wi9ccsklr3jFK/A6ks65meQd30Gwcnn49Po0/Xj/biDinJuaVo40s127dj360Y++4oorPvvZzz7gAQ+Yfs+0rHo1LdNbP12DebH7vLa6K5JMrPxSHfr92te+9tjHPnbXrl3fq6avjwQ7t79MKyeuvLJPm9h0+5uD8tpmlge+B4iZvelNb/p//+//Mdkeb7qnHdB13fQq5W3Auf3ltledOtb71a9+9YwzzjjzzDPf//73b9q0aeXytcNV7Vg2bdr0/ve//8EPfvAZZ5zx1a9+dWXPk3M+7N8E5w6wlRsxdl1XH5zWIqwTNe973/ve9KY3+aX/gPHA9wARkYc+9KHnnXfea17zGlZsW1q/WnMKfetm5/avWql3GtvVfz/0oQ897GEP+z//5/+87GUva9t2n62GD1fTa22v1/u93/u93/md33nYwx520UUXMbk21zV80yq/zrkf0nQRak3Hr7MxrMinEpHXvva155133kMf+lBvdweM5/geOKeccspnP/vZc84551vf+tYrX/nKlauwV36bF9d0bj9aWeBWRP7iL/7i137t1z74wQ8++MEPrt9Qy5kd9jecdTFcXe4WQnja0572Iz/yI0984hNf9apXPeUpT5leiQ/798G5A6YuQq033itLIk4XDJx//vkXXnjh5z73uWOPPdZHfA8YH/E9cEIIxx133L/+679+7GMfe+lLX1qzHWoB0ak63OINwLn9YnobWXdteOc733n++ed/9KMfPfPMM1lxz1mLlx300rx3njrgVKNeJpmFZ5555sUXX3z++ee/613vms5Bef/j3H40LRO+8ipf70J/67d+62Mf+9i//uu/HnfccX7DeSD5iO8BMh1w2rBhwz/90z896lGPmp+f/+///b/HGOteo/ViU69MPuLr3H6xcv7kggsu+B//439cfPHFJ598cn1kuoht7dRquJOsrP/Ainyqk08++aKLLnrMYx6TUnrWs57lPY9z+12McVpvu5RSr/Ive9nLPvCBD1x88cUbNmyod+CeYX/AeOB7gNTQtv571FFHffCDH3zEIx6xbt26X/u1X5suG6+xby0d6pWGnPvh1RaXc/7rv/7r//k//+dFF1103/ved/rVlZsVz4JpNvP0PlxE7ne/+33oQx8655xz5ubmfv7nf366obFz7odUJ3Vram+9ptfaiK9+9av/7M/+7OMf//hRRx1VA4PpvjPuAPDA9wBZWVbTzI499tiLLrrox3/8x+fm5p7znOfUK1D9nmn+u3Nuv/jQhz70ohe96MILL5xGvdP11CsXvR326fX73E5P/96TTz75H//xH3/yJ39y48aNP/mTP3l4vwnOHTB1Qdt0uLd+8OY3v/n1r3/9Rz7ykZrXO1P33muEB74HyG2vJccff/xHPvKR//Af/sPc3NwznvGMeiU+KK/NucNVzvlrX/vaL/7iL77vfe879dRTp0Oeta3Vf9dyjd47yco/vOb1nnrqqX/7t3/7Mz/zM//8z/983/ved7ooZ+VPHfY3Bs7dGaaL21T1Xe961+/+7u9+8pOfPP744/f5hoP4CmeNR1oHyMpKovW2L8Z4wgkn1MUln/3sZ+tkB17H17k7auV2MPXfPXv2POEJT3j5y1/+oz/6o0wuMN7EVppWE//RH/3RP/iDP3jc4x63c+fOaT5i/R5/x5y7Y6ZtR1U/9alPnX/++R/72MdOOOGEaeJv/erK3azcnc0D3wNkOsjEJO8QiDHe6173evvb3/7kJz/55ptvrrHvLNTSd27/qjeW01GTunQ65/ykJz3pF37hF572tKcBOeecsw9b7qOUUt8Z4GlPe9pTnvKUn/mZn8k516XorMiE9guzc6tVqzoAN99881Of+tQLLrjg7ne/e13fNt0InRX3n+4A8MD3ANlnd9BpBV9V/amf+qmnPOUpz3zmM6dXGs95cG5V6o1lKWU61htjfPGLX9zv9//X//pf0+K1deWWB3Ar1dq9dWFNjPF//I//0bbti1/84hjj9M2sNxXeLzl3B9Sm9IxnPOPnfu7nnvjEJ05b1vTGchoeHOQXOjO8Izug6mjuyrmPOpryO7/zO4uLiy9/+cvr4z7i69wdMC2cAvzpn/7p3//93//lX/5lr9erj9Sm51eXfdT3ZJpnNTc391d/9Vd/93d/9853vpPJ1lN+YXbuDpg2nN///d9fWlr63d/9XSYDXtNvWDlV5Q4MX9x2gEzP7GnJkpxzHX9KKfX7/Xe/+90PfvCDH/zgBz/60Y/2kRXnVqs2qPrBLbfc8uIXv/jDH/7wunXr6r3l9Ktupelqv5Vv0caNG9/73veec845j33sY4866qg6HuxvoHN3zMUXX/zGN77x05/+dK/XW9lN1QBg2qw8/D1gPMA6cOp+LdNP9wmFjz766D/7sz979rOfffPNNx+c1+fcoWw6b1j34z3vvPNOOeWUEEIdy6wf+MjlPqbLyadlROvmkaeccsp55533X/7Lf5m+gdOhdOfc7SQiW7duffrTn/7Od77z2GOPZcXI18owt5b7PTgvcSZ54HvgTCvDr8zvmU5zNE1z9tlnP/nJT/7N3/zNg/s6nTsUTXfcveCCC3bu3PnSl760Pj6dP5nBsmU/0PRO4LZTUi996Ut37tx5wQUXTBfdHrRX6dyhycxe8pKXPOUpTzn77LOnG4bvEwAAh/e2kWvQmkt1qEMK+3ax33WgQQBGoCCTfw3KiifZ58EC7Q96wh/wSn4IK5ecf9dvKKX8zu/8zv3ud79PfOITD3/4w+vFZlr/j+/MDbqdDMSg/icgZfyOjF8TCc1goKAQLQGIAobuk2usIJQV73GB3qpej/v+/Hh9f9+1JsPK+fpvfetbL33pSz/0oQ/VuvErC2TeGaHbqo9XKfVgjWSuiCYIRhESGESoV78CUBTkTh6bWLl/x8pHgBjjW9/61kc/+tGPetSj7na3u01rO3zX99/D4uowvn4dlvbX8SqUgCpYQZQMxUD47Cc/+eEPf/grX/43ijENAETH3cXKYEDE51MOmEN2xHdyqrYQjVAQg4IYwYhGNIKteLAQbdJrsIb6g3red11XP15YWHjFK15x3nnndV03rW8yncO9A7m/QkEwJQeyYqL1UZOCFCjRUq+UfqG1fW+DhBIg2OS/8U8oVi/QwfBN5vYzP17f33SLtZXL1FZGt+eee+6v/MqvnHrqqQfo9az2eNXHhdaGc3kxGgLB6Bn9Qizjr4dSwkHtpepd9wMe8IAXvOAFz3/+83PO+4TIKw+BR72rdrhcv2bFDzperWkoJoaCGDHTAqP03Oc+95WvfOX6jRtq1FtyPoh/hJtac4GvfNdGLbf5b8oKjK8xSGE6+rJ3GGbFN1i5Xc/5fV7JncDM6jbF9WLzC7/wC8ccc8xrX/va6TrrH+rqYhilgwQJMhia0YLmevQNSqEkLGEJiUgcj0+Z7r33XTGIxeRJ8to7fw55frxun9vudWRmf//3f3/ttde+9KUvrQlzByIgW/Xxqj+WAsOGZRgiHSRyoiTK3qelgB204zW92X7JS17y7W9/+wMf+MA+BTF8r6nvagavX4e0/Xm8EAzIWEYLJf3Ja1914okn/vzP/3wppT6PxpBL9uN10K25VIfVylL7gnqFUBWEvRMYBgUdzxxSgLD2rv3TicLpteQ1r3nNIx7xiKc97WlHHXXUdE3JHZxPFATa75y92TuFajqegp1Ik3kcGM/M1B/MQtn3Gbyh3gn8eP0g+zSE6W1hzvm//bf/9vKXv3yaLXcgtgFf5fGCVDulpGRTE4UgooQEmJBBasJD2TsfeuDVN7kWHH3Zy17227/92495zGPatt3nJvx7JT+42+kwuH7NlO9zvAxDJKOCZcu3bNv6v//w9z798c8AqppzrlO4XrJpLTjkj4GiOvkrDHIddxGyTAdgvst3rinTwvv1+pFzvt/97nfeeee98IUvrN8wDYvvwKrqVC+8BclIRgpi4/vV2p1mGMKQcZbh9Aq28lKWIU9+omYrRgiF4OWG9zc/Xt/fPk1gZRz2l3/5lxs2bDjnnHOmXz0A15jVHi/MxNTQkTaD2IxoupoELJqFEYygjh8jcPCO13QZrqo+5jGPmZ+f/9u//dvp49/1KLg74DC4fs2U73W8klgWyVB7YhH59V/99V8591fue9/7TqvKMLmf9Dr9B90hP+IrSYEwnpIoCNMkmvHAiTGeAq5dyBr7i2tLWDmsG0JIKb34xS++z33u87Wvfe2+971vSqnmQtyBkZWagP8dPzedLxMQwmQ9TRVuM7sqEGX6tk2m28wmXfIhnza6pvjx+v5W5piu/HRpaeklL3nJX/3VX03XtB2YurOrPV7kgiKClCiSaiJvMKAEMRh/v9Q7Fz2YvVWNemsi1h/+4R/+p//0n376p396fn5+ZezrCQ8/pEP9+jVrvtfxqpNtAcqo09i7+itf++zFn/jzN15QG9G0ZC93dK2O278OiwNgk/GVrJiGyQLqAJiS9TvWta8x0428V17IY4zr1q174Qtf+NKXvlREatQL3IFSf8EAkjBSsoIWBLSgxaZ5Y6VQ8nigcGVu6HR2vOYp5vofFFubb+ZhwI/X7TcNuXLOb33rW88888wf+7EfA8ysXmkOQGnMVR8vUZQMwcpcKtHKJCw2JgtlJEMqkE0PWmnPOjM7zet9+MMffvrpp7/97W/Pk9U5Hu/uN4fy9WsWfbfjVXKqx0u1R+G//9Z///UX/kazbl2NcWsx7LqE3a0Fa+/+cZVVWIYRgQZW1AL5zmg+AJjQga2qmNOBqgdTy/vVy8y0jLyZnXfeea961au+/OUvP+ABD5im3K362WXvrIpBRlVgRd2revNq4ytzibe9FRKgqNQP92YsermcO4Ufr+/rthmlOefhcPh7v/d7H/7wh1cO9KaU7kh7Wa1VHq9e0CFYLbGRC1ZMyFICpRBqxnYL0EDpiO1tf+MBMd2qbfqW/u7v/u7ZZ5/97Gc/u9fr7TOU7mm+e83e9evQtp+OVwzt+NkCX/7yVy/+3Gde95d/Pozj41XHfVduU/xd2ovf2BxAh8yIr42HscYXlOnm8kswgGUYCUnGU4/jUkIGQhJGwjIMYGnys9OktJyzrZlTbp/dC9evX3/uuee++tWv5nuk1t0eRhZypLSUGgXU7E8b5+MzhAEM0YSGyY3Q9NcUcr1mdzCCATLc+yMMf7i/192WH6/vb5p7Ou0KROTP//zPH/awh9USZiGE2jnUhVl39utZ7fGqpR5iHZYWQ8AEtEPTpDREChDU5GCOStScq5xz/QA45ZRTfuzHfuzd73739HtWHoKD8yoPHbNw/TqcrPp42Xg5RQd/9IZXPeNXnhcX+tPjtXJuChG8vRxsa2/E93swTBFZsY9DPZnW0wmydxl1mSRFMU7BqUNiDaXU2USales2ap9eMFljt8a1a3vBC15w0kkn/f7v//6WLVumSUKrkpHIpB1D0GJMSo3aOAfRIJqJGSkRGqS+GQWp87AFM8yQgJkhaMyTegJu//Lj9f3VdjEdO6mDka9//etf+cpXsqJnqCtBD0Au3aqPV2yCCUZjlkKAKIVoIEagV7KZlKBJsELLQRuaqG/gPvUxnv/8559//vm//Mu/XEfTp3NTeOz7g8za9etQd8eOl6Vu1+6dH/jb93zxy19YR/LjtWYdMiO+ikzTy1THyf65S3FUQpeljnNZGf9XJ3inn5Ys2UKX46ikUVdTHldeO3XtnYX14r1p06af+7mfe8Mb3nCHExajRYhIRBUpWBY6oTM6kRIoseQmJ0mJ3EFNMOwoozqHa6WMk5lyoIMkkpDUxdL16Xp40tJ+5sfr+5sGtUyi3n/5l38ZjUbnnHPOgShedhurPl7UK2UWMUTGiw6zkFpGgWRScrBhoGu0rJ2hvFp55pxzzhkOh5/85Ceno+l1YwuPen+gWbt+HepWfbzEsCJt84bXvPrnf+qJxx55TBglP15r1iEz4st0mMewWvlLJMRIFkIwJsVEakYUADJZEx2EYCYq5Byn2Wl1C0EZJ9eutb67zmep6q//+q//+I//+G//9m/Xi82qL+15vLNBgSDTtHwVtFCkrrURCBStq2+SjPejEUFECYAQbFqw0MCwTDbUvAnvZ368fpBpa63DJ29605ue85znTL9ao+ED16JXebxGSFQiMrRMVlMpCrHetiiiSBZErGAjJMPCgfgrvpuV87PTod/nPOc5b3zjG3/sx36sdkRrs/Ncm2bq+nUYWNXxEqRGU69555995EMfLhK0aSglTq/XfrzWkkMm8J2eKyVnVUWEUlC9JQaFgDBZCRsm49i2oqApIhlKDEfWBe91X6JSJGitq7fWTsT6qszs5JNPPvbYYz/xiU884hGPuMMDWmIEgfFeBwpB0JKQSKfjzMIOMqxDCrmHBqRWTh8VTOkmdVsC0iAtyshincp1+5sfr+9l2g/UrLvt27dfeOGFb3jDG6b3hNOvHsgWffuP1xx0WJ9CbNqsYiXTJekNlAQFAqEP84KkJW0O8gj9ykneOuj77Gc/+x73uMe2bds2btw4Xa/jF/IfaNauX4e6O3C8Elz8z/987Il3u+vJJ++GDgjqx2ttWpOB73c7JcZnYcpab3lrAp0xJ7SkpjNSoetImcEelpcA5ubpryMGmoaoXSMjIsY4/05ERErKGsN3DyjlIK8amC6sfspTnvIXf/EXj3zkI+/Is8S9tfRRNSGjAmo0imWs0G8INkkCXd5Jlxll9ixhGubXzfVa+pEmEsixSWitrB5bscNhAHGN8eP1fdU8hzoZEkJ4y1ve8jM/8zObNm1a+Q0ckK0rxlZ9vHZAZri0ac+ilIYbb2n71kbm+wtd0xZiQEfGSGiaeT3YuQ4r7yXqp5s2bXrSk5701re+9SUveUl98KBkmKxpfv06tOyX4yXSrlv/jTe99bcf+eObl4c0YSA5h54fr7Vp7QW+3/fKvPc+KRdCIKWFHTdx1TV88Svlksu/deklO274tpK0EaB0Voibjr3r3R50pp55WnPK/Zp7nMjmuxACORPDdzzh6l/MnarecdZJ25//+Z9/8IMf/Cd/8id3oDzTiBLq9HcB0/rnZugK/YB0qRkN2LnE1Vfz2c8Nvvq1Wz/92ZtvvLGMhm0TxBilTnq99ccfd9czzmjuf//w0IeGu929NzdHr5djXIR1+/0vn21+vL6/lWGWmb3vfe975StfuU+V+AM5ALna47XnXz9+1TXXbtt8hH3l63sIf/WTP32f6799z7seMfdjp7enncopD+XYk+L6I0cb4ghipwd9v5Hpm1nf3lLKL/7iL77oRS/6zd/8zZUjwR77jvn169Cy/47XcGn0Y0WP/Po98y07w5mn9R90KifchS3H+vFag9Ze4Ps9fEffakYIeTj8wmWfP/Yl/3X5mus23rLriOHw7mmPCRrIBSAoJSPXXydf+NKt7+7tPHLD3InH3/AHf3TqGaeHXq/ehE2eb81N1U2v3yJy97vf/R73uMdHP/rRn/iJn1jtBaZQDAwNSk1BDEoGQoIhw53pQx/+ygXv7H3hS/dcHjXbdh9n3AVCxAoIEsgdet015TP/OjjiyKv7/fzAB97/Wc/knB8Pm9YXiYfQKXRI8OP1/U3HIHPOW7du/eY3v/mgBz1oWiV+2mQOWKmB1R6vIwJHGDu37boYbiTf69qbTrv1JrZdXy770o0nzI263oZ7nbHp+b8hP/v4rgVdRdnW/W46sl4/rWm+qvqQhzzkiiuuuOmmm44++uhppu9BfJ2HhFm7fh3qVnu8amUdAbZvy5d/ftffHHHjQrPxpHtc97KX+/Fag9beVTCzGAwG8xTp+hZDFmJCu0LLrUEb2LhtG6953fIb//iM0e60hyzA5MIPlic5UgmBFAh5z5bFPVuWbuXbVx37+B9dmts0/+wX8Gsv3HnkEcOgR1uRQSY2JVAzcVIYLmKR+YXMQcyJXJnO+NSnPvXd73732WefbUAuohjWiQQ0GEgxckaixXFqZ2REKZR+F4cNy7Cejm4nbbOLdREWbl3mFa/c8463rNt96wMGIw10HUExU0VKQiQjWE1PygQWlm/ddbe57b0PX8vHLxwsHNt/7gs2vPBXuyMlI0AkRRNoxkn8BtoZI4hSehRyZAnWH7S38+CwcanzgpBQqXt9fZ/jVbqRzg1hwSDl1IRbYA42br+VP/yj0dvf0e4ePHAwkGBdthCxtEVZtDxEoGC5UcA6ggxu3XVStHjdB/mXCwfr2/5zf3PD8/9Xd1Q+1I/XNPH0H//xHx/96EfPz89PV19NLyd3+Lqy6uPVKbEgHZbIkmJ/G9rCpu2FV7x+z1vftG731gcOl0RDl0tg3mxpFPjW5m7XjSiSbT20yDINo5uXj80x3vgxLvnErhdt2nDuL/G853ZHHH+wjtd3LddQSun3+495zGP+4R/+4Rd/8Rfxq/g+Vnn9sl01M388JS6Gpcn1q0yqPKc9W9Lk+vWTP7q0sHH+OS/gBb86PPKo5aCbKFJyCs0QGmgyEpaH5IYFHQkHaweUQ8Uqj1fZjZhOdmwMYnlyvBpQI0FWKet33rh+B1x3/TGrjTfcAbHm7tSz0Ed6zCX6pUFI0cpQWZyLA/TI5cWN//LRrzzxSTe++e3sGHW7UEMNIIlmdKQ6VE2CgQkpIDbeZCWji1FHu8k3L93wprd//Yk/s/FTnzp6eXFJdPdcMwpoyVAs0NHrM9efZO4dFHWsZVpA+2d/9mf/6Z/+qes6cpGgJohIi1KYVDonsmJ1TSHUrKFI7NJ6SzkzaDcb6zYuLy586hNffvxP3vi2C8rN263LpVA6gpAkQklKpzHRWNZcGEGSJgkhBBuVnGGE3Xzj1W9745ee8Jjm05/t79mllEWiESmlkAeGCZRGiKVWORSCMXfw3s+DRWpumADEWqRIvt/xgrl2WBYKy2I7m1DgLkvLG//l0//+2Cdtffs7ulu3WeqWiUulX4JSgG0wxDAjCVkKZIRg1o+jlHdnCkO6W0ZXvO3tX3ziow+P41Vbx/ve974nPOEJK8vN/vBWe7xyo3SFrLm0e+J8QY8eLG/61Ce++Pj/cO3bX122XUO3nI2SM6rDIGRKYcSGDjJW4i5YBkKmCc2SDTOZNNKtN3/rjW+78rFPWGvHq3ZKj3/849/3vvftx7f9sLHa6xeULDrSkOtghpACKWCoEZKGPDkbDUZK3sNw2+JVb37nV376yb1PfmrT0uIysjs0peSFnFujCwyYa21Bi63cVtB9V6s9XllClrpbRcmaU2AUGAVNQqZksawkJSmZJtMeKvHGrFlzga9qCZmYiAQs0e1GlofKAPrd0P7gj3b81JPv95lPH7X1hoWkDfNAMEJRMUzGnUQRzUJWxAjjs0lNpIhI6a+39qhbb7zPv37m1sc+nj/64/nRcBmGCnFE2mmWGrTNEhIaDtqpOJ2uBVT1bne727HHHvvJT35SRPN4Cy6tV988Xr8v4yKhOk6TrwtOsxBCpnSEBpDtA3vFH2990k894HOfPPqWazcUrLN6+cqhGcCuPqNgUMRipt8xP9S55agjGbbS9bJFoSTm1O564zUP/Nwnv/XTP8cfv6bdtXsB7USKFFEL02XJ1ihaSLWOf7zzd9Jac4wMXQ2XCmLjldrf63hR6qddwQTaHdt4+R/v/Kknn/y5S4+8edsCpNyphkJE5wYwiZcDFgCTXH9pKfSNno0CWhLrC/e87vpTPvexQ/141ZA357xnz55PfOITT3ziE1e2lP3xC1Z3vDqgbZEmhSZCu323/dErtv7ME0655LPH3XzjBstdMVVMIFi2ITSS11nZMFkOt6s+W8n0TZUuCCWxKek9r9t6z89/aa0drzq++8QnPvETn/jEnj17ah3f/fn+H+LuwPVLrd5fSRbNOl4qmVWyaKnXMiUFOqWIZnRjaU+86cb7ffpftz7uibzij+eWR4CqIANLuzIISBFyIR4GezXeuVZ9vOpeFdT4AjEU1OpuI3nvnYaRFeOQiTdmzZoLfMUyxRAkoUVp+0N6fUZH3HLTFc/8L3ve8Mb1O25FctBsDIyujKuYlmAlltyW3MulzSUWYmbFiVRiyetHuaGksicGK9Ydsbhj26tf8/VnPv3obVt71o1oaPuaiRkRrEA+aHMP9QKjk51jgLPOOuvTn/70ZOGnFIwyLtOa654+BpRC3e+yUAhoLAlpSuiHbP0bb736vF/e8cevPPKW7UgdJRwZJqGXUcmln1MvMZdLW7rAMNL1S17fpfXdsFeS5iQgEWNcdx/hrjdvvem1b7z6Oc+PN97UFlvU2BEby3XkDFEhBAxLSJrFEYjplgWT/5Xp1OZ3O17kQlOWAz3Shq1brzr3N259zWvX77ge7erbLkZfu3nb03aLTYEyrtMr5GjEwkibTFO/GZAY9x4vTYfH8YoxfvjDHz7jjDM2bNgAd2Qr7+9plcerT1mCbUow+jdsvfbcX9r2qlceefPO2roMkqAxihFT6ZUEXWs5FlpoIVipv8+gGdHPVtvXSMYvYK0dr9ovbdiw4Ywzzrjooot80Hcfq71+GSqUWHIsOViJmabQZmLJ0bq25KaUOnzTZvqptKYlLcVgxYZHL2679TWv+uYvPnP9zbfE1GXtSTPXtxwhh3q3tuau72vNao9XtC6QRQqT8umxEEuphy/sfYS2dJHBoRJvzJq11zAs09Sl0UaWIXOZ0G7fcfOznn6v9793/fatgbgbGUXAJHSYfsdf8R3JZjr5b4UwUhiKjZpYim7Zfes93vs3W5/19HbbtkIcMUceT21KC3YwA9/pvzWF7swzz7zkkksQihWpyfS1jH/9C0URsBJq5UcFVEzJ3UB0hLBjx3XPe9oJF/7luh07VRmguRckFsNKHgUsUqLQS0yuqQXpkCF0CEHHqfmlwyBFDVEsI6pH3nrTcX//ga3P+2VuvSHAMogESHUuB1OyYBmxLGvvfLuz3Sb78QccLx3ulDJC4q07b3rW80/8uw9v2LlVAwm0pUQylJTARAlCtiZLKFomvygYwSQGCTXDp6RkIEqIHAbHqy5rM7NPfepTZ599dt1daX8urlrt8eryCArE7Ttufs6zTviH927YvlMFS43ENkXMyKMMUZCgdR3CMNpyzaOg9MZ7HQsiEkxr+xq17ai3zkqz1o7X9Fb8UY961Kc+9SkzSyl5ju9eq71+3eZeRWzfT+t85pgmBStZlZI5Yvf249/33pt+6dnsWOyIQxrJKdAlUmoi5hm+P8hqj9dtW5h958c2ST2s19BDJN6YNWvuwmaqkJBCkGEbR4X5xeUrn/fcIz7yoW6QgR1tu9xrBxlRzMZJ5ownHNSsJv1qFs0yPSfHX02quf6gsh3b3fQp6Mi2fPiDV5373P6epVFm2GvGc/+kWoLkoKi5dNPAt+u6s84661/+5V+wFEV1UliQ8Z5QIddtn6h7R5nVZEQDpQf9PcOvvvAF6//5YtmdorKo/WX6pGCGKhpMgxWzJSNLwMbZZnl6dhhdoRt/M0EolEXV3UF2qgUlLu088p8/8u3znje/a0cPlgCUnGuuBTIuSDpce+fbnU6KTldITo6XoN/reC01c5G4cXnX1c9/wVEfvliWro+E7W3YFegMK6GEJsdGVUthaAxDMy6PXje+1TpWNEqWO+iauWEzZ9KYSTZZ5nA4XnVl2yWXXHL66afv/xHHVR4v02YjHLln9xW/ct66f744L6cYyIQ99LrckxwaJQRTkWJNVyIwjMU014Sl5aj1FyVjWUvXNKoEARuNZLQkZa0dr9ojhRBOP/30Sy+9dDor5arVXr/G609Es9SUhym18T2XTstEG2FUEAFlpzGKYDTD0YaLLrrqeef2dw5kRI49w1o6IQ3Vb0h+gNUer2lIsXdSaBxvhJGGpDq++ZxEwIdKvDFr1lyftQwUo5RBZDesz2nwyj/c9JGLWaKJ5BLbUd68PNqgk9kBCpCFYZClJuxpwnIMoyA1x3wYS9Laa0inshyCAkY/c2yi7XJnPTHiiE0f+cjwlX+4LqddsCRQEsWWD2phvboxUkoJaJrm+OOPb9v2m1ddKZT6lyPUqW4dtzIdPwIZTWDKzjAnSzvLq1+2/p/+YWFXp8agiZrYnCXmQmYklELKgEg7l5SkkiWMRAeBxYZB1GEIFucS7bBoyZjRZJqU+0IjJWsEyq7FYz70IV73x/Pd8hCSKiVQUqYkBQ0Q1tzZdgAIQpnUGuAHHq9bYWEw4g9fs/HCC220XcGC9kd5cyZ2hGxSpCthqcREq3Eu0AXLddjIBCEHhkiOgaQsluGQnBArKpl5C4f68apJpaWUSy+99OEPf3jX7e+9zVZ5vHYEZPceXvGHmy78+3ZxMN4TuuT1styU5ZChkI1kXaKkuA4wtKAZOkgh1T4mKkUY5GEpmNGmPD8cLUhea8erBr6j0ehhD3vYpZdeus8aXLf66xc1bEoaskpWxv+JZNE0Geo1YaSyFOOgxzAgxkZBE0NTgbnh0tEXf5A/elk7KkswopVSWrqlg/lOHBpWfbwsmIUk2ql2yigwDIxCGIaYNI5UulAGkWHQQWgGYe4Qijdmypq7tAVaSkFtVIvtX/LZm970hk237sZY0nUdzRzDJtqow7JKrQciBSltyQtdty51bemi5TbTy8SiRdSkQG5Lnssd6Hi8RXKPYZawp10oiU3bdm990xu49NINdcGKAhIOarm3ejmpm1bU1LqHPOQhl372c3XDQ5HJQIAUvmOGViHUL47q2NXnL9/2utfe5dadIcZbYz/ntm8dMoAsIlIwJYBqaEfLvWyxWDCLhV6il+jl0ssW0mAOCQTTWECtpjHZXEq7zUZxPgbaxeH1r305l356kzFkfCFWSoIs8SBXJT1Y7DYff9/jNQ9ccsmO171hw65dIeruIJSuX8YjQyLW2GjehnOkVkzTci930zzRmGvtLYCcmYP1lHnrGhupAIakQ/141SHeq666av369evWrWua/b3BwyqPVwNcfvn2P3n95p17QsuOKHu0UUAyJEHUQLFIG1KbdiD0UwlF6rhyW8aLEXNh3mS9oYqByPhQrrXjVbMa2rZdt27d+vXrr7zyypW1ft2qr1+CUNrS9XIXSw5lXJ0zWI7WxZJzKCkANMX6ueslrMRcAkaEofZ29DeWzPzunbe8+fVc/vl5qynpSlmDxUrXnNUer0wsRCmhybT5/2fvz+Msq6q7f/yz1t7nnHtrrup5oGlAQRRURBmcEBnCoI+aqJHECeeIwy9EiQNq8nqeEEUJjmg0IjG/J0/Mk5g8iaiIihiMgswzyNRAD3R3dXVN995zzt5rff/Y956+NIMUNl23u/b7xaupujXcU2edvfdnr70GpIKQU5R6pF7qTmseNY/MixVAzR6kNxYUPTdhZR6wWc6mX11tYvvtf/bhZRu3MoOQkEMGB4I6iElyYwAholBslwkgMCGhsFQJACuwSqogA0XIdZPSGMeJCoiQScmegIQYSzdtvePMM7OJqT64FjHYpm4+bwUz75S18+IXv/iKK35ODIKGusUARMV3Mpkk+KXA8OGErByYmL3lw59avGWSDbxzNTZ9TojJqxdWz5ool8JNtirCFDLmhFgMxAgSILxIUKCwJF5QwpRkCCwCskiVhGrekypWTBR3/+mf0vg2A0wySrJWkQAF4AGa1/s5T0jIj+rey8tj22vR5AO3/vmfjWzbzoSGV6QpFGQAwAFtLWYULF5L0zlVoxD0zfAKEDlrDbP4sDnxlqHwIdFqT7dX6Kpw5ZVXHnXUUdXo2KVVBeZmr4HtW2/42EdHxifZwJew1hhnieqlorBwJAYpxAogAmPbYzZRIiABUp96DUXSmIUYJAImlGxLNui98VXlHhhjQtZBLOnQzVzXr6oaHZl24RADYqmCRGFCzWYFk7BK4pHAeu7zCgB1DSrXEmNk68QtZ/2p2V5mHjAJKNnT2zTuBuZqL0ZuUFoogxUQDQG6PlFvFVS9YpCgzKTZm3qjO4Ooe/wGX1v41+/VmXY9J3zhMAM0wCbP8fnzF996Sy0l7wFITZpACYVj4xhKXjmUN4IqvMArvKBQSMIABELGqPjQ1YIIWoMzUPKOQzArgLLfNwHxHlliltx6C774+TQvZ8AzaNcxmheqxzE8hcHRcuihh9566+2qop2qKiAQMQEU+oHDeMB5GIIF6ihw7udG7rhPNSWACf1lg+BFBAlaKUqASTMwsTqEiCdLgEhbSzkJPSyYmUXVq08giSFhUzABxjnURfrKVkmGGSRYeuvd+PKXa2XZBEoCWsaURG3dtgDpxNm13Yed/z+WvT73V4O/uVOViWxdqVa6cA5WCiiDZzJEhUfLQm0ocZ8C8KHChyZEtQJWSudFOJTkEniBKgzDE/Z0e4WuCtdee+3hhx8eBkU4ANl17zBHe5137tCdd0E4jK+BwtVURK2zA7kxjkTgIKyaaJA5At+R1QIoEgOjCoHOMLVgOByqeimYRLnX7BVqyYUUwyOOOOKqq66K7t6HMcf1yxBKxqxB2Va3BEAYqhAFhfjekLlK7BHSO0pvlDhjgnF5vZh2rL6ETbHo9lvLL32Oi3wWtkm2BzeuPccc7cUGIS7BgYhSw8wGROQhHvBQw2CGSKgV4XtNbwQ5G6LFwrQZPq6yhKsDnL27YEvvzVkmb1t/pvzNt/9h8cykFFoynPEIvcTAVrS/LGtecgMPsJKw8cZqVm9m2XRiG0x5YkvDDS0tM1uroBbxBiC3yET6XGlU28kE5EvjS4Y6PzYz+Ztv/z1mchMeQt7VEYRPmOqhrJq3ee8POuig2+/6DRNbaOfwVUMVTW2HeIKU2rk5RYnZKf8Pf9u/bSNgIAYAVMXCEVRQc0gRfsBlzpekUybblmgzNTmhxZitYTbDdM1OWN5mqGHYkCGG8Q6+IPXMJAAZETSUZJZT9ahPza77zncwsa0viAdDEG27unjhzcSdBKn2x9S222PZq/z2/+3fOgmETApJnDpbL8haRlJCPE2Z+rakb4rTWWsb1uSszDAGucGWhCdTZuaMYRgFMEXIM6YkIRioST32AnuJyG233XbIIYeECrK7OMZ0jvZqfPv/P7p5HLDwJmS+EXugzEpXL8QymIThE0mKpD6dWsA0OHFJmgOzwKw6IoAgQFEzs1miAi9IvNRZmaXX7FW1CyGiQw899NZbb32q33EPY47rlwgUKJJ0MqnNmLRF8F49wRnrOCnIiMAQyFBDdSLLVKDqqZwptPRKRKhDPPvCQEssnxy/9+8vxGzThQN0xDq+v4256g0PgA1ZzzxjZMLIdouZRAtjfGIbKW+v80QN0ynEQntPbxhjwmwZNG7lXwv93kOFlsrXuxc7fXtP+FoGMFoC3//h2NatCNW8Ewo+EiUICyiUE4J0/DPGe+Md5620KPpKn5aqpauZpCasgsI5gtYMDSsEO8p1CYtnKEEJYskrQFi0eRu+/8PR0Cc06ZVg87AtW7p06ZbJSYjCCdoVtAkgo/DtMqPKwh5QAoqW/9GlZvPGIetKOFGGoiTk7MRICFYiaXvKCegjU2MZFN/nNFMiB3KcKGWlG3BuiE3KLOq9iAIZISWIOBtSUglEEG8ExhL6H1yPS346lHsLIAEIVmDQi4/bU40DtysBUDt6D4owzT2qvZIHZ0YoFXhVD0ChogomFSoECaep01FnFhU82PI151PV4JVPgRFIzbXE5wAUSAlDCnZSOBKkokaBPd1eIdh906ZNK1euRGd/uAtP2+dqr74Nm0ZYFV7VqpoSgDpCi9BKoFAUBA9P2qoX3pQg8jX1viwUMIBNPcirIiHNiry/zEO8lqYg7wvpOXtVewxmXrZs2ZYtW6riMxFgzusXEWqexpoylrsBrzUxFpSpTbykUqbeWwsiOK9GdVgUZBJGRrCsEhY/hsqO9Wvx5q245JLhYBCOSYe/jTnaq+TMw0BdpvmguCFF3SN1qKnLXHOg8P1NqbeQOngxwn09qDeYuSiKqtN46ADfnVAUdrZVH/i9kp5b2WaR9MFhdssDF35jUVPEwxBUNbSioE7uTjiATAUtplKUGMaASBPSOmlNpU7ki4JhEaKnGL70Q4K0ew9DMNouQy1QQxCPsWZ537e+gZnxukpjvoPNw+MY1pUkSWq1WlIf2L51Ak4AuE5FFaL2Yg1VYi7DWWqzccs3vwWAIYrCs4ApBWqFJg4Aq3CIWHScOap7cVzmRuBFmDUj01dKrVD2MArKC1M6BZja1bO0Pal6FTCB2y97EMZa5f3f+t+YbqaQFpVIBQr28PN9P3c/7UqrAnTZC3gce1mG93AAEywTJ75lpPSgBBlUUzStTBu0OFFjAVUGyEI8TFHWRaxBziDAe6jAemSqhlJh69NkT7dXOANZt27d6tWrw7gQkV04Qc/dXgo4hQOcMmBQVrWMFB4QQ5aZjYCLujgPpEb6vfQBNSApcycAIIrRZlmDhHjuqdTOWJNa7jV7Bc9QuPOrVq164IEHQnW5p/p99xTmun6pQlQ9nMIRhVFvRBwZEUKpgGCWUDAyy0mZi/qwy1DLwiwKKBKFIzVor1+3fPubaE3V4EA923S8V5irvRysQhUiBAFIkHqkAFSdggwSRg2oK1vhcMi2gx7QG8GJm6ZpOC6rjpSrURxGd1C9e/GGtueEbwEkzuOem+XOG0s/y0SiYJCRHStQbtprixWwTZhYBOLRPv9XeIUqMWzoVi6JbTCsgS+R+vbPOu4kcCusZwapgolKPyt33Ii7b0z8Li+VNGfC41j5VFR19T5rHnhgPWx7hKgIpB3hmQKhl1sZtvr3359ef2NLUDhYQ0SQ0KKGQ/ZM0iKrMASrZFvEhkySgYnblTJUBGCTJIYIMKb9X1iYvaAE1CYh9hFKEDFcGoYXkGu0br0Z999D4lowHsEN1qNho08pCnSPsuBHeBx7iRROHBIUNnQfFiIYgrNUpklLczYwBiIQF87dbCg6YAls2mHZJeAkYdSZE8NQlKqNXPPtVO4F9nLOTU5OLlq0KAyNXRtjOmd7OTiBt+QNID5RgCEMAtgwkREhp+Q9vMCY9gTlxHfCk9JgOGZoYqFwDqpwnDSReGd6015hOlqyZMnExMRefB76JJjr+hWqshuCYfYKB2FYAnsPkyCxAJAysyF1ooChhEClIncqbACohog1ajEzmdLP4o6bcPetqVcX9yO/jbnaKyWfkA8DlgkkUCUvIII1IMA7eJ9A6gw22ug1vRFCHarEoTCQ77vvvp/97Ge/+tWvZmZmghSuwpme+iuaH3rOo+MBFCWuua6vKBIiVVUGiQIcMk2MV29QMBlVhpi8sLDb09pdI8nWwVpfTvtuc4tKadjWdFam4kYLtgUXad9m5jw1+0+NE1iJ0N7VhZVIWZQAVU2IBlyJa2/AM17g7bwVdOo+aOj2qey/Zv/f3HvPoYcdilDLghmsvl1yVKBeKfFhq/rrq/dvFuGUxiipqILUawhbzFQ8jIMQXOodm3RjLduamK2LhxM/O5w3V2gqLd7I2cTi4Ya0lrSm187OLMpL9VDAkGVAnQeDlEVhoCQODFIosAhTuPqXOPSZwuwBow2gpr33vD3VMBCS9lG1RWA8jr1C6QXAsDjqhJYqIXGezEyjz/4mSaYGRwo1qXeDpMu2Tw8W7B091FfbkqRjjOUTEwPA9sRsHBpruHJFnq/MZxRlfxIKQOzZ9lLVTZs2LVmyxFrb/eKumqPnbq+QBkrwoYxyu+2ACIyQVTFQSdOtnG6sZbODg3VpZQ03U++fnZrcDmyxdXBWuNwz3bl4tGgVa5r5IrjB2aZVayhRKnvKXt23OkmSRYsWhbCTvXiNnBNzXb+c6La0/kD/0NRwPc1n12yb2tdhyvH6xWPbxa8pddXUNIlXi9uHB6b7RpZMbF0DY1st41GwBUqoqMA4C2KVPDFY2pjFVdfgac9tmGRovm9IjzNXe6XaUiBXbE9rW2oDM2mNQUNlo96atkm62da29Y8WlAzPTBzUmlrUzD3QU3qju/igiFx88cV/+Zd/eeutt9ZqNe+9c+4P//APP/nJT65duxZ7dbRD7y1sAFSmb7gzhKEACDXhCyPGJwaWgMw7hfeMgkwNHp6vLxrf2IxfbJ4cBE4EXg67bNHIDzZtXQacMixLWvXxln4d20VH/4ITK5IKQoidgkr2SmXVE1JVi1Y5deMdQ6fN313oxNl0H0aEj1csXbF56zgIIsKhjSrg4C0YoVpgcPwoGjffUts+wxQOZlQBQ+k0kzMyXBaqpYF6w6pgC1MUv24U/wr8anJ6GfA84Likta3EvwPX3/9QEzgCOB040Sb9JM57VWUmURFlIRhVwwqPktrBJeXsxMSt1496WyYQMEiwIKvct4UUgEpIAR7yOPYStd5rKmAL79Fgrgkl7EUxlcjfTDZ/PdlsAouA1cAfAyfX664l/zI7+33Mvnqo/nYlVW3UyovG198M/BHMa+t1bs5Yjz6F38PtRUTr169fvXp1ldm2a2fnOduLoQIqVcFMWam5qth2OSpVVSY0UVzTwndazau2b18CvAB4DtINwL3A9Vu2neoptRi39rsTW37VwiuBt2RmQEDkRL2gt+xVednD5LzPPvs8+OCDq1at2g1vvUcw1/UrJf/LVvOrreZN49gPeCvwOmBisP9/b9n6S+C1SN+LmjWzJXDJ5Mw/Ts68FzgxpZUW6oS8Nkw6oLkqEpcoaShCks7MNK65o+8N1AKi8H185mqvxHtjMcm1/2qWP2huvQUYBA4Gjhmq3z858wPM3D6+tQk8E/hT4H8wip7UG2HO/PM///OvfOUrzWYTQLPZNMZ477/97W//67/+62WXXfbc5z53b1W96MFQBwAo3Pg1vx5ttkIBEFabuST1phOr2ixMWVqxIpnXzWnf37D5FPDCbPgu4IYEnwBug7t5cGQJ8DRgQzZy3n4r3o7pQ4HP5hN9zqfiC+sLU3puAnkiLvOU+ZTCqTFjUbMxcfWvURTzftTb7UcJH++/cmjjA/eArGdWCvGISRKi4snAGodyEA7N8e1XXUPS7mxMUGGeteWAtkZ84Rnb05oSJ1Kk4KuHln6sr/ZN4OhBvhH0M+AM4KoSlw0NHgfcDWwgfAD4NvDTJQMlvGEw06zAcAoWJmGQCjMMUIdm6jFaYNs1/418fCDsqk0d9hFt6RcAVh3UgaxDVVg+sbCPaS9GMylBhgH1EEKRwMLDgJXu799XgXMN3WnwX8AngTMp/Ztmc9tIuh64zeDSZrPZx0RomtHLgAeBbXXMap4w1Ids0D3eXhs3blyxYkUVf7ZrQx3maq+cAQMyWiR+PCVQkggXlEynKViIsT3hc03f/wJOoeQW4PtY9idAPvHQBuCeLPlpPrMl8yBsS8yvWtgA2oZEdEAVqthe1x60V3fBmRUrVmzcuHG3vO2egQPQaOovfrZiukVECsugzEMJLaMEBZqgUoywaM0nr1i19j+BLwPrga/W+m4HzgKuXLLEwtSBS1D8aO3grIEw7gTuyIYfAhp99VDE3ahnEESJNKUmcRlCfgebvOnaG1DMmljV4YkwF70B4I7BoXPrfAH8SSa7ArgEeBtw61Rzc41OAu7iZKvB5QavMZjJ0Gt6o4ro/frXv/7Vr3612WxWxctCzJL3fmpq6rjjjpuYmIgxvrsPBZCXrQc2ZQ4q8ASFCBwAIXhWVqQeiYcSALlzYOB2ab52cOx5w/VWX1qUyAfrJ46MPnOyMQP8CLi8f/Cee+/+/wHHDow+lPQDooTQdoUVnjXkb5YoQAoDApISjXUbkM97iO+jkCSJc2G8dKi0MXNV4wyl27xxowAtsyO2qJ2pI7CeE4JqCUAE05rc3WgdX0teZOzW+pAHViX2+KcfkDbzB4F7hkfuHV40fcCBBsDWCSsgwIukKZdSGIECLtRNhpJKwQBgC8ys2wTniqqptNJeO4x+C91uxN9iLyi6beu5XfPVO4iqV5TAlqy2uZb5pLa0vuht++2zCbghb80AB40OS4ntrs87c/fk+FrCAOBVy04eYm6xF9jLOZckSbUnfAoO2edgr9QjdBC3noeLltXSwyhJX1k4Bya+vz7ym2bjlYtHnr54gAmSTS9P02cvX9IPwNAssKWEK7EtVwIW1axFWWqLLbyiv+hFe3Xf8CRJQk/1SEAAOLd902YEZx5BlESReRjSnH3IerSKwvJmFA+su+/w+sBILS0N+mp80r77OGDTxm2trL8PGQNufGbGY0OJFnBgLTNAZWajgs5mx4k6hktAgEKmH3gQeWmx13rsdhVz1RvG0LZSH5xsnDw89IzRfmGjnI4Mjrxon5V9LZ0Erl60ZBx1EpQegOlBvRECfP/yL/+y0WigUwe9OjcLOrjZbF544YW753rmhZ4TvgDQbGZTLUNEBG8JrNzJkyZIu3ershCcwc98ywPH1syztmxyzv1m5fKb+sf6bN+q2bwB/Khv8PP33n8U8ApgVXN7wXVnIARSBkAaCmgqoAmzkuRhVmLumy3RbM7zfXg0bFbLXbvHIaOtZhEGcHs9MgkMci9Fbiyapha+UUiEOgnnMCg9G1VCWavfNdNoAi8aW35oo1Bbs0Af3Oj6Bxf5Yhvwq2UjVy1dfONsLsCaoWFVOEEr3DQLhAmi/dai7IQEgLGozZYoi/a1eYVwbwqpp5ZOOAo/fLA9lr2gYKXO/QzmIiiMAbNVVQ94Y4Vt4vxIq/i96W2DwFVsZhhPaxQHA78oZm9btM8N0MPGhlaFcFOyAIiQG2DPt1ee51n2lAXDzdVeQE7ZjBmwAkMCkpZlUliCZdxXH7mm5AR4UUKrG5NEGPSNuhRpsxgBlhXF2sVjv5ZyS9/ia4t8dX+23JfDAKNQD0vtEjS9aa/gDUrTNM+jW3EHCqAoy2YZGpHkGbcSy4AqEkVJnURAQsPoXZA+4MAl+wyVSeKxIp9ZNDX+LOD+5tQUOIM/LO3fMD3z0MiSnyn2s8kzJsdrQOJt8GVQl8kThme0QKowbLJmjmbeg6GMvchc9MZmNps8GHjhQN/a7dsy+JbAOl41nS8BNgDXrFhx85rV2/v6iAFve1BvMPOll146OTkZhnCV4la1bQv1zs4999y9OHC/5waGBdBs9qWJqkJhQKVIGlr0dvrXo11iC1Zkso91G+rN5iABTv7Phk2/BhLgtSYrgOnGNBnTv2qV3XB/6XSf5nYlOGKPkLUoRuFJoFCBI6RkoN6rZIbRaiXzfTceibHWOaeqHccLhbguAkKHHwUZEGYaaWK0atceagcStWP2wZRCchCjKMttaaYAJrarYPHMBFmUJdYkfhi4BfjFnfdlwEPAs7mvRWlpkBmgZOcch0JLoecmAIKQtwoo1KFua5ieTZdDABAD6MH7uTuhrv89lr2gYGFv2o4cUmN8Bm2JF1JnkPcBS/J8eVEQwaJc20xngK1JVhd9RiNf3L/0itnNEyPphnG8PKltxpQVaJKo5kCYf2VPt1dZlt2ZbU8dT9BeIKOhgTEAwDMyCRFGyE2yNS8B9Je6rCVKAGAVadK3GJNrHA5ZsvSqrduWjg5c19j6zBUr19117zCgDFUQM5QA38v2ih7fnTAA8jKtZTo1AwV5cl6CtrBQq8pEoqoezQSTQB1IikbiZ8miv8DSBC1gCzBGbhHcgSODv9g827do+WXjW05YuVLuX1dvj2KAoKpCUDBBVGFLsUighVeXWUHRmud7sScwV71BWbolbylQL5qDCg8MWFfLW5Oqw8Bm4J9uvOY64GjgD4CUMit5r+kN7/2dd94ZelV0BzNUOjj4gMfHx59aF8O80nMeXwuApGQEn4sVKMEZOIOOGABAniwpARjLp6eA9f1DRAkZvN3Ykw846E7gymUjHnhVap7v/Xfvv/+Xw8NJwkgcAFLyZHc4cKT9+7UKugFKBkh6blsAKLG2946PgELWKDEA5VCDMEGrvSQrA+2/2gOu88ynvhwayLYC5dgIBDUulJBkmGEzRdgf+NDI8CfrfaePLLlHGr/cOj5R74MDqU/FGsqgMAJSDdoaBCttr0bJBJVaaBnHAPECPHhrd+t5wvZqf2XHdMRGLJBweBapTIA+XwIgA7LYkpnNgKa1EWAxZOlI/QHguofuGgUWw/YB8EY5Dc39rNpor8dn7vZKrJR9MoPOcUrqBRAVgDE4O7nSag5s6V88rQkAZpQeE/V+B+wPrBRV4Jcb7kuApZQMAyVQkGWTOJHCJNFeexZhmFYnNplvrykEQDQRDSn+nmHJDgHjQNOWoUykKqY42wiUlGbF7EpgbAAMXH73HQboszbEc2vnlwuLkvjOGm4Fqbftg0Dyj/YER3Zmrnqjv9kc7ksngG39dQqVDr1YbbYSmgUOBt538MHvWbnodSkW1dLSCfZwvbG30nPCVwH01WdcSW0UFh7dTyEUMAqjCsJLbL0GXFGWvxpd4kqC+LGylQP39w8psF/hz3j6fiPAl8cnfzI0sNUwQoq0Qrve1AhgoAaiHoBh21RBvdaDyT2Fc9amePgZBAHS6fNNQef2DRSuJBMazwCAEUMaZmSvXGpZGAtVZKxryY8Cv5rc8pvB/nUZSOBz3DW4eFN9mIAB5/vyZtpn0nrtNsg0J05AAFuTa6e3Iben4/bRG4GMaTiHvn50PWQLsOCnAI86yh7LXgCzwop05sl2GF9ZQgFYMwM8kGabBgadtePAf7OdAp45NJwgL4HM+hcB6YwcblNvqAE4AwfS9n/tK9mj7fWUehnnaq/ciEFpQxS1AkAmpWcoQxxWUuuZxnngsoltd61cBoUvcN/Ykt9kSQMgYMTnhwEtxUu4NtzKPTAJlEkGYYbNOyfZPWuv3eZ935NIs7KVE4EImWidVNUTkQ+2UwBgMQNI92FjgNuntz1QH5Cct6YDdw8P3QMsH+wbFg3VYw8wYF8ci2zQy3ZgGihZOhFrnUakADGYOQSnGkbuHbJ0nv7+PYm56o0+6EpGAvxqcvqGkVFrE1U8lNXuHRrZBGTAM8YnnjM+PVjAtQqTuB7UG8aYAw880Fq7U+5aVTwqhPkuWrRob3X3ogdDHQoAtTr6+mRigqC5gSckZVsGeIYCxu/wbRw8kR8H/Oe2La1FS7atWLFfWbitm/cFVjaLHFgJHDC++fVLhr+/ZfK741Pb1q597f33ATCAgh17AowHKXwByUAJUidexGcZavVifu7B41EULrUJ2vMeiDrFWcOKrASCA0yWUpb5EiZpr9UEWIFnbwRGZYCsescE73Fw3nwVcMVMq1jSf8Doiq3TrZnx2Z9v3FIODDeA+/r6+jP7IGNLs/U8IBVnDalXcXlGrArPcCypAwACCovUw3uPrI6s1kTHh4aHDf4FhFb/tKs4Po69GAKidrFWAsETckASy3BMLV8Cdw8MjY6MpZPbpya2Xb5l+jnAc5vudmAW6PON1yVULzWxyR0QB9TEJ74kGEBK9sAeb68sy57auNK52Aum41prZyUKBYefTawv1WE/2zwWuHRq249kqrk0GyvML5vbr3xwZgJQYEDc8/sGTmnMWJPc5YsS8ABTKtpiQ1ZK9Kq9wjJZFMVevDo+CTyANEtqddk+Q4CiJFUBjBqBcDhnUzCSeqHLwCf263WTrZGB4SWr952Q8qp169YCx46MPji1fQbICnvCYPKq7eWiurl+ZnYSGAIYXQKJJBzHlx5lqsy+5sULkGZI6z3ouOk15qo3VLGfo1eCLpuYpUFsXDy6yutdW7bdtH7DbJINlvmSmdkkL0wKOBhpR5v0lN4QkRNOOGF4eLjRaIQ+bd2lIUP74izLzjrrrF1YH73X6Dnh6wCk9fqqffKNG+rtPCxY6kzqCiEYCOAAgWKsVZ7UX0+bzcvGt1wErAZWA28AFreatwMJMDY9u5SzVQNj35nZ9uP77nstAZ0fF8B01oqMkSu8hwKlMf377Iu03oNlHSoXS/DudO6MCAQiEGMMCgLqydDqVbz+gaz9NzBIUmkfwZEi9dISZAmMYvnk9GuGhkdnpn6yZfaaLbOrgNXA/rWRZKZxO/APmzcDEOAo4OSxkbGpSe/VwAJO4cNib8MUq9COa8pZM7R6FdLMh2M+AOqxgLOMQzjob7UXAIIXChILqYT+JPBOGLSskCXALVs237Fl8yCwFDgBOGJs1cDkzBQgwPD09gNVBeC82DI7uwJY5dBHLSYVhOJ2e7y9rLVlWVbuiqdodn6C9srCOAzdiuFDQIIVoCytBRTDuTtxuL9/avbmGfe1GbcfQMD+K5ffvOGBAkhzv7bRgoGW09sKXgqsBGqNFpN67+qEHrRX9w2PHt+dEABZ0rdqlW7awgwVJQYLFEpEvCMUXMi7BP6N/WM3z45fOTO5cWayDzgMePnA0OC2SQdsA1ZMlgc1nAOo2dgn7VsBLAP6Ox2+PHEiGtbBhKgg8V5V4Qz377Mfsl5cv3qNueoNwCyedb9XH+trzfxievaO6dllwDLggKHhTVOT/UDiC0OJK0oDZL49e/SU3ghFuD/1qU+deeaZs7OzQelW5cxCilu9Xn/b2962Wy5nfui5OSsBYLLlhx0+dfN1tVYrUxQeAjYQhDOC0DMXJTriYHmj+Sprjhjqf6gvU9hFTbesMZtNbj2kBlIM5gDKg/PZM2ojm/oTndhCALQEjBFjqsN6ZfKSASBMZ8nyww6Hmf+zou41Jny8fv36I5/znDAgJdhPhUiDtIXCEAqgL7Grn/tc/PJXRKTKAoK6hCDSzoRTkQxwnq1IRlg+NXliNvCc+tBMqjVpDpZ55pzvz1q2Np3Csa2VvLjVXLJ9yqoCXJIxqgRfkhqBAYjhFSqUqhJjxuiK5z0HJpMw1bNClXtSSO0OFErwHXsxwT+WvRgAPNAk9AMiMKohd0nJL2vMfmhwZFvdFAaZQ81h36lGtm2CgdfYrJG4NPfqQQTVcr9ZeWetnooMlnkwer/XkrCn2yvUju1ORt71hdbnYi8VFjAghrmAeEImoCBEAVI8bXJ2WZId3V/fUq+vmd2cc/86ttcDBVDzRsmBAIPhfOYPBwYWN6TmSsfeACCU6LnxVbmI0KmpvBvedE8hAZCkSw4/fOqWm4dyR4ScoYzUqdEdwSiK0E5Yn7N5fE0tOaw/m8q4v5RV0+XYTFPBw9mAY4zNNBVqGFCMNmbfWluS6exg3kKoS0lkpa2kcmIWX1OAMZ2lS573AiRJzwUy9h5z1huqGfy+zeZglh3eX29Zzpz0ucKghaHEClIns0aswnhYDw1FYnpGb4TBKyLvete7fvOb33zlK19ptVoAvPfWWuccM/f39//0pz8dGxvbW9296EHhmwIwaXb44fm//R/KWwqkHo4JGjbLrGAh334YCSkARX/pnzY5tc8MZm1GkvS7MoWgvSYkAAP5kjxfkqNgpApQcH+FMCoBWIlSj1BXrxgcSJ/3PJh0HoVvqKvX3bMtLDYPPbRx6eLjH/atitAzHGCIkkIISDh99rObY4uybeMAGUpUXSdw1BCMogBgJNR5EDDG8pmxXDxKprKjtYEQJEpshaxop2yk2HCwqyoJJaVHkNRkLDN8KQAWj6bPeQ7SBGFyUQX3aHmsp5xONJ4+7NPHtJcSUkpExfswbSqRtgwIGHT54HS+dhqFYVayArAHAWr6nPZ5AVAwhJAJ+p3vL5vAjpw5K8gt79H2UtVVq1Y9+OCD1QxujNnFTt+52MtMbCNowlDRUsTb0ONeAK2CH0AYdPngdrdq2vWLh04VlA0B01UWIwGKwcIP5Y0wZ7UMW5VMIaa37BWORKsb/sADD6xevXovPhKdKxZAktLzj2p997vDxYQCjuEJmQszJ+eGjPodQeGE0bwczUulHSmtBB7Ly3aAmkKBgnmgzAfLvApcyw0L2EoZqvrkhlP1IBAhHxhafPjhsKY3q7L0FHPWGyRQAWQsb4wVYfvRKf4AqCI3xrNH6N2opiTfg3ojeAo+85nPHHPMMX/xF39x22231Wo151xZlqeddtonP/nJNWvWoFPabHdd1G6lJ4VvavD8F0xlfaUfT0yo2246jULJMSedvGbHMB6mXe7HZ4Isz6ElgE6SdabICnaGYBUgOEbaCX1yzMZLO0KPjMIzUHpMpvVVz38BUjOPwrfbiRWev7C03H/fffvvv3/1JRVHImRCMm/w9UEIjtkeccR9tdrqFGnhMrVERtWDyYsFmMHU7o1goAIKd6xhqvWrsyRbwGo45YGn6rCmBKhox6wFFyOEyXr1AIHGKV105As0MdJemNsl+Bcaj5g2BBBqV4l9FHs9DZbUW6ekRhAqL3vXdjYAaM+wqRfAAAzySoB46pzNJZ4LQ9WEC4UncNBYij3dXkS0fPnyLVu2hDYW1Yu76vfP1V77GE0dAEcEo6xqBOqgdkfiCKPdQMT3+5nwBhY5AAWc6QggDctn+1PHifElVHrNXmH7HZRuWZbj4+PLly+PqrfCAEhTPP/o7bWBMZlIwuRqLMgBUKWC07pvhoHZslxz1Pbedv2StlICoCgMXPt4ra2DwwzAQjvqNiirIRQgRukwmfavet4LYNM6pAfz13uKueqNFGFP3B7d1PYKt5dLUlNzjB0lNVLHzZ7SG6FXBRExMzOfeuqpp5566rp16+6///40TZ/1rGcNDg6iy9f21F/R/NBzoyIDSgMcsDZ9+jMSk4mvShaE/kRcdl0yK7NwwaZhbcuYjlYTkDhGy5iCkhLw7HMDR4CEorNtSoYPR8sQgSdAPBKTpU9/Bg5YWxrMe9aGiAQXS9Um9MH71+2zzz4+nKKG5DZigAlULbUW8DDYZ408+9kDhMzCo1QFE6AsUK2mT0AhnuEIjkODqLAMJ4p6wcaHJHZpT8El76ilD/LKnkQVUIEwShYPZyghHkoOORT7r2kS1QDjAGV91BJRezvtBYw6/7S3EI9pr4RTy0bUKQomBakQSJE5JA9L2mfAKuysRdMgtygMVMOTgMyrEc6ZW4Zblh3DgxG+uufby1o7PDw8Pj4ehkYISttVzNVeA4TUwAtUwaSJeONVhQs2hWHH8ESOTXue6SyQuZUCKAGhHblxjpLChHc15OvQDIretFeYjrZs2TI6Orrr40z2ZDJIwcB+T8ue9owkseKRiWG/wxffbaWQcqxIPDLVRNXkzI0EhRUFK0zBRgmZ+EzC8odGx4ubiHabm7xmAvFIbJoeeCAO2FcYqfbg1rW3mKveqBxAjo0jdmQ8GaiBMjQDsh25ptr5kQ69oDfCSXLw41YHNWvXrn3pS1961FFHDQ4OikhQHejE++6V9JzwJYcWA4P1p53+tm3ZEDN7ACyFAQCjYnRH5cLMgUCJeEZZMnZoXwCAkFduGJqtuzJz7ME5c9apg+S5/dsAFAZg8QAzT9SGn3b62zBYzzns0ueT8ICGp7Msy1ar1cobI4sXheHTXnBI24k+bEEC79Iw6Or1Z73treHQVSCeoMqqmkIsQjADe1LPCsAISFhgWha5YUc2VCDMDWYt55R5ZKk3NQdWKLWLHRIBRExGAQd4FgKg6XhtcL/T34rBmgf6tZ2pLmwX5NFbVZhsh73anz+avaAMcsTwBgIv6k3HX0udaVcJnsVxXpo8KzK7o7+XCU0yATEK6xOoAYjEGDEKozB7ur2Cu3Hfffd98MEHq77zIS1jFzFHeyFoGQuwkKr6hDSBSYSB9mYyrB6OkRtAUTA8cciGS6Ty+HLBtu3+gyU1UAP03PgK7qJw59evX7/PPvtUy2QEQAZfEDCQrT39rVuzfmYm8bbzSBE0FV95dzPHQEkoc+tmEuSGTWhurPAsAjbCmduREQVJqrWP0F68oCgNUqgHmDCZDTztLW9Ff5Zzr9Yj7CXmqjdabFTZqFiBR5Zz2rKcG/UUXEQecOGQzZMBpNf0RtimFkVRqd4weKsplDuECg9P+QXNE733h2kJYIIYp56yfvkyaJ0B9iocUtm0z0noX1/tnQlS89LnPKsWhoNL0igyQaZi4AlihTJPqYSVAwoYQZ8TgipBGOzVAND6+uXLcOop24m1czG9QHBubd68eWxkBERkwCFFVEKqPiHMcoZAkga7ZhlOfDlG1sx6MqSGxBMRCCwKD3gFPAMkRkDKRk0qlgCjYrUwaKYiVoL3NzHgsCaTwhMXph0A1al7SgykABEcZHyfVTjhhCnKuFP/1BlSwCzEiVgBKIHbmVI7JMKj2sstXzEpAMMwSoaEbgk7DtbarS9BMECqYjVJPWceNQerohBnwrk3DFDzyJymElofQMjv6fYKR+3Lly/fsGEDUEVu7EJf59zs5Zeu2C4JYIhUCGIACvWyxagQhKCpwCissBEGDCsnHhZIAdtpP+uYFJS211gBfDgw7TV7VWuhiDz00ENLliypzqMiAOBAwLQFTj1lw/IVgozB1vnOlkZqPmcgfGpCxiRJqj7VsuZLK2IUVmAAEza/4be2RzT3Faxoux6seCUUBkJIS2/AkP4Hl6/AK06YNphvp80ewhz1htf+UN0Q8Jm4RJzV0kAMPFACJeBzi5Zhx50Uxh7TGyKSpmkVsxRC9o0xIlKWJTqO3vDKbrieeaH3hC87Ey6rv2/ft592/1iNE2MEVlAYhEP3sAP2DECqmvxGkYgYFVZAQQLjdwSqBqcKKYD2Bs6EZxlSGFiBEVBi7h+r7fv209DfR8Hfw/M2e4QVPTyaAIjIGHPHHXc8/elPF3VeK91PoHawl0e7ITE7GMAnCYYH8c53bl66jAAidYxmQtqJ6C0MHO8IzAcASFoaKyGcEQBSj37natIEmmhHjBkrlDkYgSgbr6JgGCuoCUAYH+vf/4/+AEPDisRAoC0knVzWhXn0RiI7nkGg81Q+qr3sW9+0fclS8iCFEgprq3tWMGvIZFH4Tsxu+8C8s/cheGk3jhIgB0pqh6qUQAmSvcBezHzwwQfffPPNVX7bLvZMzMVe5vR3b1m2nFDCqFEIQSU4fjwDqYRo7LZ5rITpS6gqagUT3oVUrWq7bBm8mpyoCUKv2SvECAJQ1ZtuuumZz3zmU/2Oexjtgs/AYP1pb/njh4b7ODGACkzLcph4rcARO0o6PTVhPdquwc5U3M4i7mzDOv86owbKPkz5BAAlGxvKpSXJ+tGBNW9/A4ZqEorcUe+t773GHPVG4tFeehlAmWgZNioVntgIMi9WvTe+1/RG5ccNfYmrLWuYRZMkqaQwuna5ex+994cZnwEJ4K0des/p8rRVrvTGwkonAjW0plf2xI6RG/ZULR4wbTnIQB3ogybtpYvFsyiMY3jidrtzCADHsAJj4UovT1s1+O63emsTIMN8uryqJ7IKxwFw0003HfLMZxAzCNpZlSGincYwCgUrE+BRApOw+PMPNJ+2NiTHlPDNlFQR+t8WBr4rldixePKErDrjdYx2Tg97GLQStIwB2ie9RozKQAbTJDRTo4B4EAH7LU/e8SaYhAGF14Q8EwO2KydgISGVobrjcB7TXh94P+1zIKlVD3WmsMYR2KAwaCYo2AJJwVnL1B0yqClMviPWjwBCGsroEDzDm/aL1X97ur3CVvB5z3veNddcU83Ou/SofY72+uCfFgfsSyyqEAGR1dB8jwBCZ0NCLcNKIYhCQPAsHnCA41BzBuHwtA2Jch6UTa/ZqyqjYYy56qqrjjjiiL3YLfRkYEpDqnVi+t59OvZf7crSMFg5N8ZxJ3xcjScLYDI1LRNWmwQdV26YX4F2xDcprEAIhQnhDF2OCoIQrMAwXJkXB64cPOOtLcsM1NCbZbh7jDnqjTS4EjrTqedOWqICMB6JwliB1RCvgl7TGyHUoVvdduexVa6E8O9TfTHzSM8J320wRtFXomDIWN/aL35u49J9xQ2K1vqkryQoQEYchBVWWEgcs8I8LKicBNQEGkAJAMoQ4yhpWjbCrPAQMmEFQqZ9ojVxgxuWr137hc9hrA+MvhxGdOu8zhzh+et+5Yorrjj6xcepwKgmDCWFSZBkTKgBGUBIQRkMjEENGIZpDvU989y/uW/xahU7KFnaopxZHchgoJR+r6JMIGVh40uINw1Qu3GN9Wj7JIQLDyYL8qUtWqyFtSVpTRsgx1zO2twkIMV9S1cu+/rXplcudRaDTdQ9GuAW2olZedJzQuqpJyOwbW/oAZPAJITHttfygTVfOPe+pctVbZ2sKbwjVkFGGCrKhAqBz7QYdE22eYvayrbNDsnGpcJbWxKXxrSICmNLsPV2L7AXER155JG/+tWvqtGxS4/a52ivxX3POvfc+xavVm8NZS3hnKEKMoBAmESZSDIt1aIFgMJhVOqBAlAqQRJCGrjKf1MrqEvYw/eYvaosW+/91Vdf/fznPz/GOXSzjUqrGCpRkJUlAysu+OzGpfuKDLKaIZ+oQAXEML40yAGfeCZA4cKJAoUO5QRQODr3QMhcNI4SR4midKzkdzhz65oJUpHBDcvX7veFz2BoMEF9MIcV3YqnssHhXsFc9UbDutwk6k3o6mY90h2uem+QWy0BVjU5J16T3tQb1Sh+1H+Dr20vdveiB4VvDVbhQwhjgWEc+oKV73pjc7TfUIt8QwhTKZeUJGQSFUD6XJn5ktppmKxgT+yIHbEn1nYdIiH4zJd9riRIomLJeEqmmRxgXcNQa2asb/V73oxDX1BgmBFKRWk2r/cnPHnOOXRCG6+66qoXvOAFYa/2BGtnMhjPOXjte9++eWzMaz4ohTU8aW2DUiixKJOIqgiopDolIfmmYDhiBSvYMTuWzHBSuMSJdb4mlDo1yi1rm4yMsbiALzE5uHTf95yBZz03AVsBWMDGYEc5Se29563XiPZ6Iuy7776zs7ONRqMoivn1TDwJe+WGW5YBpIAJVSMUZGyu3iNEWbisVI8Ugl6zV/ASFUUxMzMzPT29//777/XOoTkR1689i2ivhUnP3eiaJEQEK8aBgNn6iPnYn24+7jBXSxSoEcTSjHhVaMisooeFqAJghREYQaeee2dSDmcTQPjZae9cQrVQ/bsvGT/xBfznH5itjwAgF6rzYUDns6BZKCwSOoKWZbl+/fqiKEIR3yfuZVGIHxjAmX9aHH9c2T/sFIl3htKW1JTqRACBDSwzQE5KI8waBjAJUWlQGBGC8wLAmuCXEiIYoJSyWQcrvIP2LZo46RQ688OzWT8g0BJGQNaCUwioBDvqveet14j2enzCDtBae9hhh/385z9P03R+PRNztRdCsCaJATIg8+3YrKZ3jsEWbBGKRBAnhaDX7BVmnjRNf/GLXxx++OFPSYz1nkxcv/Ysor0WJj03YbFAwapkgKyEAJP1wf3+7sKtJ/5ekdZAGG35UYjCO5BLQ6VMVGGO1I562vFfeF0p1N6DT9mBFH4YOpILCHlW23biSft97RvbawNCSMvwqBKU57GcWXfTClVNkuTyyy9/yUteEgqX7lRc+nFiHBPoLIwbHF7zxc9PHvcSDNSdYNA3RvyMGF+YZFbQ9FQIE5ENEQ4imRcr3sAnKn0OqcASmCAehaABeOthXL/4sSacA/rHth13wn5f/PzsQNIELBhMMFYBG8qQkiBUC488LtFev5XwtB9++OFVmO88Mmd7EWpOak7Sdjmzoh17bchb2wB8CacorVoqLNBr9grTjvf+uuuuO/zww1U1unu7ievXnkW018Kk54QvGGUZUmMdKB9AKUgbw8uX/+23J095das+QgwB2MJBydVC54XuZ/GRVE+hI5CrCZRtO6iuWR+ZOvnVK776943h5YKsDyUoB3kQeT+fyQHdMTdhdQ8Rdehk81QFHx4fA/QBHpAli5f93de3nPx7NFgTBRlhl5cK4RpnA4WR3PhCUdXMQvctVXiFgymItZ6WCQqCF5CBeDRGlj/wilct/cbXdPGwAQahBHiy7VYXIaeHDNRSXCJ/G9Fev5XgX3zxi1982WWXhVfmUf7O2V4ht0ksQsZ4J7dUvKqwamqCc1hyW5Rke85eQeYy809+8pMXvvCFRGStnfftRw8R1689i2ivBUnPCV/Pof88wIA6EV8P68ri0WV/d2HtzA/dMzzsLbxDnRIrVHPIXDvpNQTPNRJuWNOwppFwy3JuOOS9Zg41ByuUceodfILfjA3X/+xDy/7uQiweVaAfUO9CmX+oGp7P2xOOdKtlBsDll19+9NFHh69WmZi/PdhXEyuaQmaZG0tWrPjaN8yHP7R5aY0YROj3bkBcms/2eakBYHikHoljU3C7T5snOANPxMypIm26oRJ1B1IQ4f4VK4fO/MDar355dtlwblBDM8Msw4VScu3CTrDae82xe5Ror8claCzn3PHHH3/NNddMT09jFye3zfWC5mYvCOecNW1SAB5o2k59Oua6cp936oWAfqehJW2v2SvMOVNTU9dee+3xxx+/S1uH7A3E9WvPItprYdJzd9qFgqOSg7lI+h3XEpVBgRq0huv4+If2//7F9z7/iMbYIq+dLGgCCEaQirCKkdCeVY2AVVKRdjftTnSOF5odW3T3C454+sUX4+MfyofrYPSXmgLe1FtUEyKwA5dei/m6D91yVkTWrVu3cePGF73oRd1SGE/E1yXwXgAx8AUwO7YYH/nY8n//3h2HHzIzOuhV2XgPAUEFKWDaHYyZ1aQO1sMzPCNhJSkB8RCmAS9944uWbzz0mWu/98846wOzo32t8GbwKAtSF05ytV0LrX0CpD33uPUe0V6PS3jgrbUDAwMvfOELL7744nm+oDnaC0gUScmsHf9OKF+VEGdFThCvYIspStcv22fTsw7rNXsF4fuf//mfL37xiwcGBkJps1jYoSKuX3sW0V4Lk55b2Qik8GBUQeIEhoqBlAZbkkyOeMGB//b/Bs888461azYtH/PodMoGCEgFmUhNpCaSiaRV/1FlqPEwm5eO/mbtmqEzzzz43/9f+YIXbLaZC/XFqV0/URCaBIiqm8cC4DtljXz3u9896aSTkiQJMb4Agj/4t7dNImhiHWwfaEgAYFtS1yOPO+h7Px/6wIfu3v9pE8OLlDJm4ySk3eSp5jUprfjw42kori5wCjYJMDA5tOS2/Z8x8oEzV3zvJ43nvaiZ9SXAgPoErKgh6QcI4qhTZC78+zhnQ5EdRHs9LtXzLyK///u//x//8R+Y357yc7dXTZoDZZEABqg7bffh8y7XnC0MYXZg+OaDDxz84AeWf/9HvWavMOdcfPHFr371q6O795HE9WvPItprYULHHHPMz372s938ri972csAPOr7toAkdCEPvkxql/V2AME5eEJioDZvYXwLrvjFPX/79ca6jQPjk8ubRZbPKko2COsgM8SDkORZ/6Z6Ort4pL5m+f7vfjde9EIsWdJKMwEzXAJmtVT1eKPQNpAU7NutHp48qnrsscc+1h/7W3+2ivE98sgjzznnnGOPPTYUoJ7DL+kMaKOAOIC94RKwgC0cJrbiR5fdd9H/zm+7ZQxTxdS2xSVMAWsQmkERsxPx1kyz8NiicUrtsw7Z7/S34vjjMTSMJHUmVM4vweTJeiABSBwUIAuEW+oABZJOB6vIYxLt9QTx3m/evPmQQw554IEH+vr6wos7NaDfDZ7IudprZRMQ/GbR4s+Nb50FPrR82XM3PQTChE22rlrqnFu13/7D73grXvk/MDwGSZ2dN3tVHU13er3Vaq1YseLWW29dunTpXKejvZ69bP3a69mF9oKGEjq17YLmsiUbUx47aL+173znnOx1/MteBuCyyy5bCKcoj6MDn+r37blxIe1qlAw4qIc4kA09yzOFLR0M5yaZyvqGVq62/+NV+590Iu6+H9ffIldet/GqqyY33M/aYksAxKlQbXjlmuVHHLH2yMPw3GfhgDVI6r5e2w6ugfrFwZVIMkcwAHkADkYAA7KhtdJ83aBqCQ9xDvfee+/LXvayJ7XMlEY7K6JheG9yGMMTFi61fcuW9//hH6495ZVYdzeu/u/x22968Ne/mFm3qTZb1m2tZGo4h6w+tHrVysOfmxxyyNhRR+CAfTFUn0YmsAKMNgEWGAq3qr1IhiV5xzKsgEClB08Yeo9or8cjeBxD57Dly5cfcMAB11xzzYte9CJm9t5XfYl247IxN3vN/tfl996/ecPg6JbxrTOEu8bGBnLst3rt0ItfMHz4YeawZ2PVMoz1bUuGHJJ+Qv/82avKIqgqORhjROTXv/7105/+9OXLl1dfjRXNKuL6tWexq+zFzM3ZVinJ4n0PWH7EESMvfP6Kw5+Ntavmaq/I7qGHxwVZsA2ZH53cDQsQoJk6Q+RgXW0Atb7suWP0zEP5ta9b6cqVZYGiiVYDAGp9SOtIUtgEqdHU5EQEVmAYYtUDBGRQ206xJoCttotEzTPdi80///M/v+Y1rwnZ03Nf0QuQQBMQe7AxDHaADMG2AA80Uq4v6qPRZ+JZBy+SdFExDudQFpiagQr6B5DVkGYwGaxBLW0ABbwFMjiCIhWwQejU2sm2MVWzVoaHYxCpAQDqRS3VY0R7PR7dDYqJ6NWvfvVFF130kpe8BF3dOHevs2Ru9kK+5VBPh5bub085tc543Q8uhgJcQ20AiYUVmLwBBbgf6CcgzefXXpW6DbeXmS+88MLf//3f727hFv2+j8LCXr/2PH5He6licPiC931w+f4H/P4nPonUOANnbbRXb9JzwjcLOR8KZRQACBkJnIeQpjZPDStSKa2ohfEJGmBPkMxoBqAefsmOxtgdqLNs1BXWAfAw1CRLKWoKlB4ksCYnViABjGLen0fvffCj/NM//dPnP//5J+dWoWBi9gCMsiM4YoLP4PobhMTAIicpOJEMHqjVF7VC9NJyZBACGlCFkU433AwYUQMP+IZmZtawAdtQT5QEgICBcPfEQxyYwCkBKkAZepJHHotor8enO5hBRN71rncdeOCB55133tDQUBgdu9kHOVd7+foSC2TA5uFRoyiWLM8hJTrNm8AJ6hlcnxq0FAnN2vm0V+Vfr06fpqam/v3f//3uu+8Os1MQxDG/rSKuX3sWu8peBDhg2Rl/8tGzP37cYD34kBWoRXv1JL3lzkHoYCIAEFI32p4ETmCsKijE35gEiYERozKo0g8kEO4Kb9POqo/OlJFA+oFBFQuBFVjj2DKBAVXAGpgEBAPYEK6ngMDOa3nKcNR42223bdy48cUvfnGV1jM3JFNkHgR4iLMiFlAYD0bCUIVHplpHWYf0ARLGIeCBHFyCDdqFVmrAINBXAi58X12QAQkjlCkMr7aj/kEO5BkIW17XfrUnC8P2FNFej0vVIDdIrsWLF5988skXXnhhd9Indkt0b5s52iv0mCgBR+qAUJUsdHGrATXAQo1YlIAlGMyvvaq9BDoi+Jvf/Oapp546NjZmjKnKKe7aN92jievXnsWusldw4J5w7LHrH3zgrrvuMOr6gYFor16l5zy+EAFzeKasOpAqEs8hhUMzJmXkQA62XBrXtFoHSa2a9EU7v4HgPZjBnedTBSKFaYmpeyQWyBQQiKq3JEACtiihBFiElEuVeUy0DGv5+eef/yd/8ifGGOdcaF88ZxRMFnAgD/FWjTW2AHwCE0a+JlYc0AQ8uA5P8Ao2nWGqANoNGQWAgWHH8CAD9IcDHHiQACbcLA7vCiE1KeDaFmBo0rPJUj1EtNfjUvkgwyH7e97znne84x1nnnlm+Go4du8OTn3KmYu9alqHOliuSwnlurq6y0EMtSACMYhB0AShP8U82qu6gd2RDF//+tcvvPBCdHSwiMQ4h4cR1689i11lrwDRR/74jd8659Nf/sY3oA5AQY252SuyW+i9UcEAQQkaOhIpEYTCWYRVEAgwggywMMbWkRhYBjOU2tmVxiAseGFGFoESmGEZqWVTtzAZkPh2dghbVSgDBGnXBCJRgs5rQengStm+ffs///M/v/e97/XePznV68IYDiff4SYwQxGKdmuou6Joe50ka2fMsAFCXVADWCjBK4jAUCOeAYAVVjrbXqZ27yiFaW9bE2gSDugsxLbfrPc2Wj1GtNfj092xxRjjvX/JS16SZdmll176JI9EfjfmbC9nQQlKsd6RlvACpHDBdcsgDy08oSSoioXrEXsFmXvppZfWarUXvehFzrngDA5xDtHpu4O4fu1Z7Cp7hf+c++AHP/jdf/t/W7dsgWU1FO3Vm/TcwhbSNYLPCrBEMCiNNgEoZQ3iDEgEKBSGNEma7YM/wEJhwgFE8Hpx1xlEhQXbQuAEljVFDmSQBDkAIFVKEHZlcALw/JWDCUv7F7/4xde+9rVLliwJLz4JJ1YRUmFEAHgyLTAIGWAFqQLsQPDGCohgxdhQGAkGFjBA5yDIMAwATyAgAaxvb09zKwom2BQIJVraVfQVAINC3KFAE6h13IMPXG8R7fX4VMGmAJg51Bl43/ved8EFF5xwwgnV0Xyow7UbIn3naq88QaK2Zqwn8gxvU6/QBKEiroGmEEbJIILCS24wL/aqfOohkDfcxq985Svvf//7q014OIOK0b0PI65fexa7yF7hX1hra8uPff3rzv/WRR/76EcNwcLMyV7zdh8WGD04LsKRbTdJqK5HQH94wbaTO6gKL58TKYdQOwJqnV8XvhKmGIN523x1L9XT09Nf+9rXfvzjH6OzDj2JNaZd4NRw8Ar2V19ov4kFumKbOjGIvx3T/hVZ941ioJqmq+PXkG1DVR5Q5PGI9np8wkDoru2gqm984xvPPvvsG2644TnPeU6IfyCiJx8aNBeejL0IAIQTCl962Jju+l4CzMNT1XajvbrLNYQPbrzxxv/+7//+x3/8xx3X2glyiMltXSzo9WsPZFfaKwyEj77//ccff/xH3ve+/sFBAEhZEyUCAZkqUbTX/BNv9/zT3QCpe0W/4IILjj766EMOOQQdR5dzsdJfZEHzSIFljMmy7OMf//inPvWpUN9XRIJXMo6XJ00Qu6F0RhC4Z5999ic+8Yksyx4Z1BtVb2SBE6aaMBAOOeSQF77whV/96lfDl7oL0YT95DxeZyQQhe/8ExaSKjyRiIqimJ6e/vznP3/OOeeoalmG5i7YDR6sSGRPodoiGmPe+c53Xn311f/93/+NTsGHJx0WHwEQ9g/VKdMVV1xx3XXXvf3tb+/28s7rBUYiPUQ11YTF+q/+6q8+//nPz8zMFEVRbQvDkInJoL1AFL7zTBgM3ZtC732apueee+5LX/rSgw46iIiSJOn+5khkwVKlUlV9xcKnfX19n/70p88666yyLB9ZiyDyJAhB0kRUluVZZ5117rnnhtbQVX5hNWXFeSmywKmGQFisDzrooJe+9KXnnntumqbe+2rKqpb7ebzUCKLwnXequkvdHZJuu+22r33ta1/84hfD9+wkjiORBctOQ6DSXgDe8IY3TE1NXXrppdVXd3+Rh72GcEuD9r3kkksajcYf/MEfVK8/qhUikQXLTqJWVb/whS9ccMEFt912W1XxOqzycVLqBaLwnX8e6TJ5//vf/5GPfGTJkiU7NWidj6uLRHqLao2pPq1cvH/1V3/1kY98xHsfQu52T/O2vZIqqUBEPvaxj/3P//k/kyR5ZIpt3I1HIoHukAZjzJIlSz760Y++//3v7/6e3d1eJ/IYxIVh/qnqj4ZU9O985ztbt279wAc+EJbt7iPFeb7QSKRneOR2kYhe+cpXrl69+pxzzgkhd3HIPGmqGenTn/70mjVrTjnllEdK3nh7I5GKnUKwmPn973//1q1bv/Od7zjnqjqMcTfeC0QbzDPdAe+q2mw2P/zhD3/pS19KkkREqmah6GrWGoksWLpXl24XSyXCvvrVr375y1++4YYb5u0S9wrCWdPNN9/8pS996Stf+Uqo8ICuvUS3CaICjixwQjQ8usKrRCRN0y996Usf/vCHW61WFTuEOF56gCh8dx/V4x7GRnch0vABEX3iE5844YQTXvziFwMIpePRdWIbN4uRBc6jnhJ2Bz/su+++55xzztvf/vYqy62i0sdx4amottbVgl3dnLIs3/GOd5xzzjn77rtvWNer1X0n4tFtZIGz0xpd9Xx5yUtectxxx33iE58IY+SRG8VHjrvIbiAKqd1EKNfwyG1f5TXx3v/oRz/613/913POOScuJJHInAgeyiDO3v72t4+NjX36058OXwoFhoJoizF2O1Gl3TBzCIyuFuC//uu/Hh0dffvb3x7OZ8Pp7bxebCSy5/GZz3zmX/7lX37yk58URRFeCeOoaj+JjjyYx4tcaMSJbDdBRN3tPbsPZ8PCvGHDhre97W3f+ta3li1bFkMaIpG5EjaWzFwUxUUXXfTlL3/5xhtvFJEqKwtd8fSRQFWsV0RCYHS4UTfddNMFF1zw7W9/O3QtRvRIRSJPiqVLl37zm99805vetHnzZnT1q9opQzcWHd+dROG7m+iOc6jKlgHw3idJ4px74xvf+N73vvfYY49FDGmIROaIqlYbyzRNly9f/tnPfva1r33t9PQ0umIhKhkXCYS7EW5LWJKJaPv27b//+7//mc98JhSWQScpJ+4ZIpE5EaadE0888YwzzvjjP/7jZrNZhctXiT2PKoUjTylxDditdDdDCp+Gp/+ss84aGBg466yzYtX9SORJEMZUWZZV79A3v/nNJ5100utf//o8z9FReHF8PZJQfQmdm1MUxR/+4R++4hWveOtb3xpKkHrvu49lI5HIE6Ra6//8z/+8v7//k5/8JB6epx6ijKLk3c3EiWw3UcW2d+d+hri6//iP//jud7/77W9/21obA30ikSeHqiZJUp3Xi8j555/vnPuLv/iLKp20LMtYh6ubsBUviiLMPKp69tlne+8/+9nPhi0EAGa21sb7FonMlTDzhDiiiy666Dvf+c5//Md/VOdOVb2m7tS3yG4ghpXsJqo+n+Hj8Nw75+69997TTz/9Bz/4waJFixB9KpHIk6K7QGaoURC02r/+678+73nPO/DAA08//XR0GopGKkIAQ5qm4dNvfetb//Zv/3bllVeG/YP3Pjh90dlLxLU5EnnihPEVfLpLly79v//3/77iFa+44oorDjjggBCaVU1ccXDtTqLM2k1U9U0qnHMPPvjgsccee/755x9xxBGIbZAikSdLWFqqqimV33doaOh73/veRz/60V/+8pdhmYmBqjsR1mZV/dWvfvWxj33s3//930dHR9EVAtF9Y+f5WiORPY2qwJmIHHnkkeedd95xxx334IMPhq4W1YpfVS+N7AbiRLb72GlLt379+pe//OVnn332m970pvBKPEyMRJ40O7UWCzDzM5/5zAsvvPB1r3vdddddx8zdh4w7VdTeu+muYVwFNoQvMfMNN9zwB3/wB9/85jef9axn7XTw+qg3NhKJPEFUtfL7vvGNbzz77LNf/vKXr1+/Hl15t3FDvjuJwnd3E9y6GzduPP7449/3vve9+93v3mmBCWGI83uRkcheg6qeeOKJ55577qte9arbb789vBjkb3f133m9xt1BSFMLC21w5VYzz2233fbKV77yc5/73Mknnxwnn0hkVyEioZNOtZlk5ne/+93ve9/7jj/++A0bNmDBbLx7ihjju5uo6gER0ZYtW37v937vzW9+85lnnolOIF3lD45hiJHIriIsKtba0047Lc/z44477sc//vFBBx2Eh4ffVQp4vq/3KaRb71Z/uKrecccdJ5xwwv/6X//rDW94Q5DFe/2tiER2D9URUzWsQimnM888c3Z29vd+7/cuu+yyRYsWhSkoprbvNqLw3U1U4XFTU1MnnXTSKaec8vGPfxyAcy7EI1bpbrGQdSSyC6k03Omnn05EQfsefPDBVRveKghvLx59YXcdPu7+w2+99dYTTjjhr//6r9/ylrdUOebRBRWJ7BKC2O2eWIwxzjljzMc//vHZ2dmTTz75xz/+8dDQEGIM/W4k3ujdRIjyWb9+/ZFHHvnSl770r//6r8NTbq0NmSXdqejzfbGRyF5CJePCEHvrW9/6uc997thjj/31r39d+Xqlw96qegGEsvlVrCEAZr7qqquOO+64z33uc295y1tCFEQsqxSJ7ELC/BNW+e55JsQ8nHPOOS996UuPPPLI9evXR3fv7iQK390EEd1www1HHHHEn/zJn5x//vk7VfPtrvkQV51IZBdSjbIwxE477bS///u/P/nkk//hH/4hfAN3mM+rfOoJurb6M//hH/7hpJNOuuiii0477TQAVdmyuABHIruQ7roNOyXXEtF55533nve854gjjrjxxhvj0r/b2Gs9HL2Gql555ZUXXHDBa17zGnRCD6tFqCxLa213d9B5vNRIZK8hRNQFZ2cVyHvCCSdcccUVp5xyyo033njOOecEB0x3MMBeSZVm4Jw7++yz/+Vf/uWKK6448MADq+U2OH3D7YprcCSySwgTS5h8nHMhh6cK/CWiD37wg2vXrr3yyisPO+yw+b7YhUIUvrsJInrPe94TPq6W2ErjJklSbQHn8SIjkb2MKn63+0VjzMEHH3zttde+9rWvfeUrX/md73xnaGho71a96JSwmJqaesMb3lCW5TXXXDMyMlIdPQVfVAx1iER2LVXXqtBasvo4jLgw9F796lfP81UuMKJncR6olthuz2616kR3bySyy3mkpBsZGfnhD3940EEHHXHEETfccAO6Kt12V9asOvdWVFH48xiO/zjXEC64KlHcXb73xhtvPOqoow466KAf/vCHlerFY2wPIpHI7041uLqjGauP43I/L8SbHolEFiLhWP8LX/jCxz/+8RNPPPFTn/qUcy5UPKi2oCETZaew1xAXEQID5unaH/MavPchk6ZabkMBB+fcpz71qRNOOOHjH//4F77whRDdEfNoI5HIAiQK30gkshDx3gdp+4Y3vOGmm2668sorjzrqqJtvvllEqsZmITwglNkOrwR/qjFm3kMjqmtwzlUu6hChGy47fMl7f/PNNx911FFXXXXVTTfd9IY3vCFEFs6vcI9EIpH5IgrfSCSyEKk0YpqmS5Ys+cEPfnDGGWccf/zxn/nMZ5g59FuqQgWqSIlQ8qwXuotX1xDct3h4NGHoAWmMOffcc0OTyO9///tLly5NkiR827wL90gkEpkXovCNRCILjkrOdhd8eNvb3nb11Vdffvnlhx566CWXXBLCHqqGi5XSrUrezm+Mb7iGKgyj6gsVsgVE5JJLLjn00EMvv/zyq6+++vTTT0eXMq5+ZL6uPxKJROaLKHwjkciCo5KA1Yl/+HfNmjUXX3zxpz/96bPPPvvoo4/++c9/jkckoPRCye2d8tIqwqc///nPX/jCF5599tmf/vSnv/e9761Zs6b7e0LHHMRstkgksiCJwjcSiSw4qloHIXQhyN/wojHmlFNOufrqqz/4wQ++6U1vetWrXnXDDTdU+riqcTvvjR7CBVSXHby/N9xww6te9ao3velNH/jAB66++upTTz21is2o3MMhxgPR4xuJRBYkUfhGIpEFR9CLlZatAl4rLWitPe20026//fbjjjvuxBNPfP3rX3/JJZfsJB/n6+ID4QIqyX7JJZe8/vWvP/HEE4877rjbb7/9tNNOq/qfV39UJXm7//xIJBJZULTbh+DhDoxd6AnYKQuk8lKEKLTwYvVBJBKJ7B6qsmWV/uuOHwi6sF6vn3HGGffee+/JJ5/84Q9/+KCDDjrvvPNmZma6p6zq40edNqu4gp2+YaeJsft7Huv7d3q78PHMzMx55533jGc846yzzjrppJPuvffeM844o16vB2n7yKiM6k+OqjcSiexmulVfNQvtJD537UlU94RZOQK4chiEkj1VHZ9d9a5B4FZ/TNWxrKo06ZwLH8z70WEkElngPFIOGmOyLDv99NNvvPHGiy666Prrr1+7du273vWun/70p3meP6q41C6qxjTdyrVKTVPVnbb91WKwk7N2J1FeFMWll176jne8Y//997/xxhu/+c1vXnfdde94xzuyLHukKzpq3EgkMr8EgcfMoSJkSBoOs1+YssKEGQTxLnxfZu7OAEYozpNlWVX+5inqJlL9VUFkh5UgXEFZlqGJH7q8LLvwrSORSOTJUU1HlZQ8+uijjz766G3btn3jG98466yz1q1bd8IJJ5x66qmnnHLK6OhoaEX+WJNYd3PgbrlctS191O9HV3iuMWZiYuL73//+xRdf/MMf/vCAAw543ete95nPfGbRokXVjz8yZiMSiUTml+4Zz1pbCb9qVqx8BLs2hCxMnsaYULU9XIOq2jzP0VG64ZsqR8UueeMwX4d/uyflMN0nSVJN+qH6+i5500gkEnkSVC6BbrdrtwZl5tHR0Y985CMf+chH1q9ff/HFF//TP/3TGWec8fznP//lL3/5c57znBe96EWDg4PdU1m317b6Vd0HXDtVRuvWzd776enpX/ziFzfccMNPf/rTq6+++iUveckrX/nKz33ucytXrkRHSYcJdqc/4VE/jUQikd1MtXUH0C38gse3UpvdcnFXvXWlfdHlfrVZloVr+tCHPnTNNddQh13lMOiuN1k1QLrhhhv6+/vDX1tp7qh6I5HI/PJIDVodiHX3AQ5fXbly5bve9a53vvOds7Ozl1566X/913+df/75b37zm+v1+hFHHPHc5z73sMMOW7169bJly5YtW9Y9oe8UXlxNj977TZs2PfTQQ+vXr7/22muvv/76X//6181m87DDDnv2s599xhlnnHDCCf39/TsJcQDVL39UmRtVbyQSmV+q07BK+N15552zs7PHHHMMOgEJ4Xt24cl/0NbhNzvnsixj5uuvv94654LbOThcq5zlXfXGQWu3Wq1QVScwNDS0ePHi8PFOMc5R/kYikXlkp4oH3cG1OzlWKzU8MDDwmte85jWveQ2AZrO5cePGK6+88vrrr7/gggs2bty4cePG8fHxsbGx/ffff/HixfV6PUmS22+/HcAf/dEflWXZbDa3bt16zz33TExMjI2NrVixYsWKFc9+9rNf//rXn3feeStWrKjX691X2C3Bq9iJR42yiMFjkUhk3gkz504BBcuWLdu6dWv1PaFfZq1W24XpXt57Vc2yLOSSiUhIzLAAQrDFF77whe5Qs13l8e0OYOgugVm5KKrMtu5YiEgkEplHdnKdhrmxmqAqBdwdoRs+qNfr+++///7773/aaadVv0RENmzY8OCDD27evLkoilardf311wM45ZRTarVa6Jm8zz77rFy5MqhYPML1sNO7hBe7cyR2+pEY4xuJRHqEqvZikL/h42uvvbaaSLu36CEed5e876N6VI899ti2F7ZyQVdvv6v8BN1+COoqEd/9paqmxK5NqotEIpE5UYVm7fRiSEYOlXHDKVZ3mlr3/Nn9S7oDhVevXr169erqq3/3d38H4I1vfGP3jP/IY74qx7kKCaveBUCSJJUHpfvy8AgRHP2+kUhkHgk+0G7Jh4dXFg/ftmujXiuHRTVdh7doC99HnuvtQrp/56MGn3XP7JFIJDJfPE5BhhCs1R35gIfPYI/8tHrxt86Bj/XuO82Kj/z91S/f6fJ+6x8ViUQiu41HnTDxuPPhrnrTnd4dsXNbJBKJRCKRSGSBEIVvJBKJRCKRSGRBEIVvJBKJRCKRSGRBEIVvJBKJRCKRSGRBEIVvJBKJRCKRSGRBEIVvJBKJRCKRSGRBEIVvJBKJRCKRSGRBEIVvJBKJRCKRSGRBEIVvJBKJRCKRSGRBEIVvJBKJRCKRSGRBEIVvJBKJRCKRSGRBEIVvJBKJRCKRSGRBEIVvJBKJRCKRSGRBEIVvJBKJRCKRSGRBEIVvJBKJRCKRSGRBEIVvJBKJRCKRSGRBEIVvJBKJRCKRSGRBEIVvJBKJRCKRSGRBEIVvJBKJRCKRSGRBEIVvJBKJRCKRSGRBEIVvJBKJRCKRSGRBEIVvJBKJRCKRSGRBEIVvJBKJRCKRSGRBEIVvJBKJRCKRSGRBEIVvJBKJRCKRSGRBEIVvJBKJRCKRSGRBEIVvJBKJRCKRSGRBEIVvJBKJRCKRSGRBEIVvJBKJRCKRSGRBEIVvJBKJRCKRSGRBEIVvJBKJRCKRSGRBEIVvJBKJRCKRSGRBEIVvJBKJRCKRSGRBEIVvJBKJRCKRSGRBEIVvJBKJRCKRSGRBEIVvJBKJRCKRSGRBEIVvJBKJRCKRSGRBEIVvJBKJRCKRSGRBEIVvJBKJRCKRSGRBEIVvJBKJRCKRSGRBEIVvJBKJRCKRSGRBEIVvJBKJRCKRSGRBEIVvJBKJRCKRSGRBEIVvJBKJRCKRSGRBEIVvJBKJRCKRSGRBEIVvJBKJRCKRSGRBEIVvJBKJRCKRSGRBEIVvJBKJRCKRSGRBEIVvJBKJRCKRSGRBEIVvJBKJRCKRSGRBEIVvJBKJRCKRSGRBEIVvJBKJRCKRSGRBEIVvJBKJRCKRSGRBEIVvJBKJRCKRSGRBEIVvJBKJRCKRSGRBEIVvJBKJRCKRSGRBEIVvJBKJRCKRSGRBEIVvJBKJRCKRSGRBEIVvJBKJRCKRSGRBEIVvJBKJRCKRSGRBEIVvJBKJRCKRSGRBEIVvJBKJRCKRSGRBEIVvJBKJRCKRSGRBEIVvJBKJRCKRSGRBEIVvJBKJRCKRSGRBEIVvJBKJRCKRSGRBEIVvJBKJRCKRSGRBEIVvJBKJRCKRSGRBEIVvJBKJRCKRSGRBEIVvJBKJRCKRSGRBEIVvJBKJRCKRSGRB8DDhKyKqOl+XspdR3UkRIaL5vZhIJBKJRCK9DBGJSPg4irFdhapWdzWwQ/h675kZUf7+blS3OIhdIkqSxHs/39cViUQikUikd/HeJ0lSiQdEPfa7UekxZu6WYba6p8YYAEQU3ZO/C+EGiggzh0d2p61GJBKJRCKRyCMREe89EQUJEdyRkSdHt6ANEheAqtobb7zxmGOOISJVrURb1L5PGlVlZlVVVWOMql5zzTWjo6PzfV2RSCQSiUR6l3Xr1k1MTBx//PFEFORvlGS/I92SLAjdG2+80c73Ve1thI2acy48r6o6OjoahW8kEolEIpHHIUiFoHSDSgvus/m+rr0N++xnP/vyyy+f78vYq/DeV0716pX5uphIJBKJRCK9zzXXXPNI8bDTK5HfkWOOOYYrF3oQZyEmNe4wfhfCY6qqzjkAzrn44EYikUgkEnkcjDGVbAgyLIqH34VuQVv5H4loR9y0MaZKf4sBJb8L1bbBWuu9tzbGk0QikUgkEvkt7CQbohfydyGEngIQke4txMM0Wcwf3CV01yKJ27VIJBKJRCJPkKrEVvVv5HfhkcXKotKNRCKRSCQSiSwIovCNRCKRSCQSiSwIovCNRCKRSCQSiSwIovCNRCKRSCQSiSwIovCNRCKRSCQSiSwIovCNRCKRSCQSiSwIovCNRCKRSCQSiSwIYm+FPYxQzHrnyn6PWuI6fJOHGhAEvgSpEBVkCDbzgANMDsuzSHJAOr8m/JsAFhCgAARgIANSIAPIAVqCHYzfAlMDDyAjBxDUwKMMv8B1fo9RQAQGDrBxrxXpYZ7q8dUCCMiAnGzq0mlgO+CBQaDe/r2uD0BuwYKkuQUcx1dkt1GgTJCQBxQgAQHEoB0DQwFBDggjg7IQFHBQha+DUTAUsGgYlIABCHBAM/w+AJ0P6oAFFPBAAvSVgAAEpNKEMGwogG8UIAiaADMMgdvLkXL7d2n7N3oDj2ZaDaNI5LGJwncvpbN0NwwywHgGZWAwXE0UvqU2m8lIkAkwCN/vHEoH8SgcCodGA40GSNDfh3ofkho4RZqCrc8wa0FIDJJEZYkSWAFRy+rBAssARCEAE2AQJqawHrt4yBDZG3jS4ysXaInm7NMntnoygw/cP5gZmBTpMGopSGC4QeQyELiGbImYOL4iu40kPNndD1F41EkAKBiAQbsrkxJExUItFKQOUqbkQAqkwLAH8hJ5C1IMi8PsDJo5ANQz9A+ALThFVkOWtAymEhBgICmkDoU6EDsQQAQYMMAK25bBEBDvkNIMJTDAUc9EnhjxQdnDePQuLo/d20UxK+gLPil1YX0kGFNQ+7PRUjG7Dffegmuum7z2tonrrmms2zDQ9DVrSkZDfJkk/fvsu/yww7LnPR9HHmX2XzM0UJ8iLgEQJwVgScl5EWssAKiCQBCrO7sKIpEe56keX/qrax+4f/34yIC/+64GcOnxxz5j48Syfde2jnmROfro/ucchuXL+ob6t6aZAxLYpIzjK7L7ILUgeALCngoMQCEEDxhqP2RBNgiBExWogFmEHFMJImAIDjM57rwbV18t112z6bprp+65pyaSkgFQqG8xD+2///LDnseHHY7nP7924AG1/nSaEgc27d8ucKVlA7JQAQxgCdVIVIWAOLzi0b5QUvM4QzUSqaBjjjnmZz/72XxfRuSpQjGbS5JxSiXah1AMD/TDc6OFqSYuu/y+C75Ed99Sa7XU6XBrNi1hmJ0IAMtWxBeGZ2ppq79ve1LLDjz46e/5ExzzUoyOSGIdYAhGAAHgYOBUDRNBoQSyPhxXASBRgKJHKrIXMdfxtXR6lii9bXTkgm2bm8AHlyx69vi4CLb1DzyweISEVq7ZZ+n73oUTT8ToGLwtjInjK7L70LCJEoEwLCF87BWwMBAGoAyBGACOUeSoZw0CAzUBWjkmNuPnP7n9wgv5rnsGJqfrrVa95WogUc+GAIhXJtOCNmu2WavNDA/K0/Z/xjvegRcfi9GlqGUthgMGFGgVSFMwPAmDSQAA7Bw8YEzHbScQQEyIf4jCN/LbeNnLXhY9vns55OqZBaEEKZRzttPAKMBbt+OrX7nrW3+/ZGJi3+0NRcmkokoMEFTFGgOwek/QTHzaaKLRXM2Q9Rsnr755w4rl+5z+hwPveFO6eDDHoGdKPaAlLDvKCqAPJeAV1gFKsOqgIIrPW2SvYq7jiw28L2ctTQMecKReYCzGZmcGGo0ai6x/YObmq25de8CBf/TWkT9+S7qqP46vyG7DESyE4Lt9px5QkOlIT2GU7ZgHwGY5IQdGHbB5Gl//+t3/eOGSbRuetn27ZagHGQDwCmO5cAIgteydrxFqrhiZLGhmyj2wfuaGWx4aWX7Aaafj3e+uLR3cZpETsiSFwhNKcNLZ4CnYQ0OQDylAMBBAFfAUj7AjT4jo8d3bEYAcZBYmzVEvBIPe4dqr7/yzD4/ceMOSmWkiqLYPTIkgCjVoKRIlq1CoTyCCTEEWUoIAAnnNNiwe8AesXPul83DI86fTIRjuQ6neOVMHUFPAOxibEwxgUUJJycYNeWSvYo7jS4GCkmuWLvvqpgcVOGPFoqM2jYMAAWyqviALAqaBbSPLB1esGfu7v4rjK7LbyIEMAvEAARYEkDiIwJogPdUpcwEmIAGmgBS+3ipw3S23feBDS+64Y2x6M5GQgXOwBuLhAWYjUBgGAC8MEvEGYAPnYS3EQUHbh5ZvfcYzDvri5/CcgxtZUpIdUhQEACkcKQB2xB4wEAtAGQqogDyYcthsPm9eZM/gZS97WTwX28spCQDDmBasAIOtZv7pv7r3Vaeu/e8rljaniVAKyMIBjuAVDMue+0BM6o26BCUBBjngi7Dxt6Wq4dY+E+P7XnXjPaec7j/zN4PlhKCcROJMPQPSdoUIC0GmYiGKBMTUTkiPRPYS5jq+RJEYSguph8IppScLUTQNr09sASZCWWJQsO/4ttEbr4vjK7I7MUC7vILucJ5aWAY84MmBS1KfAQrMAIq8Pj2pn/2bO1/1iv1u+uXixiZmUQW8UUqa3sDWjElEvBFYp9apEYh4YxLYWtMbpQTeMMEYXTS7cZ/r/uv2U0/Sz/5N3+w0UMwQEEoJqYJKT74d8PuwkJ72x3HXF3mCROG7p9HxHj1BEg9HPIkBC6qPb7rn9D+a/vxn127ZlhKcQ04oMppSFAkk4dICYA8hkBEAYEJaIHOUwMAmJSctVUm5AJxXMth/68zk+Rfc97bTh7dt7AM8QAIWAaAh99d5CJeAAwPFrr8hkcgu5CkeXyaBlkVdkAIWqIvxJYwFDPksnU1rWiBhtBROCuIyjq/I7sQCkE6wLAMk7SIK7ZGhgEAJPpS2LEe2Pnj3O94z/jdffvqWLTVfeEHJKA0aZJom8TZzTsgjIQMoVMPxR0KGPJwTb7OmSRpkWgTHEEWfuoPGx7ed/5V73vGe4S33Z3ApqlqbopB2LYd21DtCNQfAQDmdv/sW2bOIwncvIazXIlK94r0HgNI1AQ/Yie0b3vhH+33//41NzBKgkhgYBqzXPkFfibQAKSu8gVEBAFKYMkyFyuLZ+VR85j28eAM1UA+gHJ0aX/EfP1z35nfVtk71hyMyBhhl+BUw0DBvxrzzyJ7KLhtfCjHIEx9y4TxZJqigXvq+vNnnSgAq8GxKG4ZhHF+R3YgCyiBW7uyi2pG1aNdbKOHZegPKG+m2h/LXv2nppT8b3T5OpOpRJFBBKqhL0edbNZ8n8ICogsAKUhCBVQFIAl/zeZ9v1aXIFOLRMu1KZcMTW5b86LLiDW9JJx6ioukYjhN4smADeKCtxMkVCDUoGMJxBESeIFH47j0QoKroLMnGGFVFynVgbGr67veesfJnP6dcmTCpWYszAFaQ+k5WOMh4E1IEPMEzjIAeNpW0d9mpR+bgCbMJGihAyIpy+WX/9dC73o3x6RKYZXYoUziA1LASrEcCVcQQrMieyi4ZX1AUjNy6HMiB3O7wMfeVrubbQfSsXLAt2MTxFdmdaAgXkKqfkQBQhgesADlg+qeAJgQzUw++5wPZr67vm9hiSEAmJ0oEaSi9SzAQA4/Of553/Fe9aOANBAQipEAiaIEANpC+iS3pL6974N3vxcxUQ9w0AO5DU2y4NgJYdIcvuOviI5HfRhS+ewuqqsrMAJhZvUAhzm8xbJuzOP/8RT/8CZx3JYCsj5Oa5GHn3J4sCICGAjFKCpLQMqfdEaf9mBiFcZQoDClnDv0FatYXDCmRFY2hH/8QX/1i4vNpaA4HX0IkZ5QMIsChiEm3kT2UXTW+BFbYiqdQ1cE4oO2tzS27MNAUQkg9UtE4viK7kwIhwgGMTpsKE6o6CFQA1lBrzHv/la+M/fDH0mwKoUi0hEtErYcKvHQCIwie4Uw4RoQFLGAU3sAZeIZ2Qii8QAWJIBEt4coUHpBmc/SSn+CrXx2C+uDZNVnQ422nL8ChsBoBHAN9Ik+UKHz3EqgDwnkSMwBjrQVwzbWTX/jS8PZx72g2628qGT8DKgGosgCO4TrHRMLeqJgdJ7ro+ICNI86NbVrODXcOXAEnztiJjMSjNrv93q/+Da67ehFKQga2YGmX2CeAYgxWZE9lV40vAKlH3SFt12Nqz8CeuGQuTPUpEnGAxPEV2Z14wBHAIIFVAOwBgtRUQILU5MAiD1x7051/+8367LRP0yIxuQoLQvMWIioT07AmN6aECXs5I203SvgvrC+OUcLkxjSsKRNDREFwsyBXKVPj07R/Zva2C/4W19w06tACkACQGhzBhaifNDSVYxSdThaRyG8lCt+9DfGd4a8K1dHt4zf86YeHpyZBKLMkZ5dSSQQoHBsARmEFnlAYAM5TJ7xBGWpUjfFJ4g0rCD6Rss+VVr1vfxMDqHtKHLMFCCu3bbvp/R9IxicMdIYNGJkvSTQPk2lMOo/s4fyO4yv8KEtig0fN94fF3Ipk3mW+veNkCMgHn1YcX5HdhoWECiTQ4FZt1w6DV/VumkAAb5++7YMf3m98UgFTFDWHxDEjIaQiLKpWfSY+9ZoIrDfWm06MfCc0QduvJ4LUaybeqhdVESakjCRxXHMwRaHA2q0Tt37gQ2b7jAGmCeJLODVQF1ooOwbgCBL70EaeMFH47oE8RiSTiEDBxiDUDg35r5//ysr1m8SrKtQVtSI38FDkJskNU8jXBTIHUlJ4UDicZQ9TUCpICZbABG8g4T+rwhAlaV+LdwNefAnxSB3W3nU/vv6trGiVYAeGIGV14RDNxeyDSM/zFI8vTyjZ+vb7mPYkTKg7X8UXGdWSO9cSx1dkd5GiZDhBdxGHtkjQJFEgK2fdF85fc8uttaJJGpLefE3ZkXWdh5kcjIJICN4oAAYSD9My3DLsYYAEYKMgeCIxCupsCR2MI1tTNvAKMKNe5mtvu12+9MVakSugSdK+npDj2YlEZkja2VhGIo9PFL57Go8dv09EWmWdK8Ds83z6y59NN61nZB6oGwy1v0gAjPp2biwAwKh6RuoAwLMoe4PCICThlDu9LymEUBg4ZkCZ1di0AIjSbHz7rV/7O2zZMgTnwaAECiAHCdKYfRDpbZ7i8QWFJ/LsfMhKpwaQh58p2Tz8DQ00jq/I7kXLFD5BewMmnfIJIBWYQfXYPn3v/7moPrVJoS1OmACFh1M0YQomZWN2qApCSGJTiIJZEpZEwQpp57d1HlgG2FomVc4VTQ8XRlET7BX1qY13/u9vYnL7oMITg0J1CEj4SUUCpPCQfPffsMieSBS+ewkiQkQh9BCqIIL3119z7WA5Mwjn4RLKpIAIVEGgzJeZSMuiYeHa2QziiQAmDU1QxcCDBSzBDVwwGhYtw6oMsBGwCosyoxQ0tLCm34lJ0bcoL/BfV5hGE0DJAKEGB/hWd+xwJLLnsMvGlzIrg8pw8Gt4e8glcmym07Rh2x4sT0RigSSOr8huRR1UQivg4E4lwIMLYz1ALYef/HRkelwJZNDSrJHYloEnpAksvFOv3ucmmbZZy5j2z5OE1JFUkAqMirAHtYsDt4yZtlmLLbz36hOS1EIYuUUztU2kxoIMRme24ceXUwEBwsUA3IluB4X+bTHKN/LEiMJ3D6NTW1E8nELgAIcc2M7s4VDmUNnCNMvAxKZVH/tznYInNJOyJEcwUG5ZOCMCMMEqCoXRjLRfFTX1ZEQB62slWAnKoKxdzjzxIE4KFkdCRsiABbOJVYEl1AQFzxo0laaWPrRh3de/Add0kAYDAlNmKYyLz1ukt5nr+JqdrZdkiHLVnGBI69A6YDzgEwM19dImPtTCRs16GAGJ88MWGAAGXCICIljBYI56qUQgTlSMkYJMGcdXZHfieQhkARSMFsMqUte0KqFHMZrj9//dl+rj0wakDjWe6fcucWC2cBCBSdEiZFoOUW6cVwIxlUFFG6/wRZIrvNVElVRBxljnB8uyrg5QIqiHOlggdegrXB0tdYCn/vHJ+795PmY3hDYtVpG5plW0GEV46ok9D8zrzYvsMcSJcg+DUR2edmynoat6iMhSEBugBsF9D86uewAwVtDnxEp7e5x4GIUxJB7WYVQByUs0t6e1+/vrm9N6i1MypVXxwOa6uTPtf6BvUYMHmUyWl8MeKch7hhhDlHT5mLgrwnD2vg24e12tHfPFEIHEMouRXmeu4yvV3IQT2/apbg4UgLc21dwb52GQs07bZHwwuydLieHFsy0B5MCsZ2OgCmLNpWCbisD5ElR6bhd42nFtcXxFnmIUgNLDO0FwiHkw3uPe+1vr1tdERZWMgYfzMMzGixMwAQUyRc7YbDAxlDSyQfFZapiDQxYUSvV5LQEwW/E+sVYhouzJKBO48/7hGjzIGFGtibbWrce99xvvO8kl/LDr1ocXnY9EHpuYB7mHQUD7/CgclVI7wskBBgRmDSUYneD6m4e3TimYQmsbhCbn7XL6XkBIAaciLsG6fn5gtO+h1C6aSg5sNfaZmGDCxEDfDSOLNw6NmmZ50PTU07a0xowvPRJjIUkJJS2TEPWoIIAV2i4KoQPjk7j+NvOs52iaOoI13I58jER6mLmOL6uChxXrbecFOVekzFCdtniwlmwdHpzmrIRdft96nxr2zRzYBmyrD2ByWuFzks0jg5OOl00X/dDUqALkbBxfkflA2rKyXTSXFTAiuO6m4W2zJKGUtdaAEhaqIUFNhQtIlvStH7S3jmZNSveZpv18c7g0hS2VJFH0K7b22621vqHCL52atYQJlqm+Wp/TkaK0UGfgYaxnAwG0pqJemVlFhrfN4rqbzLMPV2M8OGSRdh76GOQTmQNR+O5hhFqJO+hEONlQA5G1HeVUen/19YuLImdJFQjFRIlrnWJMRS1Jcm9UoHggTf92e7Fl+7YaIMALgFf0pU2i7001bpu6n3F/DbgHeHGt/1A7sHhme+lLS6VTk9pBuKnqWhKBp1D9UZYXzv/qWvMHr5U0LdrPGcXzhUiPM9fx9UgnkxJKQibwIgzeapKLJpsbJlsjwBLgN8CpaVJT3gRcDxxVtk5UVWBrDd8an74HeCtwQgLNUasZ77zpcuPG8RV56mGo7OTxdWAHwDl/3U2jkw1jSLwKkQUSTZw6ZWVVwzaj5D6LC7ZNPbAN/cBqYC2wZsmKa7ZsfAbw0izrF9xk0k9vnToFeL+Fetxu039stN4zODJW5GB4sKMsgwJFYSnzcACLGkOjkw1/3U3mj51LEgc2O3l8EUdA5IkSH5Q9jK5FmTXUGQ+fhP+peiAFULoHrrtW3Yxye6XODRehxY2iYMxoKerJQEFbFq26Hziir/bRJUteumrJRuAHjeKW1WseAA4DPlYb+LOR4WXAt1qzN9Zrs5lJasH95cUj+AbC6kwKIVYCCElrZvPVV8O5Ha3V46Y80vPMdXxBE2inTCkARUksBDCMBWAatdFx4LmLF52+dOWfwfw78F8zjVKpCWyqpT+fHG8aMQbb+ocvBm4FNtbqLUoygmt5btc+jeMrspsgAJ2mKoQQoEA+7KxKv+HXVxvfgioARwoCwbeMziZkiFSK3Lc2jvZvBl40vPhdY/u8pj54F/APrS23DvdfAzSTWlniFmfuNrXrgVmLJuEmj41AI02YQQwwQxlwocsxCC6EMKga39rw66tRetvOYiOo7BiwyvHEI/IEicJ3D6O9FVfeMTkxECamdnEXMICynNiwrjvozwqstH/IkaHEJgQwHHRS7RSQZiM03Rip1caAdcAmSqaAApBatlXNwAFPmwJK30rUuRwqsBbQWeDhtR7RjqtQlFPr16EsuNNHPdRdjER6mbmPrwRIRRNPrIAnIzCkXHgA8CgLa2eBFjM0r8MPLhvbCLSMFwDp4L25rgeguGtrXquNJUl/o5WLN6Jkk3Z8bxxfkd0PV5tAYg3Pv8u3rbvHGDgB2cSLAnAoTM2IIacKAow2LTeBVGiUeLhW6wcearr6qmX3AA9lWcL2wdnpg/ZZPQ1stf0PDQzcl7cWAxmE2rs7tVqGAposAOBFySZOYAy2rbsHLrftCmvt45n42EfmSnxm9jAqr06YlTwQyo21fU7E7ain1gyk4KTTE5WQeck65b0ZSgWpAoqUebAo+4DtrA8uGrxXeCOwCti3KAaBLcA1w0O3Ll1+85bJMWCNFjUPw1ABs2WUAITQrbA9MQC2EN9Ac7YzexKq5u+RSK8y1/HVqaDEnqgw8OxZxShSC/FggpGCgRnDG0aGbqyZ5kPbBoHEyBAw3GiuHB67rsQmU7tDWkeOLn5GObsK0p9ljHpZlkEKxPEV2W20tSR1BCVL0JcGwPR0YiW4PHLvKLGqsAYo/r/27i3Isuu+6/j3v9ba+5y+zl2jmyVLlhEmtmNdnAvEtuw4RSDlKnjgAXgBEkOCTWJRuTzAMwVFXkigMAkhEIrwBuEOxS3AA5CQGOwUNilbluMosq6jmZ4+fc7ea/3/POzTPSMlKUuJNNLM+X1qaqanu6d7V89ee//OXv/1XyuWtWSsp2u+fTTuwzhPX5rb53N5AR6ufKD6HD4f8bWtMw7fbsO98JUlT81PvwjfMOPMsAgnGkErrAIiwC0C68qq1VIIpyvOwcH6PLdE8nVAt6ljoMirohrfm0xc95bZtfdYsO46Nl0IhlXqzBtEt+6QPy3BCTA690JKeavWo4Sfqosd+IUXnvlV+AX4LvhAvx+XDk7Br8BTX/lyhSU8tr2TI3kjFRKMYy0GwcsXk9u0EscbuRh1WF+YIkCrbuWt7rWOL2MFOZOIWD+YjeYknAhSJtdVgV94+pkvwkW4C959152sDu+EB+riwdvv+w+XXzx19tyvP/3U+/e7//s0Z+BgcbCX+9IspYim8SVvDrvujwKMAziGV6wkn5ZdGtbIqUCtK7KxlbsC//25Z/4rDHA/fGz/7B3PvvQkfG6sby+zLXhoWJyFJ+vhzuzOBbxra35mcQTTvEVO0cymtg0z2tLdc05e3RLgjEO5Vt6jBZ3yO6Hge4s7mf+smUVmb8AgO56iWUuGwZBqgg+dve19s74/tXf5C59vPgxpZwUPwx+8cHa7Ln817J+8dHi+7Z7vd87Xw2nyy5OlprutbK6Wya2x3poVgKBlrJGMaf27wbe+7W3vKdvnn/zqp2PxzGo1n5/pufx2eMdu/z/hfzz91G1w2q9kuAJtZ14Ol0Z4031d3tIicEvLbn5qddUMT/ZiiRE+vL9z8bbbv3Cw+NwzT+ex7hHn4BePrtyztX8W7ljUJfwXyKuDAhfy1nZdApDNi0XDiKCpQZ+8MTQ5cJOx696K4/ccz/X4STcl+pmPkTLrTdCDRWFZ8OOnQtbjMU6rYA9m80M4dbR47wuXPnq4ej/8+7r8woVTz1Ey3L5cXBwWZ3bne/C51dXLs3lzUg+w9MIrHzRNCxFImVaD0vu6HsvQq3N5y3ut4yuMlq77l0Gjq5ZtfedmpKxga1z+3sOXPhzL98EvPv/C589c+BpswZ2Llx6GK/DoLM+H8TI8My9XrQO3zJhB40veJHHdHxXo+mkzt1SI5mm9iyGt375cSnPLmRG7NO+O4PZVffdvfO3DDN8I/+3oype3d9Lp079e239pq7Nw19Xxjv1T/wd+yVdzOLMKi+lxb5kdV9LXRKbC1DrN07qwN9H19boD03MX+R1Q8L3JnPyHTQM+A368s6QxrXINYL5L6n3ErvWmScU9r5efJ/cxO9ML6yEswW472q+H3/nrT3/zzuzz8LnhYNGVFTw13/p/u3tfGuuzcBdl5qNBGzBylwuQ4mX35hwOeCXlbbZ2jq+egTaUlLe81zy+nDBqPi4CpqupC5IFKWMkaz6HU+PBnYfPk/0P7W1/DX6xjU8C8LaXLv/RnfJ98E02u7BMBQbvshUzWmNRDI0vuYHWL+xi3U8ET9POEw3Y2xtrskStzHKJsU4FCatak+VsPU5tvo3NYW+1esfq8NHnXvj23dlX4QvZ4szeKfjlxeKusrVbD896HMCvPn/pHX13YXEFCHKzBCPmNeHGrDUzYqyzXGrFEmNN7O2tz/NwPK1f+AWE2prIq6Xge5M5rrvy9SBfX5+ml8asL1ZA1525814L8nEnh76xMzIVaYHnFgbT7fn2OtwGp1trTh9Hb4t4Lxw98dTFcfll+OnnLn36mYP/+czlD8JH9rdOHV5JpU90LbxvS9brav3k8KY5X6Pbv+teuv64E7pN2/+IvJW91vGVPBHJoSbWHdCI4gRTO1S/wHg33HWwnA/NjG9Y8EF47oufX8ERnBvbg4t6n3F+uTx/NNwLdw9HO6sFQZ6ltK6i1PiSG82vPfF1m87/Mjt77/2tURJRx5wMaM7M/fQ4eIzu7KZy56XF3bANtZGMB47qI/Brzz79NtoH4G54YMvInB4OvwXug0dL2TIHhozbMDUQzE4O1m8nizqWRGucvfd+yqxea7V2MkBFXgPV+N5krm1Vg1/fc/H4xmgZjmC7K2976GH735/NtcHYEp17vm7J+sxLhdxG4PYXnvvLp/diOQyZreb9YvjjvdWd/Ustxlm/yOZEP4y3t7Z/cLBXCk4QOdnUop/jAoowUqzfHue7tz36KKWs+56GuovLTeC1ji/qIjtmKYyWPPnYe3bzZOYROXP24KXHt/qK5VXDfZbHj3Vbb7/rjp/+8hNbMObOEhFEeN8O/9Tuqb3VEMNRneWjVdtfN5XS+JIbJADz6bRftwyLNp3zdPnO9z/afvkzmRVQwiByZptx+2g0whKj1weuXv3kzo67L+uwNbb9lD42n10tiedeemSe/9jWqQvLS97YjvYDe6dG6y4eLVojJcpU0zu9rosp+EJQ1gs6reXZne9/lC5XmE8He9JlBTBXQz95lRR8bzLO8RVhEuu+ChU63DzyNPa7nB993/P/qD9Xj1qiGd3Li6H6Rk3zVaJP47lKvHRg5GUul1Leb+P5GuOly7ebHV6JVNLMLIUPNfqcvHqbpnaDlGhhJ8t6xkR33O//a32551seZl7SdGOG9St0kbew1z6+rq6fwsbJFyAFY4oWzJw+cepoyJTGbOz6Ml66N9r4/KX74Fk4IOOkzDJjNuwdHvUGxoF5V7K51QiNL7mB/DeVinvBC4lS8kPvef7U9vkXlzklcwIGmEWQaE5yumxptbqwWq26+RFz79nxYW+5OG0YRHB7fXGsHMw4DXddvexBoW9YEPm4TXX2dK2YPshgyVrzS2e3Lz70HkopUPCXPeq1kz1clH3l69NZcpMJrt2Vj1+VM04b3RC4W+DQSuJ97758fh9qCtL6xuwnXyWondfihJvH9CXb3Ffz6jn3kLpMENvGlruPLVr0OUezSNbAMmaEM6b1RGsYbtg6NNjVc6d437taXwxKQPOT1UIib1mvfXytz/+TfxXQkjcoBYw2dWbIZhzFeMkyzd06OwLA0nwMCLqRufcpzB0rdDVS9XDX+JI3w3EwMICMG7SUeOg9l8/uRMLdLdvSSEF1MHIiMG+RE8nYGpenxjpvbaxjNuxkc8MA6GOn1uPlmGaRZkOigTnZ88lYcvLSsGzuHonLZ3d46D0tJYOMnxzeyw5Y5FXQ6XKTca67LEyMgLpuOj41QWJJ4u1379z7NhgtmIocphXoNRFGtuQcdXhpXWOO9QGW2bI6tuHSrFzJyQOClSXPfUQf0/J1b7mjgnsyZuN1Z9B120ey8/Y7ece9y/UrdyclkvqMylvdax9fr3g+lsdkNZGgNMJzta1Vng3mgc+mZfEznppzAAGzRpeKO4lcjqx22wl8ZDatHyI0vuRGMsDi5Se1T00xW87cd8/83ruWyZJZtEYGEgl3qpOsVGhGBAElD9aW82xD4sgYIaV0FNblnfngreWDYnWrb+HJnUijEZGnWehlYZVTjkImWktmy2Tze+/ivntazsevSF/xxFfNz+TVUvC9yaynNS1lipEoUJjBafdMoZth6YLHjsOZ25/6K3/N9rBMiz4xm+aCuoCwiBaJo9IOu8HykhgwlpHDKbA7DHujJ4NEH975QBqGPC66NpSUx1RaMrym1c5YLVGDVWYWu40ti/1nL95575/9OGWrkLYdjNatKq3XOgR5a3vt46tZpkZvzDAabUabVeucaqy6VstRYdXVZsayZUYY8t7o0zfy/FxQLVFTW2wFsZzy9aLrjsAwjS+5kbJfISrQO3OnGkPZqpZ63IHt8/d8z184OrfnFpZYxV7LiQRBKZDGDNltlcrVbnZkqUB49E5yzHJ4N/d+jOWYj3qr+zX6o2EofrWziLTVLGiWV1barFLMV107Ym4dbnF47tQ93/04W7cH9FCNVdmqxtzp11t7e/arb+oPT24aCr63iJRSRMR6Nx0jgpzf98jDV2a7L7XcWVdjZZnS0xxIq9yNKc0a25XiAE7KAXgYFlRLjYynqZ2TBb2zXZk3N3PwlnBLzXCnS2xZX+vVktrA4oVZzwe+rW1vwboqcUWB3Fedb3JTet3GlxFGkKfiiBZ7eMIpnnaHYd4aCRI5RjcHNL7khrKCpfUis+O9ujPeeyvAvPCRD1/aPZugOXNb9WMtDYelsyIly+Q897pXV/OpyicgUt+yeapGNcxT3zKx7hI4b22vruZeyTlZXpGWjkNp9GPdtjEqOJd2z/Idj8U8GfTeMhwvPz3ePdSSNu2WV0kXypvNbz+dGRGWrqvNcs+z2f4nf3hx2x1TO5olXJk2lKIBzbKdFP0azSw7QwHInsxzo2/MYAbdK75vGCnoG10EWHPaOHQQMazOnf593/dxLly4Qsk4MQLBLCIxajJW3tre4PHFtGLdS4YEEdswm+Zte3/Z904EuMaX3FDWDeTplJoqHOJ42ViiXSFxZv/+P/GnF3t3JJi1YaqJt1RgC595mNd6bd4hgAwZUsaxERvzeglahnwy3By8Vg/DZ7BlqUwlRnNvBIu9i+/8E3+G/VMHRg7H3Yg4aTBojDCQSbMb/vOSm5KC703ot7m7pZQwvDUiMCMZBJ/88y/ed4/HWApu5Wg2c8sYszbO2rX+L0MmLIz1w13wTOtjSAxBDTzIjTT9qpacZMctb6KUw5xzIWWGwpMP3MPH/9Sqn3d4CScxhBXogKwqLHnLe0PHl5EjOve8LlEMqFNJ5aKzdeGi0ywXX69X0/iSG2agc0pivV7zZT2kx9Fg2e2UH3j8K7/vXavZdhgGjTyGz7zOok29pKNMlb4pyG3dbGHEWgkv4ViDEbwZQY5IzYgCYPgs2szrGN7IBs1Z9rOvvvsb8g98atXPDGwc18czDRUDSOCkQV2q5NVR8L3VpHw83WOG2aVz5979o3/14MzZVtkeKStamnuAUXx6LkVN5JgmZEuepo0Ac6yZtZbHMTc3gjymblG6ajmvP8mBZYqxeKsQPHXu7Ht+/MfqubMN2/VGsMpdJJsFONH/VkcscvP4XY4v1tVEra47nx3BiFEzq5xWORMJOqfYcQthjS+5YSqpTH1CbL1vYYZGIpvlshcAfnrvXX/jr3/53CkDK/2Y8eTOGAwpeTKrllcpr4qtCmNuq9IirTdimTpTR2JV2pjbqrAqtkq5Wk5mKXkwOKMnHzNWeoMnz59514/9qJ/eabAXpNxRrGFlyr7TuArSNO0i8ioo+N4i4ti6iNAdaLVW4JGHT33/J6+eOU+qZ9vK6hhlj+gAwxMUpzh5qpPy3Cy1686LqU1pjlbCZ61uVZ81v7ZjTkml1dOryIWj7VP3f+9f5KFHX6CDFV7xdDJTRvjwZvxkRH73Xq/xBQyZRecraOC2vlmXRt/ovGEOYw4fUyaSxpfcSHlKvU4k6rTHJwRpaYlIDG0GL2Z4+D0Pfu/3HO3sRR3K2LqUIq1b70ZEN7bt2ua1zbyVIAdu1zYWDnAjByWYeZvXtl1bN7aImLYdjkSXUhlb1OFof/fB7/04D7/7uUznMAJpSQnK1Pd3mDaZcfpQha+8Wgq+twozM3N3mJosJoxU8oXmR/MdfuiHnv2Ox2JWrKPYsPBxmWaQmTqDsp7ebTSmtjCR2npdArlxvOVbM1qJ0Whhvioc9hzV1DVyx6rfPviOP8T3ff+YZ7vQU8gdKc2czgmg0Os1udykXq/xZbhRUwYKlGlH8QDo2vHeGUbCh5xWqdP4khupZ71bsUOb3tXI0ymZEtHMyXCQUvrEJ178zo+m7S2DMlIoQ7JVwhI5HVdKBKVRGrlhPu1QiDm5rd9vxyd8TlhilRiSFUoZMUjbWy9950fTJz5xNeUeOoMYj1sLr0eNkxrr5zCa8JBXScH31hFgZkDOGWitmRmju/HCzvY7/86nv/bYB70HYz+Wc18BNbHKNGNaaVPzePx8l+y0xMtbI04zVQyZVSEHOyPb9AarvnvmIx+8+JM/wfm9DnbcC91AgbDmFtTMiBmrN+HnIvJ6eF3GF0YJ5mOZQQ+zmtZTwLAoZZXy8e2cvvnMR40vuZHWr9PSerPs6dQ0JwXVYG60w33Ytszu/t2f/rHVtz50ePZCI4FvES2xnNadBRGprVe2rX9ZZIuXvaeRIxJBBEujJbYI8EY6PHth9a0P3fW3/yY7e1ukPcAXzBinYwtY99tkPbxODl7k61HwvUVM06gpXfsPnW7PlDKDDPX0mTv+wT988rv+yItndklYGhstzGpiWbja+dCDuZEbzdK6lKF1VCBZs+QlrywNpUSyLqBhGaO7fPrCb3zsD97zD39yeW7v6rQMuAVOB4RBm9bo2G/aClPkZvG6ja9EbnRj6qa17j4GWGLZsZh3h2luUQzroLTRsmt8yQ1lYNN+nic9rQGS0aYi2o7sNTei3xrOXpz97M+88JEPXTl9IRwS80aBIbEos4NuvsizlWUjW5p2PAwzpt+NvLK8yLODbn6Y+5VRYN4gEc7BmdsuffTDs5/9meHMxZhtZ6f4SI6K+8njXoMo/bRhOFOv4DfrpyY3GQXfm811m6O+GkOihJ/mqOJHF+68/6d/dvtTP/il82eGoJTUe8wHdoOtkTR6boBnUhCeMMODoWdVYsStjl3UGZQxSqMryStP3nbq1ON//r6/9/cvn764gA4iESUDNk2VlUzybr27uiaj5K3tDR5f3nDLQ+mWMMDQYYY3otGtxt1xSVdrRN9aV3pvpvElN1IFkmO+fvIRaZrnOy5JMEhYkBlgRbe87d77fuonzj7+yS+dO7+0kiA1+sZOq/M2lrbKXRpLLL22ZC3baDFaHEUbS+QudT5sed0NnwclSMbSyhfPnjvzqU/c+5OfPrrtnhVl4Npz3eNeKiezj+suKNAw1bjLq6Xge4vrprt4G+aMCS7Pt7Z+5C+945//uyd//7c9t73rTsn4SDErQWc41bMvCA/LzcrI9HB3K2GZXGi1lpQ8tn7t1Jmvfss3vv1f/j37wU9dnZ1NdKcYiy9XsFqnh0piZamSjJHwoHtzfxoir6/XOr7CocwWeRihwsrcEuFsR779aJiV1pzSc7XjiTNnL7/3WzS+5EZqMJXlYNfqxSt1es6ao+BdWF6BwS4sKFf3dvnhxx/4V//6Kw994NL+XZAwyC37uJ1aHpbUcWbZAjNLKSVsbpk65mG5ZTW1Iax6UJ0Xd+/8ykMfeOe//jf88OOH+3tLut0AWE1PiaPLkRPTs+frNylcv61KB3mVFHxvceYRBnmHwWarcZ54tivDN73/9/yzf3Hhh374S/fff2XvPPQRySy7YwlrbAe9WUo5kcrIzHFfLx430pXdi59/4J0XfuRH7v3n/5L3P7ra2uuT7Y3kseVkQCOwkdzCji9G2kddbkWvdXzlDONy2zwgYDtyreSMR9SccSw43LFfefAd537kB8/8q5/T+JIbad0YIV3XegycCGpiakRSnBSQwSpnnWTdc/MtHnnkwX/6c2c+9fgXH3jwyvkzNSiFCFJHZ3i0kmm1eq0lE9E6I3VEUAo1uHrb2SceeNfZx//igz/3z3jkkefmW0Y541ijrJeuFbzgKeMwOsdNshNkJxEkdXWQV8k+9KEP/fzP//ybfRjyRmkcjd7NUrG63n1ykaiwh9viiIMl//E/f+XTf4sv/srWatVanF5c7UdySqM70KXi3oacDrdmi635ldl2/87f+84/9718+0fY3Yl5P23CY+v5pkpmdC852bSPpJW2rsEC8wZZr7XkFvJax9fFy1eN7gvnT//488+t4Psvnn/vs89HcGl376tnTifijrfdc+ETH+e7/jC7e9ispaTxJTfOtKs27niiGNPbLaBMO9hDJBzPQE2MA/N+YaSpQne14tKz/Lf/9IWf+qn0xSd2Lx9sLZdbyzrHPFrKRkRzsuUlcTQvR/P54el9f+D+B7/7u/kDj3H2IvPZMtFgJ2A50PckmnkirfdBTLXSIOfj7Socnyr0iKQyX/m6TaEk2AAACDVJREFUHnvsMQXfW9whRz3zrhnQnJyCaKRYpXxIKrA/wOIFnvgsn/nc5V/6lUuf+aWjX3t6Z1HnJY+Jhbfa99t333Pxfe+bv/+befgR3nkfO/PLKQMdbK+mRTqttchluhIN2PREoMC6J9rU/bRRizbXkVvIax1f9j9+8dd/45ln5tt/9ytfOoLveeC+975w+ba7715+4Fv7b/vg/F3fyJ33sj97bt5VOKXxJTdYsN5xG473FiZwo8G0u8pkKoQotMo4MuvAhmQrErBH5WDJF5/gf/2v+plfevozv3zliSfm7l3OEVHdlynt33//HQ89XB56hEcf5Z3vYKc/sA6YrffuDoZKKeRyXMa73tsNKkSQIa3rjIDp+Us4phd+8nUo+N581g93fsv3Xu/4Mw5hDvn4MgUVDzwi91fXez6yR5RxRWu0YBgYKosFiwXm7GyztU03J8/oOnJpPVfX82Axg1Q9FQOIFDGtQBgjKjZrpPX3nPZmTYzUXjdmeQt7w8fXcqANtPFPfufHnPyP/+2/wCrdjPlpuhkJMougJhx2GHNNGl9ywwQVynFfMAeOo+S0PcW0mXGFBt3xX51wLBq2IlUS0K8fAI8MS3zAK4dXWa4wYz5je4dUSD39nL5bFgYwKERPy9NsBhaWCcyAFaSphN1OMvdJh2w7qfQZTWXu8vU89thjukreotYbOrFd8UIUN6+4eYohFVKaN/Yq2ECfrlKGbu4dAb6zvqd3ML3WHqBCganzaB+cauADuZHb8yVvUbajs4YZZAJz64J0sjiiGITbujukyM3vdzq+ljsY9LQnzp/ta3f5jjtfAod92Fl/4eW2GaueFHT+fKkaX3LDjNOWg358hq+3r5+2R8OMWO9zNBU9MBiQmiWoW6TtMdGg5zBxJVO2O9vuKhwB5y9OX2z6wnPWxbvTzWW/wQjZoksLHCtTwW6/LvB1IFFtfYana6k3wDGjZRq1V/CVV0HB9ybzW5cw/faFTVam9QqJ1AMJ5tMHpg7i9MDuaz2CwknjpPMve+f05vqaVa7/J5bQ2SZveTdqfOVZc2x1Ck698kNzgNn0XWcaX3IjrYPjtTVux+zan5nZyV9m1z6jAHRMX2Dn5V927+t+4/V4wUjbv+n7Zrau+9R07XiuG5j5lZ8m8tvSEwIRERER2QgKviIiIiKyERR8RURERGQjKPiKiIiIyEZQ8BURERGRjaDgKyIiIiIbQcFXRERERDaCgq+IiIiIbAQFXxERERHZCAq+IiIiIrIRFHxFREREZCMo+IqIiIjIRlDwFREREZGNoOArIiIiIhtBwVdERERENoKCr4iIiIhsBAVfEREREdkICr4iIiIishEUfEVERERkIyj4ioiIiMhGUPAVERERkY2g4CsiIiIiG0HBV0REREQ2goKviIiIiGwEBV8RERER2QgKviIiIiKyERR8RURERGQjKPiKiIiIyEZQ8BURERGRjaDgKyIiIiIbQcFXRERERDaCgq+IiIiIbAQFXxERERHZCAq+IiIiIrIRFHxFREREZCMo+IqIiIjIRlDwFREREZGNoOArIiIiIhtBwVdERERENoKCr4iIiIhsBAVfEREREdkICr4iIiIishEUfEVERERkIyj4ioiIiMhGUPAVERERkY2g4CsiIiIiG0HBV0REREQ2goKviIiIiGwEBV8RERER2QgKviIiIiKyERR8RURERGQjKPiKiIiIyEZQ8BURERGRjaDgKyIiIiIbQcFXRERERDaCgq+IiIiIbAQFXxERERHZCAq+IiIiIrIRFHxFREREZCMo+IqIiIjIRlDwFREREZGNoOArIiIiIhtBwVdERERENoKCr4iIiIhsBAVfEREREdkICr4iIiIishEUfEVERERkIyj4ioiIiMhGUPAVERERkY2g4CsiIiIiG0HBV0REREQ2goKviIiIiGwEBV8RERER2QgKviIiIiKyERR8RURERGQjKPiKiIiIyEZQ8BURERGRjaDgKyIiIiIbQcFXRERERDaCgq+IiIiIbAQFXxERERHZCAq+IiIiIrIRFHxFREREZCMo+IqIiIjIRlDwFREREZGNoOArIiIiIhtBwVdERERENoKCr4iIiIhsBAVfEREREdkICr4iIiIishEUfEVERERkIyj4ioiIiMhGUPAVERERkY2g4CsiIiIiG0HBV0REREQ2goKviIiIiGwEBV8RERER2QgKviIiIiKyERR8RURERGQjKPiKiIiIyEZQ8BURERGRjaDgKyIiIiIbQcFXRERERDaCgq+IiIiIbAQFXxERERHZCAq+IiIiIrIRFHxFREREZCMo+IqIiIjIRlDwFREREZGNoOArIiIiIhtBwVdERERENkIyM3c/+XtEvIlHIyJyC/stL7C66oqIvEGuv8C6u5klIKV08jEza63pQiwi8rp7xYMGji/Eb9bxiIjcqiKitTZdYKdYO8Xd0lpz95SSmdVagVLKm3usIiK3pIi4/ioMmNnJO0VE5PViZjnn65Otu7fWSs45pRQRtdau66bLcWttysUiIvI6ekXGnYKvJtlERF5f7p5zzjmb2TiOpZSUUs65AK21nHPXdRyXOuSc3+wDFhG5BU0X2JP4q+utiMgbIed8coGdIm5rDSgRcfKxWmspZfokPYEQEXl9TVNvJ2W+0wMJdL0VEXm9TddbYAq3U9CNiDLNsk0fO6nuVc2ZiMjrbrq0nhSSnSws1vVWROT1dXJpncLtlHojwk6fPv3QQw/VWq8v6tWFWETkjTA1dvjsZz8LvPe9752WWLzZByUicqt5RZR191LKZz7zmf8PBYwuGR7y63IAAAAASUVORK5CYII=",
          "x": 0,
          "xref": "x",
          "y": 0,
          "yref": "y"
         }
        ],
        "template": {
         "data": {
          "bar": [
           {
            "error_x": {
             "color": "#2a3f5f"
            },
            "error_y": {
             "color": "#2a3f5f"
            },
            "marker": {
             "line": {
              "color": "#E5ECF6",
              "width": 0.5
             }
            },
            "type": "bar"
           }
          ],
          "barpolar": [
           {
            "marker": {
             "line": {
              "color": "#E5ECF6",
              "width": 0.5
             }
            },
            "type": "barpolar"
           }
          ],
          "carpet": [
           {
            "aaxis": {
             "endlinecolor": "#2a3f5f",
             "gridcolor": "white",
             "linecolor": "white",
             "minorgridcolor": "white",
             "startlinecolor": "#2a3f5f"
            },
            "baxis": {
             "endlinecolor": "#2a3f5f",
             "gridcolor": "white",
             "linecolor": "white",
             "minorgridcolor": "white",
             "startlinecolor": "#2a3f5f"
            },
            "type": "carpet"
           }
          ],
          "choropleth": [
           {
            "colorbar": {
             "outlinewidth": 0,
             "ticks": ""
            },
            "type": "choropleth"
           }
          ],
          "contour": [
           {
            "colorbar": {
             "outlinewidth": 0,
             "ticks": ""
            },
            "colorscale": [
             [
              0,
              "#0d0887"
             ],
             [
              0.1111111111111111,
              "#46039f"
             ],
             [
              0.2222222222222222,
              "#7201a8"
             ],
             [
              0.3333333333333333,
              "#9c179e"
             ],
             [
              0.4444444444444444,
              "#bd3786"
             ],
             [
              0.5555555555555556,
              "#d8576b"
             ],
             [
              0.6666666666666666,
              "#ed7953"
             ],
             [
              0.7777777777777778,
              "#fb9f3a"
             ],
             [
              0.8888888888888888,
              "#fdca26"
             ],
             [
              1,
              "#f0f921"
             ]
            ],
            "type": "contour"
           }
          ],
          "contourcarpet": [
           {
            "colorbar": {
             "outlinewidth": 0,
             "ticks": ""
            },
            "type": "contourcarpet"
           }
          ],
          "heatmap": [
           {
            "colorbar": {
             "outlinewidth": 0,
             "ticks": ""
            },
            "colorscale": [
             [
              0,
              "#0d0887"
             ],
             [
              0.1111111111111111,
              "#46039f"
             ],
             [
              0.2222222222222222,
              "#7201a8"
             ],
             [
              0.3333333333333333,
              "#9c179e"
             ],
             [
              0.4444444444444444,
              "#bd3786"
             ],
             [
              0.5555555555555556,
              "#d8576b"
             ],
             [
              0.6666666666666666,
              "#ed7953"
             ],
             [
              0.7777777777777778,
              "#fb9f3a"
             ],
             [
              0.8888888888888888,
              "#fdca26"
             ],
             [
              1,
              "#f0f921"
             ]
            ],
            "type": "heatmap"
           }
          ],
          "heatmapgl": [
           {
            "colorbar": {
             "outlinewidth": 0,
             "ticks": ""
            },
            "colorscale": [
             [
              0,
              "#0d0887"
             ],
             [
              0.1111111111111111,
              "#46039f"
             ],
             [
              0.2222222222222222,
              "#7201a8"
             ],
             [
              0.3333333333333333,
              "#9c179e"
             ],
             [
              0.4444444444444444,
              "#bd3786"
             ],
             [
              0.5555555555555556,
              "#d8576b"
             ],
             [
              0.6666666666666666,
              "#ed7953"
             ],
             [
              0.7777777777777778,
              "#fb9f3a"
             ],
             [
              0.8888888888888888,
              "#fdca26"
             ],
             [
              1,
              "#f0f921"
             ]
            ],
            "type": "heatmapgl"
           }
          ],
          "histogram": [
           {
            "marker": {
             "colorbar": {
              "outlinewidth": 0,
              "ticks": ""
             }
            },
            "type": "histogram"
           }
          ],
          "histogram2d": [
           {
            "colorbar": {
             "outlinewidth": 0,
             "ticks": ""
            },
            "colorscale": [
             [
              0,
              "#0d0887"
             ],
             [
              0.1111111111111111,
              "#46039f"
             ],
             [
              0.2222222222222222,
              "#7201a8"
             ],
             [
              0.3333333333333333,
              "#9c179e"
             ],
             [
              0.4444444444444444,
              "#bd3786"
             ],
             [
              0.5555555555555556,
              "#d8576b"
             ],
             [
              0.6666666666666666,
              "#ed7953"
             ],
             [
              0.7777777777777778,
              "#fb9f3a"
             ],
             [
              0.8888888888888888,
              "#fdca26"
             ],
             [
              1,
              "#f0f921"
             ]
            ],
            "type": "histogram2d"
           }
          ],
          "histogram2dcontour": [
           {
            "colorbar": {
             "outlinewidth": 0,
             "ticks": ""
            },
            "colorscale": [
             [
              0,
              "#0d0887"
             ],
             [
              0.1111111111111111,
              "#46039f"
             ],
             [
              0.2222222222222222,
              "#7201a8"
             ],
             [
              0.3333333333333333,
              "#9c179e"
             ],
             [
              0.4444444444444444,
              "#bd3786"
             ],
             [
              0.5555555555555556,
              "#d8576b"
             ],
             [
              0.6666666666666666,
              "#ed7953"
             ],
             [
              0.7777777777777778,
              "#fb9f3a"
             ],
             [
              0.8888888888888888,
              "#fdca26"
             ],
             [
              1,
              "#f0f921"
             ]
            ],
            "type": "histogram2dcontour"
           }
          ],
          "mesh3d": [
           {
            "colorbar": {
             "outlinewidth": 0,
             "ticks": ""
            },
            "type": "mesh3d"
           }
          ],
          "parcoords": [
           {
            "line": {
             "colorbar": {
              "outlinewidth": 0,
              "ticks": ""
             }
            },
            "type": "parcoords"
           }
          ],
          "pie": [
           {
            "automargin": true,
            "type": "pie"
           }
          ],
          "scatter": [
           {
            "marker": {
             "colorbar": {
              "outlinewidth": 0,
              "ticks": ""
             }
            },
            "type": "scatter"
           }
          ],
          "scatter3d": [
           {
            "line": {
             "colorbar": {
              "outlinewidth": 0,
              "ticks": ""
             }
            },
            "marker": {
             "colorbar": {
              "outlinewidth": 0,
              "ticks": ""
             }
            },
            "type": "scatter3d"
           }
          ],
          "scattercarpet": [
           {
            "marker": {
             "colorbar": {
              "outlinewidth": 0,
              "ticks": ""
             }
            },
            "type": "scattercarpet"
           }
          ],
          "scattergeo": [
           {
            "marker": {
             "colorbar": {
              "outlinewidth": 0,
              "ticks": ""
             }
            },
            "type": "scattergeo"
           }
          ],
          "scattergl": [
           {
            "marker": {
             "colorbar": {
              "outlinewidth": 0,
              "ticks": ""
             }
            },
            "type": "scattergl"
           }
          ],
          "scattermapbox": [
           {
            "marker": {
             "colorbar": {
              "outlinewidth": 0,
              "ticks": ""
             }
            },
            "type": "scattermapbox"
           }
          ],
          "scatterpolar": [
           {
            "marker": {
             "colorbar": {
              "outlinewidth": 0,
              "ticks": ""
             }
            },
            "type": "scatterpolar"
           }
          ],
          "scatterpolargl": [
           {
            "marker": {
             "colorbar": {
              "outlinewidth": 0,
              "ticks": ""
             }
            },
            "type": "scatterpolargl"
           }
          ],
          "scatterternary": [
           {
            "marker": {
             "colorbar": {
              "outlinewidth": 0,
              "ticks": ""
             }
            },
            "type": "scatterternary"
           }
          ],
          "surface": [
           {
            "colorbar": {
             "outlinewidth": 0,
             "ticks": ""
            },
            "colorscale": [
             [
              0,
              "#0d0887"
             ],
             [
              0.1111111111111111,
              "#46039f"
             ],
             [
              0.2222222222222222,
              "#7201a8"
             ],
             [
              0.3333333333333333,
              "#9c179e"
             ],
             [
              0.4444444444444444,
              "#bd3786"
             ],
             [
              0.5555555555555556,
              "#d8576b"
             ],
             [
              0.6666666666666666,
              "#ed7953"
             ],
             [
              0.7777777777777778,
              "#fb9f3a"
             ],
             [
              0.8888888888888888,
              "#fdca26"
             ],
             [
              1,
              "#f0f921"
             ]
            ],
            "type": "surface"
           }
          ],
          "table": [
           {
            "cells": {
             "fill": {
              "color": "#EBF0F8"
             },
             "line": {
              "color": "white"
             }
            },
            "header": {
             "fill": {
              "color": "#C8D4E3"
             },
             "line": {
              "color": "white"
             }
            },
            "type": "table"
           }
          ]
         },
         "layout": {
          "annotationdefaults": {
           "arrowcolor": "#2a3f5f",
           "arrowhead": 0,
           "arrowwidth": 1
          },
          "autotypenumbers": "strict",
          "coloraxis": {
           "colorbar": {
            "outlinewidth": 0,
            "ticks": ""
           }
          },
          "colorscale": {
           "diverging": [
            [
             0,
             "#8e0152"
            ],
            [
             0.1,
             "#c51b7d"
            ],
            [
             0.2,
             "#de77ae"
            ],
            [
             0.3,
             "#f1b6da"
            ],
            [
             0.4,
             "#fde0ef"
            ],
            [
             0.5,
             "#f7f7f7"
            ],
            [
             0.6,
             "#e6f5d0"
            ],
            [
             0.7,
             "#b8e186"
            ],
            [
             0.8,
             "#7fbc41"
            ],
            [
             0.9,
             "#4d9221"
            ],
            [
             1,
             "#276419"
            ]
           ],
           "sequential": [
            [
             0,
             "#0d0887"
            ],
            [
             0.1111111111111111,
             "#46039f"
            ],
            [
             0.2222222222222222,
             "#7201a8"
            ],
            [
             0.3333333333333333,
             "#9c179e"
            ],
            [
             0.4444444444444444,
             "#bd3786"
            ],
            [
             0.5555555555555556,
             "#d8576b"
            ],
            [
             0.6666666666666666,
             "#ed7953"
            ],
            [
             0.7777777777777778,
             "#fb9f3a"
            ],
            [
             0.8888888888888888,
             "#fdca26"
            ],
            [
             1,
             "#f0f921"
            ]
           ],
           "sequentialminus": [
            [
             0,
             "#0d0887"
            ],
            [
             0.1111111111111111,
             "#46039f"
            ],
            [
             0.2222222222222222,
             "#7201a8"
            ],
            [
             0.3333333333333333,
             "#9c179e"
            ],
            [
             0.4444444444444444,
             "#bd3786"
            ],
            [
             0.5555555555555556,
             "#d8576b"
            ],
            [
             0.6666666666666666,
             "#ed7953"
            ],
            [
             0.7777777777777778,
             "#fb9f3a"
            ],
            [
             0.8888888888888888,
             "#fdca26"
            ],
            [
             1,
             "#f0f921"
            ]
           ]
          },
          "colorway": [
           "#636efa",
           "#EF553B",
           "#00cc96",
           "#ab63fa",
           "#FFA15A",
           "#19d3f3",
           "#FF6692",
           "#B6E880",
           "#FF97FF",
           "#FECB52"
          ],
          "font": {
           "color": "#2a3f5f"
          },
          "geo": {
           "bgcolor": "white",
           "lakecolor": "white",
           "landcolor": "#E5ECF6",
           "showlakes": true,
           "showland": true,
           "subunitcolor": "white"
          },
          "hoverlabel": {
           "align": "left"
          },
          "hovermode": "closest",
          "mapbox": {
           "style": "light"
          },
          "paper_bgcolor": "white",
          "plot_bgcolor": "#E5ECF6",
          "polar": {
           "angularaxis": {
            "gridcolor": "white",
            "linecolor": "white",
            "ticks": ""
           },
           "bgcolor": "#E5ECF6",
           "radialaxis": {
            "gridcolor": "white",
            "linecolor": "white",
            "ticks": ""
           }
          },
          "scene": {
           "xaxis": {
            "backgroundcolor": "#E5ECF6",
            "gridcolor": "white",
            "gridwidth": 2,
            "linecolor": "white",
            "showbackground": true,
            "ticks": "",
            "zerolinecolor": "white"
           },
           "yaxis": {
            "backgroundcolor": "#E5ECF6",
            "gridcolor": "white",
            "gridwidth": 2,
            "linecolor": "white",
            "showbackground": true,
            "ticks": "",
            "zerolinecolor": "white"
           },
           "zaxis": {
            "backgroundcolor": "#E5ECF6",
            "gridcolor": "white",
            "gridwidth": 2,
            "linecolor": "white",
            "showbackground": true,
            "ticks": "",
            "zerolinecolor": "white"
           }
          },
          "shapedefaults": {
           "line": {
            "color": "#2a3f5f"
           }
          },
          "ternary": {
           "aaxis": {
            "gridcolor": "white",
            "linecolor": "white",
            "ticks": ""
           },
           "baxis": {
            "gridcolor": "white",
            "linecolor": "white",
            "ticks": ""
           },
           "bgcolor": "#E5ECF6",
           "caxis": {
            "gridcolor": "white",
            "linecolor": "white",
            "ticks": ""
           }
          },
          "title": {
           "x": 0.05
          },
          "xaxis": {
           "automargin": true,
           "gridcolor": "white",
           "linecolor": "white",
           "ticks": "",
           "title": {
            "standoff": 15
           },
           "zerolinecolor": "white",
           "zerolinewidth": 2
          },
          "yaxis": {
           "automargin": true,
           "gridcolor": "white",
           "linecolor": "white",
           "ticks": "",
           "title": {
            "standoff": 15
           },
           "zerolinecolor": "white",
           "zerolinewidth": 2
          }
         }
        },
        "width": 1163,
        "xaxis": {
         "autorange": true,
         "visible": false
        },
        "yaxis": {
         "autorange": "reversed",
         "visible": false
        }
       }
      },
      "text/html": [
       "<div>                            <div id=\"cc87d0ad-5d6f-47eb-9dac-9b25da921093\" class=\"plotly-graph-div\" style=\"height:783px; width:1163px;\"></div>            <script type=\"text/javascript\">                require([\"plotly\"], function(Plotly) {                    window.PLOTLYENV=window.PLOTLYENV || {};                                    if (document.getElementById(\"cc87d0ad-5d6f-47eb-9dac-9b25da921093\")) {                    Plotly.newPlot(                        \"cc87d0ad-5d6f-47eb-9dac-9b25da921093\",                        [{\"connectgaps\": true, \"hoverinfo\": \"none\", \"opacity\": 0.5, \"showscale\": false, \"type\": \"contour\", \"x\": [0, 10, 25, 25, 25, 45, 65, 65, 65, 90, 100, 100, 110, 130], \"y\": [0, 45, 20, 45, 70, 45, 20, 45, 70, 45, 20, 70, 45, 90], \"z\": [0.0, 4053393.846153846, 6224933.6283185845, 8137062.5, 7153290.476190476, 8369899.538812785, 6920217.391304348, 10084888.568571428, 7480000.0, 11956178.57142857, 10668529.72972973, 12072073.170731707, 9576911.35734072, 0.0]}],                        {\"autosize\": false, \"height\": 783, \"images\": [{\"layer\": \"below\", \"opacity\": 1, \"sizex\": 130, \"sizey\": 90, \"sizing\": \"stretch\", \"source\": \"data:image/png;base64,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\", \"x\": 0, \"xref\": \"x\", \"y\": 0, \"yref\": \"y\"}], \"template\": {\"data\": {\"bar\": [{\"error_x\": {\"color\": \"#2a3f5f\"}, \"error_y\": {\"color\": \"#2a3f5f\"}, \"marker\": {\"line\": {\"color\": \"#E5ECF6\", \"width\": 0.5}}, \"type\": \"bar\"}], \"barpolar\": [{\"marker\": {\"line\": {\"color\": \"#E5ECF6\", \"width\": 0.5}}, \"type\": \"barpolar\"}], \"carpet\": [{\"aaxis\": {\"endlinecolor\": \"#2a3f5f\", \"gridcolor\": \"white\", \"linecolor\": \"white\", \"minorgridcolor\": \"white\", \"startlinecolor\": \"#2a3f5f\"}, \"baxis\": {\"endlinecolor\": \"#2a3f5f\", \"gridcolor\": \"white\", \"linecolor\": \"white\", \"minorgridcolor\": \"white\", \"startlinecolor\": \"#2a3f5f\"}, \"type\": \"carpet\"}], \"choropleth\": [{\"colorbar\": {\"outlinewidth\": 0, \"ticks\": \"\"}, \"type\": \"choropleth\"}], \"contour\": [{\"colorbar\": {\"outlinewidth\": 0, \"ticks\": \"\"}, \"colorscale\": [[0.0, \"#0d0887\"], [0.1111111111111111, \"#46039f\"], [0.2222222222222222, \"#7201a8\"], [0.3333333333333333, \"#9c179e\"], [0.4444444444444444, \"#bd3786\"], [0.5555555555555556, \"#d8576b\"], [0.6666666666666666, \"#ed7953\"], [0.7777777777777778, \"#fb9f3a\"], [0.8888888888888888, \"#fdca26\"], [1.0, \"#f0f921\"]], \"type\": \"contour\"}], \"contourcarpet\": [{\"colorbar\": {\"outlinewidth\": 0, \"ticks\": \"\"}, \"type\": \"contourcarpet\"}], \"heatmap\": [{\"colorbar\": {\"outlinewidth\": 0, \"ticks\": \"\"}, \"colorscale\": [[0.0, \"#0d0887\"], [0.1111111111111111, \"#46039f\"], [0.2222222222222222, \"#7201a8\"], [0.3333333333333333, \"#9c179e\"], [0.4444444444444444, \"#bd3786\"], [0.5555555555555556, \"#d8576b\"], [0.6666666666666666, \"#ed7953\"], [0.7777777777777778, \"#fb9f3a\"], [0.8888888888888888, \"#fdca26\"], [1.0, \"#f0f921\"]], \"type\": \"heatmap\"}], \"heatmapgl\": [{\"colorbar\": {\"outlinewidth\": 0, \"ticks\": \"\"}, \"colorscale\": [[0.0, \"#0d0887\"], [0.1111111111111111, \"#46039f\"], [0.2222222222222222, \"#7201a8\"], [0.3333333333333333, \"#9c179e\"], [0.4444444444444444, \"#bd3786\"], [0.5555555555555556, \"#d8576b\"], [0.6666666666666666, \"#ed7953\"], [0.7777777777777778, \"#fb9f3a\"], [0.8888888888888888, \"#fdca26\"], [1.0, \"#f0f921\"]], \"type\": \"heatmapgl\"}], \"histogram\": [{\"marker\": {\"colorbar\": {\"outlinewidth\": 0, \"ticks\": \"\"}}, \"type\": \"histogram\"}], \"histogram2d\": [{\"colorbar\": {\"outlinewidth\": 0, \"ticks\": \"\"}, \"colorscale\": [[0.0, \"#0d0887\"], [0.1111111111111111, \"#46039f\"], [0.2222222222222222, \"#7201a8\"], [0.3333333333333333, \"#9c179e\"], [0.4444444444444444, \"#bd3786\"], [0.5555555555555556, \"#d8576b\"], [0.6666666666666666, \"#ed7953\"], [0.7777777777777778, \"#fb9f3a\"], [0.8888888888888888, \"#fdca26\"], [1.0, \"#f0f921\"]], \"type\": \"histogram2d\"}], \"histogram2dcontour\": [{\"colorbar\": {\"outlinewidth\": 0, \"ticks\": \"\"}, \"colorscale\": [[0.0, \"#0d0887\"], [0.1111111111111111, \"#46039f\"], [0.2222222222222222, \"#7201a8\"], [0.3333333333333333, \"#9c179e\"], [0.4444444444444444, \"#bd3786\"], [0.5555555555555556, \"#d8576b\"], [0.6666666666666666, \"#ed7953\"], [0.7777777777777778, \"#fb9f3a\"], [0.8888888888888888, \"#fdca26\"], [1.0, \"#f0f921\"]], \"type\": \"histogram2dcontour\"}], \"mesh3d\": [{\"colorbar\": {\"outlinewidth\": 0, \"ticks\": \"\"}, \"type\": \"mesh3d\"}], \"parcoords\": [{\"line\": {\"colorbar\": {\"outlinewidth\": 0, \"ticks\": \"\"}}, \"type\": \"parcoords\"}], \"pie\": [{\"automargin\": true, \"type\": \"pie\"}], \"scatter\": [{\"marker\": {\"colorbar\": {\"outlinewidth\": 0, \"ticks\": \"\"}}, \"type\": \"scatter\"}], \"scatter3d\": [{\"line\": {\"colorbar\": {\"outlinewidth\": 0, \"ticks\": \"\"}}, \"marker\": {\"colorbar\": {\"outlinewidth\": 0, \"ticks\": \"\"}}, \"type\": \"scatter3d\"}], \"scattercarpet\": [{\"marker\": {\"colorbar\": {\"outlinewidth\": 0, \"ticks\": \"\"}}, \"type\": \"scattercarpet\"}], \"scattergeo\": [{\"marker\": {\"colorbar\": {\"outlinewidth\": 0, \"ticks\": \"\"}}, \"type\": \"scattergeo\"}], \"scattergl\": [{\"marker\": {\"colorbar\": {\"outlinewidth\": 0, \"ticks\": \"\"}}, \"type\": \"scattergl\"}], \"scattermapbox\": [{\"marker\": {\"colorbar\": {\"outlinewidth\": 0, \"ticks\": \"\"}}, \"type\": \"scattermapbox\"}], \"scatterpolar\": [{\"marker\": {\"colorbar\": {\"outlinewidth\": 0, \"ticks\": \"\"}}, \"type\": \"scatterpolar\"}], \"scatterpolargl\": [{\"marker\": {\"colorbar\": {\"outlinewidth\": 0, \"ticks\": \"\"}}, \"type\": \"scatterpolargl\"}], \"scatterternary\": [{\"marker\": {\"colorbar\": {\"outlinewidth\": 0, \"ticks\": \"\"}}, \"type\": \"scatterternary\"}], \"surface\": [{\"colorbar\": {\"outlinewidth\": 0, \"ticks\": \"\"}, \"colorscale\": [[0.0, \"#0d0887\"], [0.1111111111111111, \"#46039f\"], [0.2222222222222222, \"#7201a8\"], [0.3333333333333333, \"#9c179e\"], [0.4444444444444444, \"#bd3786\"], [0.5555555555555556, \"#d8576b\"], [0.6666666666666666, \"#ed7953\"], [0.7777777777777778, \"#fb9f3a\"], [0.8888888888888888, \"#fdca26\"], [1.0, \"#f0f921\"]], \"type\": \"surface\"}], \"table\": [{\"cells\": {\"fill\": {\"color\": \"#EBF0F8\"}, \"line\": {\"color\": \"white\"}}, \"header\": {\"fill\": {\"color\": \"#C8D4E3\"}, \"line\": {\"color\": \"white\"}}, \"type\": \"table\"}]}, \"layout\": {\"annotationdefaults\": {\"arrowcolor\": \"#2a3f5f\", \"arrowhead\": 0, \"arrowwidth\": 1}, \"autotypenumbers\": \"strict\", \"coloraxis\": {\"colorbar\": {\"outlinewidth\": 0, \"ticks\": \"\"}}, \"colorscale\": {\"diverging\": [[0, \"#8e0152\"], [0.1, \"#c51b7d\"], [0.2, \"#de77ae\"], [0.3, \"#f1b6da\"], [0.4, \"#fde0ef\"], [0.5, \"#f7f7f7\"], [0.6, \"#e6f5d0\"], [0.7, \"#b8e186\"], [0.8, \"#7fbc41\"], [0.9, \"#4d9221\"], [1, \"#276419\"]], \"sequential\": [[0.0, \"#0d0887\"], [0.1111111111111111, \"#46039f\"], [0.2222222222222222, \"#7201a8\"], [0.3333333333333333, \"#9c179e\"], [0.4444444444444444, \"#bd3786\"], [0.5555555555555556, \"#d8576b\"], [0.6666666666666666, \"#ed7953\"], [0.7777777777777778, \"#fb9f3a\"], [0.8888888888888888, \"#fdca26\"], [1.0, \"#f0f921\"]], \"sequentialminus\": [[0.0, \"#0d0887\"], [0.1111111111111111, \"#46039f\"], [0.2222222222222222, \"#7201a8\"], [0.3333333333333333, \"#9c179e\"], [0.4444444444444444, \"#bd3786\"], [0.5555555555555556, \"#d8576b\"], [0.6666666666666666, \"#ed7953\"], [0.7777777777777778, \"#fb9f3a\"], [0.8888888888888888, \"#fdca26\"], [1.0, \"#f0f921\"]]}, \"colorway\": [\"#636efa\", \"#EF553B\", \"#00cc96\", \"#ab63fa\", \"#FFA15A\", \"#19d3f3\", \"#FF6692\", \"#B6E880\", \"#FF97FF\", \"#FECB52\"], \"font\": {\"color\": \"#2a3f5f\"}, \"geo\": {\"bgcolor\": \"white\", \"lakecolor\": \"white\", \"landcolor\": \"#E5ECF6\", \"showlakes\": true, \"showland\": true, \"subunitcolor\": \"white\"}, \"hoverlabel\": {\"align\": \"left\"}, \"hovermode\": \"closest\", \"mapbox\": {\"style\": \"light\"}, \"paper_bgcolor\": \"white\", \"plot_bgcolor\": \"#E5ECF6\", \"polar\": {\"angularaxis\": {\"gridcolor\": \"white\", \"linecolor\": \"white\", \"ticks\": \"\"}, \"bgcolor\": \"#E5ECF6\", \"radialaxis\": {\"gridcolor\": \"white\", \"linecolor\": \"white\", \"ticks\": \"\"}}, \"scene\": {\"xaxis\": {\"backgroundcolor\": \"#E5ECF6\", \"gridcolor\": \"white\", \"gridwidth\": 2, \"linecolor\": \"white\", \"showbackground\": true, \"ticks\": \"\", \"zerolinecolor\": \"white\"}, \"yaxis\": {\"backgroundcolor\": \"#E5ECF6\", \"gridcolor\": \"white\", \"gridwidth\": 2, \"linecolor\": \"white\", \"showbackground\": true, \"ticks\": \"\", \"zerolinecolor\": \"white\"}, \"zaxis\": {\"backgroundcolor\": \"#E5ECF6\", \"gridcolor\": \"white\", \"gridwidth\": 2, \"linecolor\": \"white\", \"showbackground\": true, \"ticks\": \"\", \"zerolinecolor\": \"white\"}}, \"shapedefaults\": {\"line\": {\"color\": \"#2a3f5f\"}}, \"ternary\": {\"aaxis\": {\"gridcolor\": \"white\", \"linecolor\": \"white\", \"ticks\": \"\"}, \"baxis\": {\"gridcolor\": \"white\", \"linecolor\": \"white\", \"ticks\": \"\"}, \"bgcolor\": \"#E5ECF6\", \"caxis\": {\"gridcolor\": \"white\", \"linecolor\": \"white\", \"ticks\": \"\"}}, \"title\": {\"x\": 0.05}, \"xaxis\": {\"automargin\": true, \"gridcolor\": \"white\", \"linecolor\": \"white\", \"ticks\": \"\", \"title\": {\"standoff\": 15}, \"zerolinecolor\": \"white\", \"zerolinewidth\": 2}, \"yaxis\": {\"automargin\": true, \"gridcolor\": \"white\", \"linecolor\": \"white\", \"ticks\": \"\", \"title\": {\"standoff\": 15}, \"zerolinecolor\": \"white\", \"zerolinewidth\": 2}}}, \"width\": 1163, \"xaxis\": {\"autorange\": true, \"visible\": false}, \"yaxis\": {\"autorange\": \"reversed\", \"visible\": false}},                        {\"responsive\": true}                    ).then(function(){\n",
       "                            \n",
       "var gd = document.getElementById('cc87d0ad-5d6f-47eb-9dac-9b25da921093');\n",
       "var x = new MutationObserver(function (mutations, observer) {{\n",
       "        var display = window.getComputedStyle(gd).display;\n",
       "        if (!display || display === 'none') {{\n",
       "            console.log([gd, 'removed!']);\n",
       "            Plotly.purge(gd);\n",
       "            observer.disconnect();\n",
       "        }}\n",
       "}});\n",
       "\n",
       "// Listen for the removal of the full notebook cells\n",
       "var notebookContainer = gd.closest('#notebook-container');\n",
       "if (notebookContainer) {{\n",
       "    x.observe(notebookContainer, {childList: true});\n",
       "}}\n",
       "\n",
       "// Listen for the clearing of the current output cell\n",
       "var outputEl = gd.closest('.output');\n",
       "if (outputEl) {{\n",
       "    x.observe(outputEl, {childList: true});\n",
       "}}\n",
       "\n",
       "                        })                };                });            </script>        </div>"
      ]
     },
     "metadata": {},
     "output_type": "display_data"
    }
   ],
   "source": [
    "img = Image.open('./pitch_test.jpg')\n",
    "fig = go.Figure()\n",
    "\n",
    "fig.add_trace(go.Contour(\n",
    "        x=pitch.grouped_position_data[\"X\"], \n",
    "        y=pitch.grouped_position_data[\"Y\"], \n",
    "        z=pitch.grouped_position_data[\"market_value\"],\n",
    "        showscale=False, \n",
    "        connectgaps=True, \n",
    "        hoverinfo=\"none\",\n",
    "        #zsmooth=\"best\",\n",
    "        opacity=0.5))\n",
    "\n",
    "\n",
    "# axis hide、yaxis reversed\n",
    "fig.update_layout(\n",
    "    autosize=False,\n",
    "    width=1163,\n",
    "    height=783,\n",
    "    xaxis=dict(visible=False,autorange=True),\n",
    "    yaxis=dict(visible=False,autorange='reversed')\n",
    ")\n",
    "\n",
    "# background image add\n",
    "fig.add_layout_image(\n",
    "    dict(source=img,\n",
    "         xref='x',\n",
    "         yref='y',\n",
    "         x=0,\n",
    "         y=0,\n",
    "         sizex=130,\n",
    "         sizey=90,\n",
    "         sizing='stretch',\n",
    "         opacity=1,\n",
    "         layer='below')\n",
    ")\n",
    "\n",
    "\n",
    "fig.show()"
   ]
  },
  {
   "cell_type": "code",
   "execution_count": 206,
   "id": "4fc7975e",
   "metadata": {},
   "outputs": [
    {
     "data": {
      "text/html": [
       "<div>\n",
       "<style scoped>\n",
       "    .dataframe tbody tr th:only-of-type {\n",
       "        vertical-align: middle;\n",
       "    }\n",
       "\n",
       "    .dataframe tbody tr th {\n",
       "        vertical-align: top;\n",
       "    }\n",
       "\n",
       "    .dataframe thead th {\n",
       "        text-align: right;\n",
       "    }\n",
       "</style>\n",
       "<table border=\"1\" class=\"dataframe\">\n",
       "  <thead>\n",
       "    <tr style=\"text-align: right;\">\n",
       "      <th></th>\n",
       "      <th>X</th>\n",
       "      <th>Y</th>\n",
       "      <th>market_value</th>\n",
       "    </tr>\n",
       "  </thead>\n",
       "  <tbody>\n",
       "    <tr>\n",
       "      <th>0</th>\n",
       "      <td>10</td>\n",
       "      <td>45</td>\n",
       "      <td>4.053394e+06</td>\n",
       "    </tr>\n",
       "    <tr>\n",
       "      <th>1</th>\n",
       "      <td>25</td>\n",
       "      <td>20</td>\n",
       "      <td>6.224934e+06</td>\n",
       "    </tr>\n",
       "    <tr>\n",
       "      <th>2</th>\n",
       "      <td>25</td>\n",
       "      <td>45</td>\n",
       "      <td>8.137062e+06</td>\n",
       "    </tr>\n",
       "    <tr>\n",
       "      <th>3</th>\n",
       "      <td>25</td>\n",
       "      <td>70</td>\n",
       "      <td>7.153290e+06</td>\n",
       "    </tr>\n",
       "    <tr>\n",
       "      <th>4</th>\n",
       "      <td>45</td>\n",
       "      <td>45</td>\n",
       "      <td>8.369900e+06</td>\n",
       "    </tr>\n",
       "    <tr>\n",
       "      <th>5</th>\n",
       "      <td>65</td>\n",
       "      <td>20</td>\n",
       "      <td>6.920217e+06</td>\n",
       "    </tr>\n",
       "    <tr>\n",
       "      <th>6</th>\n",
       "      <td>65</td>\n",
       "      <td>45</td>\n",
       "      <td>1.008489e+07</td>\n",
       "    </tr>\n",
       "    <tr>\n",
       "      <th>7</th>\n",
       "      <td>65</td>\n",
       "      <td>70</td>\n",
       "      <td>7.480000e+06</td>\n",
       "    </tr>\n",
       "    <tr>\n",
       "      <th>8</th>\n",
       "      <td>90</td>\n",
       "      <td>45</td>\n",
       "      <td>1.195618e+07</td>\n",
       "    </tr>\n",
       "    <tr>\n",
       "      <th>9</th>\n",
       "      <td>100</td>\n",
       "      <td>20</td>\n",
       "      <td>1.066853e+07</td>\n",
       "    </tr>\n",
       "    <tr>\n",
       "      <th>10</th>\n",
       "      <td>100</td>\n",
       "      <td>70</td>\n",
       "      <td>1.207207e+07</td>\n",
       "    </tr>\n",
       "    <tr>\n",
       "      <th>11</th>\n",
       "      <td>110</td>\n",
       "      <td>45</td>\n",
       "      <td>9.576911e+06</td>\n",
       "    </tr>\n",
       "  </tbody>\n",
       "</table>\n",
       "</div>"
      ],
      "text/plain": [
       "      X   Y  market_value\n",
       "0    10  45  4.053394e+06\n",
       "1    25  20  6.224934e+06\n",
       "2    25  45  8.137062e+06\n",
       "3    25  70  7.153290e+06\n",
       "4    45  45  8.369900e+06\n",
       "5    65  20  6.920217e+06\n",
       "6    65  45  1.008489e+07\n",
       "7    65  70  7.480000e+06\n",
       "8    90  45  1.195618e+07\n",
       "9   100  20  1.066853e+07\n",
       "10  100  70  1.207207e+07\n",
       "11  110  45  9.576911e+06"
      ]
     },
     "execution_count": 206,
     "metadata": {},
     "output_type": "execute_result"
    }
   ],
   "source": [
    "pitch.grouped_position_data"
   ]
  },
  {
   "cell_type": "code",
   "execution_count": null,
   "id": "941081bf",
   "metadata": {},
   "outputs": [],
   "source": []
  }
 ],
 "metadata": {
  "kernelspec": {
   "display_name": "Python 3",
   "language": "python",
   "name": "python3"
  },
  "language_info": {
   "codemirror_mode": {
    "name": "ipython",
    "version": 3
   },
   "file_extension": ".py",
   "mimetype": "text/x-python",
   "name": "python",
   "nbconvert_exporter": "python",
   "pygments_lexer": "ipython3",
   "version": "3.9.2"
  }
 },
 "nbformat": 4,
 "nbformat_minor": 5
}
